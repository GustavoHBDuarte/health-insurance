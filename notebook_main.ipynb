{
 "cells": [
  {
   "cell_type": "markdown",
   "id": "d80133de",
   "metadata": {
    "ExecuteTime": {
     "end_time": "2022-04-04T02:05:06.715516Z",
     "start_time": "2022-04-04T02:05:06.711122Z"
    }
   },
   "source": [
    "# <font color=\"green\"> Library Imports </font>"
   ]
  },
  {
   "cell_type": "code",
   "execution_count": 46,
   "id": "bb14d387",
   "metadata": {
    "ExecuteTime": {
     "end_time": "2022-04-04T04:03:24.432051Z",
     "start_time": "2022-04-04T04:03:24.425909Z"
    }
   },
   "outputs": [],
   "source": [
    "import pandas as pd\n",
    "import numpy as np\n",
    "import seaborn as sns\n",
    "import matplotlib.pyplot as plt\n",
    "\n",
    "from sqlalchemy import create_engine\n",
    "\n",
    "import warnings"
   ]
  },
  {
   "cell_type": "markdown",
   "id": "2e8671f3",
   "metadata": {
    "ExecuteTime": {
     "end_time": "2022-04-04T02:05:06.715516Z",
     "start_time": "2022-04-04T02:05:06.711122Z"
    }
   },
   "source": [
    "# <font color=\"green\"> Helper functions </font>"
   ]
  },
  {
   "cell_type": "code",
   "execution_count": 47,
   "id": "39c0f16c",
   "metadata": {
    "ExecuteTime": {
     "end_time": "2022-04-04T04:03:25.684700Z",
     "start_time": "2022-04-04T04:03:25.679551Z"
    }
   },
   "outputs": [],
   "source": [
    "def jupyter_settings():\n",
    "    \n",
    "    pd.options.display.max_columns = None   \n",
    "    \n",
    "\n",
    "\n",
    "warnings.filterwarnings(\"ignore\")\n",
    "jupyter_settings()"
   ]
  },
  {
   "cell_type": "markdown",
   "id": "43461284",
   "metadata": {
    "ExecuteTime": {
     "end_time": "2022-04-04T02:15:14.271780Z",
     "start_time": "2022-04-04T02:15:14.269408Z"
    }
   },
   "source": [
    "# 1.0 Data import and basic inspection"
   ]
  },
  {
   "cell_type": "markdown",
   "id": "132fa730",
   "metadata": {
    "ExecuteTime": {
     "end_time": "2022-04-04T02:05:06.715516Z",
     "start_time": "2022-04-04T02:05:06.711122Z"
    }
   },
   "source": [
    "## <font color=\"gray\"> 1.1 Data loading and checking </font>"
   ]
  },
  {
   "cell_type": "code",
   "execution_count": 48,
   "id": "6ada5e6b",
   "metadata": {
    "ExecuteTime": {
     "end_time": "2022-04-04T04:03:27.460127Z",
     "start_time": "2022-04-04T04:03:27.455066Z"
    }
   },
   "outputs": [],
   "source": [
    "# Data loading\n",
    "\n",
    "## Importing db credentials\n",
    "\n",
    "db_credentials = pd.read_csv('/mnt/d/Gustavo/health-insurance/db_credentials.txt', header=None)\n",
    "\n",
    "host = db_credentials[0][0]\n",
    "\n",
    "port = db_credentials[1][0]\n",
    "\n",
    "database = db_credentials[2][0]\n",
    "\n",
    "user = db_credentials[3][0]\n",
    "\n",
    "psw = db_credentials[4][0]\n"
   ]
  },
  {
   "cell_type": "code",
   "execution_count": 49,
   "id": "cb6f5a0a",
   "metadata": {
    "ExecuteTime": {
     "end_time": "2022-04-04T04:04:39.923356Z",
     "start_time": "2022-04-04T04:03:28.538401Z"
    },
    "code_folding": [],
    "scrolled": true
   },
   "outputs": [],
   "source": [
    "# Selecting data from database - SQL query ('insurance' table - pa004 schema)\n",
    "\n",
    "query = \"\"\"\n",
    "    SELECT *\n",
    "    FROM pa004.insurance\n",
    "\n",
    "\"\"\"\n",
    "\n",
    "# Connecting to Postgres database\n",
    "\n",
    "engine = create_engine('postgresql://{}:{}@{}:{}/{}'.format(user, psw, host, port, database))\n",
    "\n",
    "\n",
    "# executing sql query\n",
    "\n",
    "df_insurance = pd.read_sql_query(query, con=engine)\n",
    "\n",
    "# closing database connection\n",
    "\n",
    "engine.dispose()"
   ]
  },
  {
   "cell_type": "code",
   "execution_count": 50,
   "id": "44343227",
   "metadata": {
    "ExecuteTime": {
     "end_time": "2022-04-04T04:04:54.707009Z",
     "start_time": "2022-04-04T04:04:46.062080Z"
    },
    "code_folding": [],
    "scrolled": true
   },
   "outputs": [],
   "source": [
    "# Selecting data from database - SQL query ('users' table - pa004 schema)\n",
    "\n",
    "query = \"\"\"\n",
    "    SELECT *\n",
    "    FROM pa004.users\n",
    "\n",
    "\"\"\"\n",
    "\n",
    "# Connecting to Postgres database\n",
    "\n",
    "engine = create_engine('postgresql://{}:{}@{}:{}/{}'.format(user, psw, host, port, database))\n",
    "\n",
    "\n",
    "# executing sql query\n",
    "\n",
    "df_users = pd.read_sql_query(query, con=engine)\n",
    "\n",
    "# closing database connection\n",
    "\n",
    "engine.dispose()"
   ]
  },
  {
   "cell_type": "code",
   "execution_count": 55,
   "id": "b7bdaf55",
   "metadata": {
    "ExecuteTime": {
     "end_time": "2022-04-04T04:07:41.260550Z",
     "start_time": "2022-04-04T04:07:20.350843Z"
    },
    "code_folding": [],
    "scrolled": true
   },
   "outputs": [],
   "source": [
    "# Selecting data from database - SQL query ('vehicle' table - pa004 schema)\n",
    "\n",
    "query = \"\"\"\n",
    "    SELECT *\n",
    "    FROM pa004.vehicle\n",
    "\n",
    "\"\"\"\n",
    "\n",
    "# Connecting to Postgres database\n",
    "\n",
    "engine = create_engine('postgresql://{}:{}@{}:{}/{}'.format(user, psw, host, port, database))\n",
    "\n",
    "\n",
    "# executing sql query\n",
    "\n",
    "df_vehicle = pd.read_sql_query(query, con=engine)\n",
    "\n",
    "# closing database connection\n",
    "\n",
    "engine.dispose()"
   ]
  },
  {
   "cell_type": "code",
   "execution_count": 52,
   "id": "5e47a4e7",
   "metadata": {
    "ExecuteTime": {
     "end_time": "2022-04-04T04:05:41.437261Z",
     "start_time": "2022-04-04T04:05:41.430831Z"
    }
   },
   "outputs": [
    {
     "data": {
      "text/html": [
       "<div>\n",
       "<style scoped>\n",
       "    .dataframe tbody tr th:only-of-type {\n",
       "        vertical-align: middle;\n",
       "    }\n",
       "\n",
       "    .dataframe tbody tr th {\n",
       "        vertical-align: top;\n",
       "    }\n",
       "\n",
       "    .dataframe thead th {\n",
       "        text-align: right;\n",
       "    }\n",
       "</style>\n",
       "<table border=\"1\" class=\"dataframe\">\n",
       "  <thead>\n",
       "    <tr style=\"text-align: right;\">\n",
       "      <th></th>\n",
       "      <th>id</th>\n",
       "      <th>previously_insured</th>\n",
       "      <th>annual_premium</th>\n",
       "      <th>vintage</th>\n",
       "      <th>response</th>\n",
       "    </tr>\n",
       "  </thead>\n",
       "  <tbody>\n",
       "    <tr>\n",
       "      <th>0</th>\n",
       "      <td>1</td>\n",
       "      <td>0</td>\n",
       "      <td>40454.0</td>\n",
       "      <td>217</td>\n",
       "      <td>1</td>\n",
       "    </tr>\n",
       "    <tr>\n",
       "      <th>1</th>\n",
       "      <td>2</td>\n",
       "      <td>0</td>\n",
       "      <td>33536.0</td>\n",
       "      <td>183</td>\n",
       "      <td>0</td>\n",
       "    </tr>\n",
       "    <tr>\n",
       "      <th>2</th>\n",
       "      <td>3</td>\n",
       "      <td>0</td>\n",
       "      <td>38294.0</td>\n",
       "      <td>27</td>\n",
       "      <td>1</td>\n",
       "    </tr>\n",
       "    <tr>\n",
       "      <th>3</th>\n",
       "      <td>4</td>\n",
       "      <td>1</td>\n",
       "      <td>28619.0</td>\n",
       "      <td>203</td>\n",
       "      <td>0</td>\n",
       "    </tr>\n",
       "    <tr>\n",
       "      <th>4</th>\n",
       "      <td>5</td>\n",
       "      <td>1</td>\n",
       "      <td>27496.0</td>\n",
       "      <td>39</td>\n",
       "      <td>0</td>\n",
       "    </tr>\n",
       "  </tbody>\n",
       "</table>\n",
       "</div>"
      ],
      "text/plain": [
       "   id  previously_insured  annual_premium  vintage  response\n",
       "0   1                   0         40454.0      217         1\n",
       "1   2                   0         33536.0      183         0\n",
       "2   3                   0         38294.0       27         1\n",
       "3   4                   1         28619.0      203         0\n",
       "4   5                   1         27496.0       39         0"
      ]
     },
     "execution_count": 52,
     "metadata": {},
     "output_type": "execute_result"
    }
   ],
   "source": [
    "# Checking tables\n",
    "\n",
    "df_insurance.head()"
   ]
  },
  {
   "cell_type": "code",
   "execution_count": 53,
   "id": "07a1b1f9",
   "metadata": {
    "ExecuteTime": {
     "end_time": "2022-04-04T04:06:21.906795Z",
     "start_time": "2022-04-04T04:06:21.900392Z"
    }
   },
   "outputs": [
    {
     "data": {
      "text/html": [
       "<div>\n",
       "<style scoped>\n",
       "    .dataframe tbody tr th:only-of-type {\n",
       "        vertical-align: middle;\n",
       "    }\n",
       "\n",
       "    .dataframe tbody tr th {\n",
       "        vertical-align: top;\n",
       "    }\n",
       "\n",
       "    .dataframe thead th {\n",
       "        text-align: right;\n",
       "    }\n",
       "</style>\n",
       "<table border=\"1\" class=\"dataframe\">\n",
       "  <thead>\n",
       "    <tr style=\"text-align: right;\">\n",
       "      <th></th>\n",
       "      <th>id</th>\n",
       "      <th>gender</th>\n",
       "      <th>age</th>\n",
       "      <th>region_code</th>\n",
       "      <th>policy_sales_channel</th>\n",
       "    </tr>\n",
       "  </thead>\n",
       "  <tbody>\n",
       "    <tr>\n",
       "      <th>0</th>\n",
       "      <td>1</td>\n",
       "      <td>Male</td>\n",
       "      <td>44</td>\n",
       "      <td>28.0</td>\n",
       "      <td>26.0</td>\n",
       "    </tr>\n",
       "    <tr>\n",
       "      <th>1</th>\n",
       "      <td>2</td>\n",
       "      <td>Male</td>\n",
       "      <td>76</td>\n",
       "      <td>3.0</td>\n",
       "      <td>26.0</td>\n",
       "    </tr>\n",
       "    <tr>\n",
       "      <th>2</th>\n",
       "      <td>3</td>\n",
       "      <td>Male</td>\n",
       "      <td>47</td>\n",
       "      <td>28.0</td>\n",
       "      <td>26.0</td>\n",
       "    </tr>\n",
       "    <tr>\n",
       "      <th>3</th>\n",
       "      <td>4</td>\n",
       "      <td>Male</td>\n",
       "      <td>21</td>\n",
       "      <td>11.0</td>\n",
       "      <td>152.0</td>\n",
       "    </tr>\n",
       "    <tr>\n",
       "      <th>4</th>\n",
       "      <td>5</td>\n",
       "      <td>Female</td>\n",
       "      <td>29</td>\n",
       "      <td>41.0</td>\n",
       "      <td>152.0</td>\n",
       "    </tr>\n",
       "  </tbody>\n",
       "</table>\n",
       "</div>"
      ],
      "text/plain": [
       "   id  gender  age  region_code  policy_sales_channel\n",
       "0   1    Male   44         28.0                  26.0\n",
       "1   2    Male   76          3.0                  26.0\n",
       "2   3    Male   47         28.0                  26.0\n",
       "3   4    Male   21         11.0                 152.0\n",
       "4   5  Female   29         41.0                 152.0"
      ]
     },
     "execution_count": 53,
     "metadata": {},
     "output_type": "execute_result"
    }
   ],
   "source": [
    "df_users.head()"
   ]
  },
  {
   "cell_type": "code",
   "execution_count": 56,
   "id": "b643f9b7",
   "metadata": {
    "ExecuteTime": {
     "end_time": "2022-04-04T04:07:47.485763Z",
     "start_time": "2022-04-04T04:07:47.480200Z"
    }
   },
   "outputs": [
    {
     "data": {
      "text/html": [
       "<div>\n",
       "<style scoped>\n",
       "    .dataframe tbody tr th:only-of-type {\n",
       "        vertical-align: middle;\n",
       "    }\n",
       "\n",
       "    .dataframe tbody tr th {\n",
       "        vertical-align: top;\n",
       "    }\n",
       "\n",
       "    .dataframe thead th {\n",
       "        text-align: right;\n",
       "    }\n",
       "</style>\n",
       "<table border=\"1\" class=\"dataframe\">\n",
       "  <thead>\n",
       "    <tr style=\"text-align: right;\">\n",
       "      <th></th>\n",
       "      <th>id</th>\n",
       "      <th>driving_license</th>\n",
       "      <th>vehicle_age</th>\n",
       "      <th>vehicle_damage</th>\n",
       "    </tr>\n",
       "  </thead>\n",
       "  <tbody>\n",
       "    <tr>\n",
       "      <th>0</th>\n",
       "      <td>1</td>\n",
       "      <td>1</td>\n",
       "      <td>&gt; 2 Years</td>\n",
       "      <td>Yes</td>\n",
       "    </tr>\n",
       "    <tr>\n",
       "      <th>1</th>\n",
       "      <td>2</td>\n",
       "      <td>1</td>\n",
       "      <td>1-2 Year</td>\n",
       "      <td>No</td>\n",
       "    </tr>\n",
       "    <tr>\n",
       "      <th>2</th>\n",
       "      <td>3</td>\n",
       "      <td>1</td>\n",
       "      <td>&gt; 2 Years</td>\n",
       "      <td>Yes</td>\n",
       "    </tr>\n",
       "    <tr>\n",
       "      <th>3</th>\n",
       "      <td>4</td>\n",
       "      <td>1</td>\n",
       "      <td>&lt; 1 Year</td>\n",
       "      <td>No</td>\n",
       "    </tr>\n",
       "    <tr>\n",
       "      <th>4</th>\n",
       "      <td>5</td>\n",
       "      <td>1</td>\n",
       "      <td>&lt; 1 Year</td>\n",
       "      <td>No</td>\n",
       "    </tr>\n",
       "  </tbody>\n",
       "</table>\n",
       "</div>"
      ],
      "text/plain": [
       "   id  driving_license vehicle_age vehicle_damage\n",
       "0   1                1   > 2 Years            Yes\n",
       "1   2                1    1-2 Year             No\n",
       "2   3                1   > 2 Years            Yes\n",
       "3   4                1    < 1 Year             No\n",
       "4   5                1    < 1 Year             No"
      ]
     },
     "execution_count": 56,
     "metadata": {},
     "output_type": "execute_result"
    }
   ],
   "source": [
    "df_vehicle.head()"
   ]
  },
  {
   "cell_type": "code",
   "execution_count": null,
   "id": "df0bc2df",
   "metadata": {},
   "outputs": [],
   "source": []
  },
  {
   "cell_type": "code",
   "execution_count": null,
   "id": "5cb6412a",
   "metadata": {},
   "outputs": [],
   "source": [
    "# Merging tables\n",
    "\n",
    "\n"
   ]
  },
  {
   "cell_type": "code",
   "execution_count": null,
   "id": "b1c65f70",
   "metadata": {},
   "outputs": [],
   "source": []
  },
  {
   "cell_type": "code",
   "execution_count": null,
   "id": "111a7598",
   "metadata": {},
   "outputs": [],
   "source": []
  },
  {
   "cell_type": "code",
   "execution_count": null,
   "id": "a54635da",
   "metadata": {},
   "outputs": [],
   "source": [
    "# Data dimensions"
   ]
  },
  {
   "cell_type": "code",
   "execution_count": null,
   "id": "b4b5ec96",
   "metadata": {},
   "outputs": [],
   "source": [
    "# checking data types"
   ]
  },
  {
   "cell_type": "code",
   "execution_count": null,
   "id": "7e8f0fa1",
   "metadata": {},
   "outputs": [],
   "source": [
    "# Checking data info"
   ]
  },
  {
   "cell_type": "code",
   "execution_count": null,
   "id": "e10086f1",
   "metadata": {},
   "outputs": [],
   "source": [
    "# Checking for NA's"
   ]
  },
  {
   "cell_type": "code",
   "execution_count": null,
   "id": "0a67c96d",
   "metadata": {},
   "outputs": [],
   "source": [
    "# Checking for duplicate rows"
   ]
  },
  {
   "cell_type": "code",
   "execution_count": null,
   "id": "f4bd2384",
   "metadata": {},
   "outputs": [],
   "source": [
    "# Response variable"
   ]
  },
  {
   "cell_type": "code",
   "execution_count": null,
   "id": "3f56540f",
   "metadata": {},
   "outputs": [],
   "source": [
    "# Response variable - percentage"
   ]
  },
  {
   "cell_type": "markdown",
   "id": "7cf2090b",
   "metadata": {
    "ExecuteTime": {
     "end_time": "2022-04-04T02:05:06.715516Z",
     "start_time": "2022-04-04T02:05:06.711122Z"
    },
    "heading_collapsed": true
   },
   "source": [
    "## <font color=\"gray\"> 1.2 Descriptive statistics </font>"
   ]
  },
  {
   "cell_type": "markdown",
   "id": "871b925a",
   "metadata": {
    "hidden": true
   },
   "source": [
    "### <i>1.2.1 descriptive statistics</i>"
   ]
  },
  {
   "cell_type": "code",
   "execution_count": null,
   "id": "74b658b3",
   "metadata": {
    "hidden": true
   },
   "outputs": [],
   "source": [
    "# Numerical and categorical attributes"
   ]
  },
  {
   "cell_type": "code",
   "execution_count": null,
   "id": "488317f5",
   "metadata": {
    "hidden": true
   },
   "outputs": [],
   "source": [
    "# Descriptive statistics"
   ]
  },
  {
   "cell_type": "markdown",
   "id": "e5e5b476",
   "metadata": {
    "hidden": true
   },
   "source": [
    "### <i>1.2.2 general view of attributes</i>"
   ]
  },
  {
   "cell_type": "code",
   "execution_count": null,
   "id": "771f7b9f",
   "metadata": {
    "hidden": true
   },
   "outputs": [],
   "source": []
  },
  {
   "cell_type": "markdown",
   "id": "7f384b95",
   "metadata": {
    "ExecuteTime": {
     "end_time": "2022-04-04T02:15:14.271780Z",
     "start_time": "2022-04-04T02:15:14.269408Z"
    },
    "heading_collapsed": true
   },
   "source": [
    "# 2.0 Feature engineering"
   ]
  },
  {
   "cell_type": "code",
   "execution_count": null,
   "id": "6de4d10d",
   "metadata": {
    "hidden": true
   },
   "outputs": [],
   "source": []
  },
  {
   "cell_type": "markdown",
   "id": "4b3a0f70",
   "metadata": {
    "ExecuteTime": {
     "end_time": "2022-04-04T02:05:06.715516Z",
     "start_time": "2022-04-04T02:05:06.711122Z"
    },
    "hidden": true
   },
   "source": [
    "## <font color=\"gray\"> 2.1 Creating new features </font>"
   ]
  },
  {
   "cell_type": "markdown",
   "id": "8c2518ec",
   "metadata": {
    "ExecuteTime": {
     "end_time": "2022-04-04T02:05:06.715516Z",
     "start_time": "2022-04-04T02:05:06.711122Z"
    },
    "hidden": true
   },
   "source": [
    "## <font color=\"gray\"> 2.2 Hypothesis to be validated </font>"
   ]
  },
  {
   "cell_type": "markdown",
   "id": "74aa1865",
   "metadata": {
    "ExecuteTime": {
     "end_time": "2022-04-04T02:15:14.271780Z",
     "start_time": "2022-04-04T02:15:14.269408Z"
    },
    "heading_collapsed": true
   },
   "source": [
    "# 3.0 Data filtering"
   ]
  },
  {
   "cell_type": "code",
   "execution_count": null,
   "id": "d530181b",
   "metadata": {
    "hidden": true
   },
   "outputs": [],
   "source": []
  },
  {
   "cell_type": "markdown",
   "id": "36d152d1",
   "metadata": {
    "ExecuteTime": {
     "end_time": "2022-04-04T02:15:14.271780Z",
     "start_time": "2022-04-04T02:15:14.269408Z"
    },
    "heading_collapsed": true
   },
   "source": [
    "# 4.0 Exploratory Data Analysis (EDA)"
   ]
  },
  {
   "cell_type": "code",
   "execution_count": null,
   "id": "fcb50bbb",
   "metadata": {
    "hidden": true
   },
   "outputs": [],
   "source": []
  },
  {
   "cell_type": "markdown",
   "id": "781caaac",
   "metadata": {
    "ExecuteTime": {
     "end_time": "2022-04-04T02:05:06.715516Z",
     "start_time": "2022-04-04T02:05:06.711122Z"
    },
    "heading_collapsed": true,
    "hidden": true
   },
   "source": [
    "## <font color=\"gray\"> 4.1 Univariate analysis </font>"
   ]
  },
  {
   "cell_type": "code",
   "execution_count": null,
   "id": "bd124a2a",
   "metadata": {
    "hidden": true
   },
   "outputs": [],
   "source": [
    "# Response variable"
   ]
  },
  {
   "cell_type": "markdown",
   "id": "153a7cd5",
   "metadata": {
    "hidden": true
   },
   "source": [
    "### <i>4.1.1 numerical attributes</i>"
   ]
  },
  {
   "cell_type": "markdown",
   "id": "aa83fa8f",
   "metadata": {
    "hidden": true
   },
   "source": [
    "### <i>4.1.2 categorical attributes</i>"
   ]
  },
  {
   "cell_type": "markdown",
   "id": "af35a3dd",
   "metadata": {
    "ExecuteTime": {
     "end_time": "2022-04-04T02:05:06.715516Z",
     "start_time": "2022-04-04T02:05:06.711122Z"
    },
    "heading_collapsed": true,
    "hidden": true
   },
   "source": [
    "## <font color=\"gray\"> 4.2 Bivariate analysis </font>"
   ]
  },
  {
   "cell_type": "markdown",
   "id": "db8e1497",
   "metadata": {
    "hidden": true
   },
   "source": [
    "### <i>4.2.1 validating hypothesis raised</i>"
   ]
  },
  {
   "cell_type": "markdown",
   "id": "115fe8a9",
   "metadata": {
    "hidden": true
   },
   "source": [
    "### <i>4.2.2 statistical hypothesis testing</i>"
   ]
  },
  {
   "cell_type": "markdown",
   "id": "0c6eafbf",
   "metadata": {
    "ExecuteTime": {
     "end_time": "2022-04-04T02:05:06.715516Z",
     "start_time": "2022-04-04T02:05:06.711122Z"
    },
    "heading_collapsed": true,
    "hidden": true
   },
   "source": [
    "## <font color=\"gray\"> 4.3 Multivariate analysis </font>"
   ]
  },
  {
   "cell_type": "markdown",
   "id": "eed13709",
   "metadata": {
    "hidden": true
   },
   "source": [
    "### <i>4.3.1 numerical attributes</i>"
   ]
  },
  {
   "cell_type": "markdown",
   "id": "93454c34",
   "metadata": {
    "hidden": true
   },
   "source": [
    "### <i>4.3.2 categorical attributes</i>"
   ]
  },
  {
   "cell_type": "markdown",
   "id": "f22a802e",
   "metadata": {
    "ExecuteTime": {
     "end_time": "2022-04-04T02:15:14.271780Z",
     "start_time": "2022-04-04T02:15:14.269408Z"
    },
    "heading_collapsed": true
   },
   "source": [
    "# 5.0 Data preparation"
   ]
  },
  {
   "cell_type": "code",
   "execution_count": null,
   "id": "f05d6268",
   "metadata": {
    "hidden": true
   },
   "outputs": [],
   "source": []
  },
  {
   "cell_type": "markdown",
   "id": "50b32a39",
   "metadata": {
    "ExecuteTime": {
     "end_time": "2022-04-04T02:05:06.715516Z",
     "start_time": "2022-04-04T02:05:06.711122Z"
    },
    "hidden": true
   },
   "source": [
    "## <font color=\"gray\"> 5.1 Train/Test split </font>"
   ]
  },
  {
   "cell_type": "markdown",
   "id": "7ef72278",
   "metadata": {
    "ExecuteTime": {
     "end_time": "2022-04-04T02:05:06.715516Z",
     "start_time": "2022-04-04T02:05:06.711122Z"
    },
    "hidden": true
   },
   "source": [
    "## <font color=\"gray\"> 5.2 Scaling - numerical attributes </font>"
   ]
  },
  {
   "cell_type": "markdown",
   "id": "7d8ad552",
   "metadata": {
    "ExecuteTime": {
     "end_time": "2022-04-04T02:05:06.715516Z",
     "start_time": "2022-04-04T02:05:06.711122Z"
    },
    "hidden": true
   },
   "source": [
    "## <font color=\"gray\"> 5.3 Encoding - categorical attributes </font>"
   ]
  },
  {
   "cell_type": "markdown",
   "id": "a1ec1fd8",
   "metadata": {
    "ExecuteTime": {
     "end_time": "2022-04-04T02:15:14.271780Z",
     "start_time": "2022-04-04T02:15:14.269408Z"
    },
    "heading_collapsed": true
   },
   "source": [
    "# 6.0 Feature selection"
   ]
  },
  {
   "cell_type": "code",
   "execution_count": null,
   "id": "5dab82f1",
   "metadata": {
    "hidden": true
   },
   "outputs": [],
   "source": []
  },
  {
   "cell_type": "markdown",
   "id": "a543f90f",
   "metadata": {
    "ExecuteTime": {
     "end_time": "2022-04-04T02:05:06.715516Z",
     "start_time": "2022-04-04T02:05:06.711122Z"
    },
    "hidden": true
   },
   "source": [
    "## <font color=\"gray\"> 6.1 Boruta algorithm </font>"
   ]
  },
  {
   "cell_type": "markdown",
   "id": "53c464e3",
   "metadata": {
    "ExecuteTime": {
     "end_time": "2022-04-04T02:05:06.715516Z",
     "start_time": "2022-04-04T02:05:06.711122Z"
    },
    "hidden": true
   },
   "source": [
    "## <font color=\"gray\"> 6.2 Columns selected by Boruta</font>"
   ]
  },
  {
   "cell_type": "markdown",
   "id": "31a8cdf3",
   "metadata": {
    "ExecuteTime": {
     "end_time": "2022-04-04T02:15:14.271780Z",
     "start_time": "2022-04-04T02:15:14.269408Z"
    },
    "heading_collapsed": true
   },
   "source": [
    "# 7.0 Machine learning"
   ]
  },
  {
   "cell_type": "code",
   "execution_count": null,
   "id": "5e9286f6",
   "metadata": {
    "hidden": true
   },
   "outputs": [],
   "source": []
  },
  {
   "cell_type": "markdown",
   "id": "679577ff",
   "metadata": {
    "ExecuteTime": {
     "end_time": "2022-04-04T02:05:06.715516Z",
     "start_time": "2022-04-04T02:05:06.711122Z"
    },
    "hidden": true
   },
   "source": [
    "## <font color=\"gray\"> 7.1 Baseline model </font>"
   ]
  },
  {
   "cell_type": "markdown",
   "id": "8d5f735e",
   "metadata": {
    "ExecuteTime": {
     "end_time": "2022-04-04T02:05:06.715516Z",
     "start_time": "2022-04-04T02:05:06.711122Z"
    },
    "hidden": true
   },
   "source": [
    "## <font color=\"gray\"> 7.2 Logistic Regression </font>"
   ]
  },
  {
   "cell_type": "markdown",
   "id": "09a1bc0e",
   "metadata": {
    "ExecuteTime": {
     "end_time": "2022-04-04T02:05:06.715516Z",
     "start_time": "2022-04-04T02:05:06.711122Z"
    },
    "hidden": true
   },
   "source": [
    "## <font color=\"gray\"> 7.3 Random Forest </font>"
   ]
  },
  {
   "cell_type": "markdown",
   "id": "95f17977",
   "metadata": {
    "ExecuteTime": {
     "end_time": "2022-04-04T02:05:06.715516Z",
     "start_time": "2022-04-04T02:05:06.711122Z"
    },
    "hidden": true
   },
   "source": [
    "## <font color=\"gray\"> 7.4 XGBoost </font>"
   ]
  },
  {
   "cell_type": "markdown",
   "id": "48b6377f",
   "metadata": {
    "ExecuteTime": {
     "end_time": "2022-04-04T02:05:06.715516Z",
     "start_time": "2022-04-04T02:05:06.711122Z"
    },
    "hidden": true
   },
   "source": [
    "## <font color=\"gray\"> 7.5 KNN </font>"
   ]
  },
  {
   "cell_type": "markdown",
   "id": "c36665df",
   "metadata": {
    "hidden": true
   },
   "source": [
    "Cross validation"
   ]
  },
  {
   "cell_type": "markdown",
   "id": "e8869c7a",
   "metadata": {
    "ExecuteTime": {
     "end_time": "2022-04-04T02:15:14.271780Z",
     "start_time": "2022-04-04T02:15:14.269408Z"
    },
    "heading_collapsed": true
   },
   "source": [
    "# 8.0 Hyperparameter fine tuning"
   ]
  },
  {
   "cell_type": "code",
   "execution_count": null,
   "id": "9b2797c1",
   "metadata": {
    "hidden": true
   },
   "outputs": [],
   "source": []
  },
  {
   "cell_type": "markdown",
   "id": "8e16e0d7",
   "metadata": {
    "ExecuteTime": {
     "end_time": "2022-04-04T02:05:06.715516Z",
     "start_time": "2022-04-04T02:05:06.711122Z"
    },
    "hidden": true
   },
   "source": [
    "## <font color=\"gray\"> 8.1 Random search </font>"
   ]
  },
  {
   "cell_type": "markdown",
   "id": "5911374b",
   "metadata": {
    "ExecuteTime": {
     "end_time": "2022-04-04T02:05:06.715516Z",
     "start_time": "2022-04-04T02:05:06.711122Z"
    },
    "hidden": true
   },
   "source": [
    "## <font color=\"gray\"> 8.2 Tuned final model </font>"
   ]
  },
  {
   "cell_type": "markdown",
   "id": "a4c7d7a2",
   "metadata": {
    "ExecuteTime": {
     "end_time": "2022-04-04T02:15:14.271780Z",
     "start_time": "2022-04-04T02:15:14.269408Z"
    },
    "heading_collapsed": true
   },
   "source": [
    "# 9.0 Error interpretation"
   ]
  },
  {
   "cell_type": "code",
   "execution_count": null,
   "id": "d5110788",
   "metadata": {
    "hidden": true
   },
   "outputs": [],
   "source": []
  },
  {
   "cell_type": "markdown",
   "id": "ee584881",
   "metadata": {
    "ExecuteTime": {
     "end_time": "2022-04-04T02:05:06.715516Z",
     "start_time": "2022-04-04T02:05:06.711122Z"
    },
    "heading_collapsed": true,
    "hidden": true
   },
   "source": [
    "## <font color=\"gray\"> 9.1 Main </font>"
   ]
  },
  {
   "cell_type": "markdown",
   "id": "7622e9f2",
   "metadata": {
    "ExecuteTime": {
     "end_time": "2022-04-04T02:15:14.271780Z",
     "start_time": "2022-04-04T02:15:14.269408Z"
    },
    "heading_collapsed": true
   },
   "source": [
    "# 10.0 Deploy"
   ]
  },
  {
   "cell_type": "markdown",
   "id": "c952557a",
   "metadata": {
    "ExecuteTime": {
     "end_time": "2022-04-04T02:05:06.715516Z",
     "start_time": "2022-04-04T02:05:06.711122Z"
    },
    "heading_collapsed": true,
    "hidden": true
   },
   "source": [
    "## <font color=\"gray\"> 10.1 Class data_prep.py </font>"
   ]
  },
  {
   "cell_type": "code",
   "execution_count": null,
   "id": "d92f3b1c",
   "metadata": {
    "hidden": true
   },
   "outputs": [],
   "source": []
  },
  {
   "cell_type": "code",
   "execution_count": null,
   "id": "73d77392",
   "metadata": {
    "hidden": true
   },
   "outputs": [],
   "source": []
  },
  {
   "cell_type": "markdown",
   "id": "895c86b0",
   "metadata": {
    "ExecuteTime": {
     "end_time": "2022-04-04T02:05:06.715516Z",
     "start_time": "2022-04-04T02:05:06.711122Z"
    },
    "heading_collapsed": true,
    "hidden": true
   },
   "source": [
    "## <font color=\"gray\"> 10.2 API_handler.py </font>"
   ]
  },
  {
   "cell_type": "code",
   "execution_count": null,
   "id": "5881546c",
   "metadata": {
    "hidden": true
   },
   "outputs": [],
   "source": []
  },
  {
   "cell_type": "markdown",
   "id": "fa4a161b",
   "metadata": {
    "ExecuteTime": {
     "end_time": "2022-04-04T02:05:06.715516Z",
     "start_time": "2022-04-04T02:05:06.711122Z"
    },
    "heading_collapsed": true,
    "hidden": true
   },
   "source": [
    "## <font color=\"gray\"> 10.3 API tester local </font>"
   ]
  },
  {
   "cell_type": "code",
   "execution_count": null,
   "id": "6cef4da6",
   "metadata": {
    "hidden": true
   },
   "outputs": [],
   "source": []
  },
  {
   "cell_type": "markdown",
   "id": "ad83170d",
   "metadata": {
    "ExecuteTime": {
     "end_time": "2022-04-04T02:05:06.715516Z",
     "start_time": "2022-04-04T02:05:06.711122Z"
    },
    "heading_collapsed": true,
    "hidden": true
   },
   "source": [
    "## <font color=\"gray\"> 10.4 API tester remote/cloud </font>"
   ]
  },
  {
   "cell_type": "code",
   "execution_count": null,
   "id": "8a452166",
   "metadata": {
    "hidden": true
   },
   "outputs": [],
   "source": []
  }
 ],
 "metadata": {
  "kernelspec": {
   "display_name": "Python 3 (ipykernel)",
   "language": "python",
   "name": "python3"
  },
  "language_info": {
   "codemirror_mode": {
    "name": "ipython",
    "version": 3
   },
   "file_extension": ".py",
   "mimetype": "text/x-python",
   "name": "python",
   "nbconvert_exporter": "python",
   "pygments_lexer": "ipython3",
   "version": "3.8.0"
  },
  "toc": {
   "base_numbering": 1,
   "nav_menu": {},
   "number_sections": false,
   "sideBar": true,
   "skip_h1_title": false,
   "title_cell": "Table of Contents",
   "title_sidebar": "Contents",
   "toc_cell": false,
   "toc_position": {
    "height": "calc(100% - 180px)",
    "left": "10px",
    "top": "150px",
    "width": "438px"
   },
   "toc_section_display": true,
   "toc_window_display": true
  },
  "varInspector": {
   "cols": {
    "lenName": 16,
    "lenType": 16,
    "lenVar": 40
   },
   "kernels_config": {
    "python": {
     "delete_cmd_postfix": "",
     "delete_cmd_prefix": "del ",
     "library": "var_list.py",
     "varRefreshCmd": "print(var_dic_list())"
    },
    "r": {
     "delete_cmd_postfix": ") ",
     "delete_cmd_prefix": "rm(",
     "library": "var_list.r",
     "varRefreshCmd": "cat(var_dic_list()) "
    }
   },
   "types_to_exclude": [
    "module",
    "function",
    "builtin_function_or_method",
    "instance",
    "_Feature"
   ],
   "window_display": false
  }
 },
 "nbformat": 4,
 "nbformat_minor": 5
}
