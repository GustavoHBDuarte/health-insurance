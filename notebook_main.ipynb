{
 "cells": [
  {
   "cell_type": "markdown",
   "id": "d80133de",
   "metadata": {
    "ExecuteTime": {
     "end_time": "2022-04-04T02:05:06.715516Z",
     "start_time": "2022-04-04T02:05:06.711122Z"
    }
   },
   "source": [
    "# <font color=\"green\"> Library Imports </font>"
   ]
  },
  {
   "cell_type": "code",
   "execution_count": 243,
   "id": "bb14d387",
   "metadata": {
    "ExecuteTime": {
     "end_time": "2022-04-19T03:46:10.786867Z",
     "start_time": "2022-04-19T03:46:10.782938Z"
    }
   },
   "outputs": [],
   "source": [
    "import pandas as pd\n",
    "import numpy as np\n",
    "import seaborn as sns\n",
    "import matplotlib.pyplot as plt\n",
    "from scikitplot.metrics import plot_cumulative_gain\n",
    "\n",
    "import psycopg2\n",
    "\n",
    "from sqlalchemy import create_engine\n",
    "from pycorrcat.pycorrcat         import plot_corr, corr_matrix\n",
    "\n",
    "from sklearn.model_selection     import train_test_split, StratifiedKFold, cross_val_score\n",
    "from sklearn.preprocessing       import MinMaxScaler, RobustScaler, LabelEncoder, OrdinalEncoder\n",
    "from sklearn.ensemble            import RandomForestClassifier\n",
    "from sklearn.dummy               import DummyClassifier\n",
    "from sklearn.metrics             import plot_confusion_matrix, plot_precision_recall_curve, plot_roc_curve\n",
    "from sklearn.metrics             import accuracy_score, balanced_accuracy_score, roc_curve, auc, precision_score, f1_score, recall_score, classification_report\n",
    "from sklearn.linear_model        import LogisticRegression\n",
    "from sklearn.neighbors           import KNeighborsClassifier\n",
    "\n",
    "import xgboost                   as xgb\n",
    "\n",
    "from boruta                      import BorutaPy\n",
    "\n",
    "import warnings"
   ]
  },
  {
   "cell_type": "markdown",
   "id": "2e8671f3",
   "metadata": {
    "ExecuteTime": {
     "end_time": "2022-04-04T02:05:06.715516Z",
     "start_time": "2022-04-04T02:05:06.711122Z"
    },
    "heading_collapsed": true
   },
   "source": [
    "# <font color=\"green\"> Helper functions </font>"
   ]
  },
  {
   "cell_type": "code",
   "execution_count": 225,
   "id": "39c0f16c",
   "metadata": {
    "ExecuteTime": {
     "end_time": "2022-04-19T03:12:09.502026Z",
     "start_time": "2022-04-19T03:12:09.493269Z"
    },
    "hidden": true
   },
   "outputs": [],
   "source": [
    "def descriptive_statistics(df):\n",
    "    \n",
    "    df = df.select_dtypes(include=['int64', 'float64'])\n",
    "\n",
    "    # Descriptive statistics\n",
    "\n",
    "    df_descriptive = pd.DataFrame(data=[df.apply(np.min),\n",
    "                                        df.apply(np.max),\n",
    "                                        df.apply(lambda x: np.max(x) - np.min(x)),\n",
    "                                        df.apply(np.mean),\n",
    "                                        df.apply(np.median),\n",
    "                                        df.apply(np.std),\n",
    "                                        df.apply(lambda x: x.skew()),\n",
    "                                        df.apply(lambda x: x.kurtosis())],\n",
    "                                  index=np.array(['min', 'max', 'range', 'mean', 'median', 'std', 'skew', 'kurtosis']))\n",
    "    \n",
    "    return df_descriptive\n",
    "\n",
    "\n",
    "\n",
    "def get_model_metrics(model_name, model, X_train, y_train, X_test, y_test):\n",
    "    \n",
    "    \n",
    "\n",
    "    inst_model = model.fit(X_train, y_train)\n",
    "\n",
    "\n",
    "    y_pred = inst_model.predict(X_test)\n",
    "\n",
    "\n",
    "    # Metrics:\n",
    "\n",
    "\n",
    "\n",
    "    # Accuracy\n",
    "\n",
    "    print('Accuracy: {}\\n'.format(round(accuracy_score(y_test, y_pred),3)))\n",
    "\n",
    "\n",
    "    # Balanced Accuracy\n",
    "\n",
    "    print('Balanced Accuracy: {}\\n'.format(round(balanced_accuracy_score(y_test, y_pred),3)))\n",
    "\n",
    "\n",
    "    # AUC ROC\n",
    "\n",
    "\n",
    "    # fpr, tpr, thresholds = metrics.roc_curve(y_test, y_pred, pos_label=1) <- sintax\n",
    "\n",
    "    fpr, tpr, thresholds = roc_curve(y_test,\n",
    "                                     np.array([i[1] for i in inst_model.predict_proba(X_test)]), \n",
    "                                     pos_label=1)\n",
    "\n",
    "    auc(fpr, tpr)\n",
    "\n",
    "    print('AUC-ROC: {}\\n'.format(round(auc(fpr, tpr),3)))\n",
    "\n",
    "\n",
    "    # Classification report\n",
    "\n",
    "    print('Classification report:\\n\\n {}\\n'.format(classification_report(y_test, y_pred)))\n",
    "\n",
    "\n",
    "    # Gathering metrics for this estimator\n",
    "\n",
    "    inst_model_accuracy = accuracy_score(y_test, y_pred)\n",
    "\n",
    "    inst_model_bal_accuracy = balanced_accuracy_score(y_test, y_pred)\n",
    "\n",
    "    inst_model_auc = auc(fpr, tpr)\n",
    "\n",
    "    inst_model_precision = precision_score(y_test, y_pred)\n",
    "\n",
    "    inst_model_f1 = f1_score(y_test, y_pred)\n",
    "\n",
    "    inst_model_recall = recall_score(y_test, y_pred)\n",
    "    \n",
    "    \n",
    "    \n",
    "    # Getting df\n",
    "    \n",
    "    \n",
    "    df = pd.DataFrame(data=[model_name, inst_model_accuracy,\n",
    "                            inst_model_bal_accuracy, \n",
    "                            inst_model_auc, \n",
    "                            inst_model_precision, \n",
    "                            inst_model_f1, \n",
    "                            inst_model_recall]).transpose()\n",
    "\n",
    "    df.columns = ['Model name', 'Accuracy', 'Balanced Accuracy', 'AUC', 'Precision', 'F1-score', 'Recall']\n",
    "    \n",
    "    return df  \n",
    "\n",
    "\n",
    "\n",
    "def jupyter_settings():\n",
    "    \n",
    "    pd.options.display.max_columns = None   \n",
    "    \n",
    "\n",
    "\n",
    "warnings.filterwarnings(\"ignore\")\n",
    "jupyter_settings()"
   ]
  },
  {
   "cell_type": "markdown",
   "id": "43461284",
   "metadata": {
    "ExecuteTime": {
     "end_time": "2022-04-04T02:15:14.271780Z",
     "start_time": "2022-04-04T02:15:14.269408Z"
    }
   },
   "source": [
    "# 1.0 Data import and basic inspection"
   ]
  },
  {
   "cell_type": "markdown",
   "id": "132fa730",
   "metadata": {
    "ExecuteTime": {
     "end_time": "2022-04-04T02:05:06.715516Z",
     "start_time": "2022-04-04T02:05:06.711122Z"
    },
    "heading_collapsed": true
   },
   "source": [
    "## <font color=\"gray\"> 1.1 Data loading and checking </font>"
   ]
  },
  {
   "cell_type": "code",
   "execution_count": 3,
   "id": "6ada5e6b",
   "metadata": {
    "ExecuteTime": {
     "end_time": "2022-04-18T22:23:39.526169Z",
     "start_time": "2022-04-18T22:23:39.319760Z"
    },
    "hidden": true
   },
   "outputs": [],
   "source": [
    "# Data loading\n",
    "\n",
    "## Importing db credentials\n",
    "\n",
    "db_credentials = pd.read_csv('/mnt/d/Gustavo/health-insurance/db_credentials.txt', header=None)\n",
    "\n",
    "host = db_credentials[0][0]\n",
    "\n",
    "port = db_credentials[1][0]\n",
    "\n",
    "database = db_credentials[2][0]\n",
    "\n",
    "user = db_credentials[3][0]\n",
    "\n",
    "psw = db_credentials[4][0]\n"
   ]
  },
  {
   "cell_type": "code",
   "execution_count": 141,
   "id": "0deadad3",
   "metadata": {
    "ExecuteTime": {
     "end_time": "2022-04-19T01:03:01.445723Z",
     "start_time": "2022-04-19T01:03:00.390279Z"
    },
    "hidden": true
   },
   "outputs": [
    {
     "name": "stdout",
     "output_type": "stream",
     "text": [
      "[('pg_toast',), ('pg_temp_1',), ('pg_toast_temp_1',), ('pg_catalog',), ('information_schema',), ('public',), ('pa004',), ('pg_temp_4',), ('pg_toast_temp_4',), ('pa005',), ('pg_temp_9',), ('pg_toast_temp_9',)]\n"
     ]
    }
   ],
   "source": [
    "# Schema\n",
    "\n",
    "## Checking DB schema where tables belong to\n",
    "\n",
    "\n",
    "# connecting Postgres\n",
    "connection = psycopg2.connect('postgresql://{}:{}@{}:{}/{}'.format(user, psw, host, port, database))\n",
    "\n",
    "# cursor object\n",
    "cursor= connection.cursor()\n",
    "\n",
    "\n",
    "# nspname: name of the namespace\n",
    "#pg_namespace: contains schema definitions\n",
    "\n",
    "query_schema = \"\"\"\n",
    "\n",
    "    SELECT nspname\n",
    "    FROM pg_catalog.pg_namespace\n",
    "    \n",
    "\"\"\"\n",
    "\n",
    "cursor.execute(query_schema)\n",
    "\n",
    "record = (cursor.fetchall())\n",
    "\n",
    "print(record)\n",
    "\n",
    "cursor.close()\n",
    "\n",
    "connection.close()"
   ]
  },
  {
   "cell_type": "code",
   "execution_count": 4,
   "id": "cb6f5a0a",
   "metadata": {
    "ExecuteTime": {
     "end_time": "2022-04-18T22:23:58.668269Z",
     "start_time": "2022-04-18T22:23:46.817214Z"
    },
    "code_folding": [],
    "hidden": true,
    "scrolled": true
   },
   "outputs": [],
   "source": [
    "# Selecting data from database - SQL query ('insurance' table - pa004 schema)\n",
    "\n",
    "query = \"\"\"\n",
    "    SELECT *\n",
    "    FROM pa004.insurance\n",
    "\n",
    "\"\"\"\n",
    "\n",
    "# Connecting to Postgres database\n",
    "\n",
    "engine = create_engine('postgresql://{}:{}@{}:{}/{}'.format(user, psw, host, port, database))\n",
    "\n",
    "\n",
    "# executing sql query\n",
    "\n",
    "df_insurance = pd.read_sql_query(query, con=engine)\n",
    "\n",
    "# closing database connection\n",
    "\n",
    "engine.dispose()"
   ]
  },
  {
   "cell_type": "code",
   "execution_count": 5,
   "id": "44343227",
   "metadata": {
    "ExecuteTime": {
     "end_time": "2022-04-18T22:24:18.363550Z",
     "start_time": "2022-04-18T22:24:02.890268Z"
    },
    "code_folding": [],
    "hidden": true,
    "scrolled": true
   },
   "outputs": [],
   "source": [
    "# Selecting data from database - SQL query ('users' table - pa004 schema)\n",
    "\n",
    "query = \"\"\"\n",
    "    SELECT *\n",
    "    FROM pa004.users\n",
    "\n",
    "\"\"\"\n",
    "\n",
    "# Connecting to Postgres database\n",
    "\n",
    "engine = create_engine('postgresql://{}:{}@{}:{}/{}'.format(user, psw, host, port, database))\n",
    "\n",
    "\n",
    "# executing sql query\n",
    "\n",
    "df_users = pd.read_sql_query(query, con=engine)\n",
    "\n",
    "# closing database connection\n",
    "\n",
    "engine.dispose()"
   ]
  },
  {
   "cell_type": "code",
   "execution_count": 6,
   "id": "b7bdaf55",
   "metadata": {
    "ExecuteTime": {
     "end_time": "2022-04-18T22:24:35.619181Z",
     "start_time": "2022-04-18T22:24:20.960140Z"
    },
    "code_folding": [],
    "hidden": true,
    "scrolled": true
   },
   "outputs": [],
   "source": [
    "# Selecting data from database - SQL query ('vehicle' table - pa004 schema)\n",
    "\n",
    "query = \"\"\"\n",
    "    SELECT *\n",
    "    FROM pa004.vehicle\n",
    "\n",
    "\"\"\"\n",
    "\n",
    "# Connecting to Postgres database\n",
    "\n",
    "engine = create_engine('postgresql://{}:{}@{}:{}/{}'.format(user, psw, host, port, database))\n",
    "\n",
    "\n",
    "# executing sql query\n",
    "\n",
    "df_vehicle = pd.read_sql_query(query, con=engine)\n",
    "\n",
    "# closing database connection\n",
    "\n",
    "engine.dispose()"
   ]
  },
  {
   "cell_type": "code",
   "execution_count": 7,
   "id": "5e47a4e7",
   "metadata": {
    "ExecuteTime": {
     "end_time": "2022-04-18T22:24:37.643239Z",
     "start_time": "2022-04-18T22:24:37.599339Z"
    },
    "hidden": true
   },
   "outputs": [
    {
     "data": {
      "text/html": [
       "<div>\n",
       "<style scoped>\n",
       "    .dataframe tbody tr th:only-of-type {\n",
       "        vertical-align: middle;\n",
       "    }\n",
       "\n",
       "    .dataframe tbody tr th {\n",
       "        vertical-align: top;\n",
       "    }\n",
       "\n",
       "    .dataframe thead th {\n",
       "        text-align: right;\n",
       "    }\n",
       "</style>\n",
       "<table border=\"1\" class=\"dataframe\">\n",
       "  <thead>\n",
       "    <tr style=\"text-align: right;\">\n",
       "      <th></th>\n",
       "      <th>id</th>\n",
       "      <th>previously_insured</th>\n",
       "      <th>annual_premium</th>\n",
       "      <th>vintage</th>\n",
       "      <th>response</th>\n",
       "    </tr>\n",
       "  </thead>\n",
       "  <tbody>\n",
       "    <tr>\n",
       "      <th>0</th>\n",
       "      <td>1</td>\n",
       "      <td>0</td>\n",
       "      <td>40454.0</td>\n",
       "      <td>217</td>\n",
       "      <td>1</td>\n",
       "    </tr>\n",
       "    <tr>\n",
       "      <th>1</th>\n",
       "      <td>2</td>\n",
       "      <td>0</td>\n",
       "      <td>33536.0</td>\n",
       "      <td>183</td>\n",
       "      <td>0</td>\n",
       "    </tr>\n",
       "    <tr>\n",
       "      <th>2</th>\n",
       "      <td>3</td>\n",
       "      <td>0</td>\n",
       "      <td>38294.0</td>\n",
       "      <td>27</td>\n",
       "      <td>1</td>\n",
       "    </tr>\n",
       "    <tr>\n",
       "      <th>3</th>\n",
       "      <td>4</td>\n",
       "      <td>1</td>\n",
       "      <td>28619.0</td>\n",
       "      <td>203</td>\n",
       "      <td>0</td>\n",
       "    </tr>\n",
       "    <tr>\n",
       "      <th>4</th>\n",
       "      <td>5</td>\n",
       "      <td>1</td>\n",
       "      <td>27496.0</td>\n",
       "      <td>39</td>\n",
       "      <td>0</td>\n",
       "    </tr>\n",
       "  </tbody>\n",
       "</table>\n",
       "</div>"
      ],
      "text/plain": [
       "   id  previously_insured  annual_premium  vintage  response\n",
       "0   1                   0         40454.0      217         1\n",
       "1   2                   0         33536.0      183         0\n",
       "2   3                   0         38294.0       27         1\n",
       "3   4                   1         28619.0      203         0\n",
       "4   5                   1         27496.0       39         0"
      ]
     },
     "execution_count": 7,
     "metadata": {},
     "output_type": "execute_result"
    }
   ],
   "source": [
    "# Checking tables\n",
    "\n",
    "df_insurance.head()"
   ]
  },
  {
   "cell_type": "code",
   "execution_count": 8,
   "id": "07a1b1f9",
   "metadata": {
    "ExecuteTime": {
     "end_time": "2022-04-18T22:24:39.064911Z",
     "start_time": "2022-04-18T22:24:39.058528Z"
    },
    "hidden": true
   },
   "outputs": [
    {
     "data": {
      "text/html": [
       "<div>\n",
       "<style scoped>\n",
       "    .dataframe tbody tr th:only-of-type {\n",
       "        vertical-align: middle;\n",
       "    }\n",
       "\n",
       "    .dataframe tbody tr th {\n",
       "        vertical-align: top;\n",
       "    }\n",
       "\n",
       "    .dataframe thead th {\n",
       "        text-align: right;\n",
       "    }\n",
       "</style>\n",
       "<table border=\"1\" class=\"dataframe\">\n",
       "  <thead>\n",
       "    <tr style=\"text-align: right;\">\n",
       "      <th></th>\n",
       "      <th>id</th>\n",
       "      <th>gender</th>\n",
       "      <th>age</th>\n",
       "      <th>region_code</th>\n",
       "      <th>policy_sales_channel</th>\n",
       "    </tr>\n",
       "  </thead>\n",
       "  <tbody>\n",
       "    <tr>\n",
       "      <th>0</th>\n",
       "      <td>1</td>\n",
       "      <td>Male</td>\n",
       "      <td>44</td>\n",
       "      <td>28.0</td>\n",
       "      <td>26.0</td>\n",
       "    </tr>\n",
       "    <tr>\n",
       "      <th>1</th>\n",
       "      <td>2</td>\n",
       "      <td>Male</td>\n",
       "      <td>76</td>\n",
       "      <td>3.0</td>\n",
       "      <td>26.0</td>\n",
       "    </tr>\n",
       "    <tr>\n",
       "      <th>2</th>\n",
       "      <td>3</td>\n",
       "      <td>Male</td>\n",
       "      <td>47</td>\n",
       "      <td>28.0</td>\n",
       "      <td>26.0</td>\n",
       "    </tr>\n",
       "    <tr>\n",
       "      <th>3</th>\n",
       "      <td>4</td>\n",
       "      <td>Male</td>\n",
       "      <td>21</td>\n",
       "      <td>11.0</td>\n",
       "      <td>152.0</td>\n",
       "    </tr>\n",
       "    <tr>\n",
       "      <th>4</th>\n",
       "      <td>5</td>\n",
       "      <td>Female</td>\n",
       "      <td>29</td>\n",
       "      <td>41.0</td>\n",
       "      <td>152.0</td>\n",
       "    </tr>\n",
       "  </tbody>\n",
       "</table>\n",
       "</div>"
      ],
      "text/plain": [
       "   id  gender  age  region_code  policy_sales_channel\n",
       "0   1    Male   44         28.0                  26.0\n",
       "1   2    Male   76          3.0                  26.0\n",
       "2   3    Male   47         28.0                  26.0\n",
       "3   4    Male   21         11.0                 152.0\n",
       "4   5  Female   29         41.0                 152.0"
      ]
     },
     "execution_count": 8,
     "metadata": {},
     "output_type": "execute_result"
    }
   ],
   "source": [
    "df_users.head()"
   ]
  },
  {
   "cell_type": "code",
   "execution_count": 9,
   "id": "b643f9b7",
   "metadata": {
    "ExecuteTime": {
     "end_time": "2022-04-18T22:24:41.084889Z",
     "start_time": "2022-04-18T22:24:41.079227Z"
    },
    "hidden": true
   },
   "outputs": [
    {
     "data": {
      "text/html": [
       "<div>\n",
       "<style scoped>\n",
       "    .dataframe tbody tr th:only-of-type {\n",
       "        vertical-align: middle;\n",
       "    }\n",
       "\n",
       "    .dataframe tbody tr th {\n",
       "        vertical-align: top;\n",
       "    }\n",
       "\n",
       "    .dataframe thead th {\n",
       "        text-align: right;\n",
       "    }\n",
       "</style>\n",
       "<table border=\"1\" class=\"dataframe\">\n",
       "  <thead>\n",
       "    <tr style=\"text-align: right;\">\n",
       "      <th></th>\n",
       "      <th>id</th>\n",
       "      <th>driving_license</th>\n",
       "      <th>vehicle_age</th>\n",
       "      <th>vehicle_damage</th>\n",
       "    </tr>\n",
       "  </thead>\n",
       "  <tbody>\n",
       "    <tr>\n",
       "      <th>0</th>\n",
       "      <td>1</td>\n",
       "      <td>1</td>\n",
       "      <td>&gt; 2 Years</td>\n",
       "      <td>Yes</td>\n",
       "    </tr>\n",
       "    <tr>\n",
       "      <th>1</th>\n",
       "      <td>2</td>\n",
       "      <td>1</td>\n",
       "      <td>1-2 Year</td>\n",
       "      <td>No</td>\n",
       "    </tr>\n",
       "    <tr>\n",
       "      <th>2</th>\n",
       "      <td>3</td>\n",
       "      <td>1</td>\n",
       "      <td>&gt; 2 Years</td>\n",
       "      <td>Yes</td>\n",
       "    </tr>\n",
       "    <tr>\n",
       "      <th>3</th>\n",
       "      <td>4</td>\n",
       "      <td>1</td>\n",
       "      <td>&lt; 1 Year</td>\n",
       "      <td>No</td>\n",
       "    </tr>\n",
       "    <tr>\n",
       "      <th>4</th>\n",
       "      <td>5</td>\n",
       "      <td>1</td>\n",
       "      <td>&lt; 1 Year</td>\n",
       "      <td>No</td>\n",
       "    </tr>\n",
       "  </tbody>\n",
       "</table>\n",
       "</div>"
      ],
      "text/plain": [
       "   id  driving_license vehicle_age vehicle_damage\n",
       "0   1                1   > 2 Years            Yes\n",
       "1   2                1    1-2 Year             No\n",
       "2   3                1   > 2 Years            Yes\n",
       "3   4                1    < 1 Year             No\n",
       "4   5                1    < 1 Year             No"
      ]
     },
     "execution_count": 9,
     "metadata": {},
     "output_type": "execute_result"
    }
   ],
   "source": [
    "df_vehicle.head()"
   ]
  },
  {
   "cell_type": "code",
   "execution_count": null,
   "id": "df0bc2df",
   "metadata": {
    "hidden": true
   },
   "outputs": [],
   "source": []
  },
  {
   "cell_type": "code",
   "execution_count": 10,
   "id": "5cb6412a",
   "metadata": {
    "ExecuteTime": {
     "end_time": "2022-04-18T22:24:45.101675Z",
     "start_time": "2022-04-18T22:24:44.706264Z"
    },
    "hidden": true
   },
   "outputs": [
    {
     "data": {
      "text/html": [
       "<div>\n",
       "<style scoped>\n",
       "    .dataframe tbody tr th:only-of-type {\n",
       "        vertical-align: middle;\n",
       "    }\n",
       "\n",
       "    .dataframe tbody tr th {\n",
       "        vertical-align: top;\n",
       "    }\n",
       "\n",
       "    .dataframe thead th {\n",
       "        text-align: right;\n",
       "    }\n",
       "</style>\n",
       "<table border=\"1\" class=\"dataframe\">\n",
       "  <thead>\n",
       "    <tr style=\"text-align: right;\">\n",
       "      <th></th>\n",
       "      <th>id</th>\n",
       "      <th>gender</th>\n",
       "      <th>age</th>\n",
       "      <th>region_code</th>\n",
       "      <th>policy_sales_channel</th>\n",
       "      <th>previously_insured</th>\n",
       "      <th>annual_premium</th>\n",
       "      <th>vintage</th>\n",
       "      <th>response</th>\n",
       "      <th>driving_license</th>\n",
       "      <th>vehicle_age</th>\n",
       "      <th>vehicle_damage</th>\n",
       "    </tr>\n",
       "  </thead>\n",
       "  <tbody>\n",
       "    <tr>\n",
       "      <th>0</th>\n",
       "      <td>1</td>\n",
       "      <td>Male</td>\n",
       "      <td>44</td>\n",
       "      <td>28.0</td>\n",
       "      <td>26.0</td>\n",
       "      <td>0</td>\n",
       "      <td>40454.0</td>\n",
       "      <td>217</td>\n",
       "      <td>1</td>\n",
       "      <td>1</td>\n",
       "      <td>&gt; 2 Years</td>\n",
       "      <td>Yes</td>\n",
       "    </tr>\n",
       "    <tr>\n",
       "      <th>1</th>\n",
       "      <td>2</td>\n",
       "      <td>Male</td>\n",
       "      <td>76</td>\n",
       "      <td>3.0</td>\n",
       "      <td>26.0</td>\n",
       "      <td>0</td>\n",
       "      <td>33536.0</td>\n",
       "      <td>183</td>\n",
       "      <td>0</td>\n",
       "      <td>1</td>\n",
       "      <td>1-2 Year</td>\n",
       "      <td>No</td>\n",
       "    </tr>\n",
       "    <tr>\n",
       "      <th>2</th>\n",
       "      <td>3</td>\n",
       "      <td>Male</td>\n",
       "      <td>47</td>\n",
       "      <td>28.0</td>\n",
       "      <td>26.0</td>\n",
       "      <td>0</td>\n",
       "      <td>38294.0</td>\n",
       "      <td>27</td>\n",
       "      <td>1</td>\n",
       "      <td>1</td>\n",
       "      <td>&gt; 2 Years</td>\n",
       "      <td>Yes</td>\n",
       "    </tr>\n",
       "    <tr>\n",
       "      <th>3</th>\n",
       "      <td>4</td>\n",
       "      <td>Male</td>\n",
       "      <td>21</td>\n",
       "      <td>11.0</td>\n",
       "      <td>152.0</td>\n",
       "      <td>1</td>\n",
       "      <td>28619.0</td>\n",
       "      <td>203</td>\n",
       "      <td>0</td>\n",
       "      <td>1</td>\n",
       "      <td>&lt; 1 Year</td>\n",
       "      <td>No</td>\n",
       "    </tr>\n",
       "    <tr>\n",
       "      <th>4</th>\n",
       "      <td>5</td>\n",
       "      <td>Female</td>\n",
       "      <td>29</td>\n",
       "      <td>41.0</td>\n",
       "      <td>152.0</td>\n",
       "      <td>1</td>\n",
       "      <td>27496.0</td>\n",
       "      <td>39</td>\n",
       "      <td>0</td>\n",
       "      <td>1</td>\n",
       "      <td>&lt; 1 Year</td>\n",
       "      <td>No</td>\n",
       "    </tr>\n",
       "    <tr>\n",
       "      <th>...</th>\n",
       "      <td>...</td>\n",
       "      <td>...</td>\n",
       "      <td>...</td>\n",
       "      <td>...</td>\n",
       "      <td>...</td>\n",
       "      <td>...</td>\n",
       "      <td>...</td>\n",
       "      <td>...</td>\n",
       "      <td>...</td>\n",
       "      <td>...</td>\n",
       "      <td>...</td>\n",
       "      <td>...</td>\n",
       "    </tr>\n",
       "    <tr>\n",
       "      <th>381104</th>\n",
       "      <td>381105</td>\n",
       "      <td>Male</td>\n",
       "      <td>74</td>\n",
       "      <td>26.0</td>\n",
       "      <td>26.0</td>\n",
       "      <td>1</td>\n",
       "      <td>30170.0</td>\n",
       "      <td>88</td>\n",
       "      <td>0</td>\n",
       "      <td>1</td>\n",
       "      <td>1-2 Year</td>\n",
       "      <td>No</td>\n",
       "    </tr>\n",
       "    <tr>\n",
       "      <th>381105</th>\n",
       "      <td>381106</td>\n",
       "      <td>Male</td>\n",
       "      <td>30</td>\n",
       "      <td>37.0</td>\n",
       "      <td>152.0</td>\n",
       "      <td>1</td>\n",
       "      <td>40016.0</td>\n",
       "      <td>131</td>\n",
       "      <td>0</td>\n",
       "      <td>1</td>\n",
       "      <td>&lt; 1 Year</td>\n",
       "      <td>No</td>\n",
       "    </tr>\n",
       "    <tr>\n",
       "      <th>381106</th>\n",
       "      <td>381107</td>\n",
       "      <td>Male</td>\n",
       "      <td>21</td>\n",
       "      <td>30.0</td>\n",
       "      <td>160.0</td>\n",
       "      <td>1</td>\n",
       "      <td>35118.0</td>\n",
       "      <td>161</td>\n",
       "      <td>0</td>\n",
       "      <td>1</td>\n",
       "      <td>&lt; 1 Year</td>\n",
       "      <td>No</td>\n",
       "    </tr>\n",
       "    <tr>\n",
       "      <th>381107</th>\n",
       "      <td>381108</td>\n",
       "      <td>Female</td>\n",
       "      <td>68</td>\n",
       "      <td>14.0</td>\n",
       "      <td>124.0</td>\n",
       "      <td>0</td>\n",
       "      <td>44617.0</td>\n",
       "      <td>74</td>\n",
       "      <td>0</td>\n",
       "      <td>1</td>\n",
       "      <td>&gt; 2 Years</td>\n",
       "      <td>Yes</td>\n",
       "    </tr>\n",
       "    <tr>\n",
       "      <th>381108</th>\n",
       "      <td>381109</td>\n",
       "      <td>Male</td>\n",
       "      <td>46</td>\n",
       "      <td>29.0</td>\n",
       "      <td>26.0</td>\n",
       "      <td>0</td>\n",
       "      <td>41777.0</td>\n",
       "      <td>237</td>\n",
       "      <td>0</td>\n",
       "      <td>1</td>\n",
       "      <td>1-2 Year</td>\n",
       "      <td>No</td>\n",
       "    </tr>\n",
       "  </tbody>\n",
       "</table>\n",
       "<p>381109 rows × 12 columns</p>\n",
       "</div>"
      ],
      "text/plain": [
       "            id  gender  age  region_code  policy_sales_channel  \\\n",
       "0            1    Male   44         28.0                  26.0   \n",
       "1            2    Male   76          3.0                  26.0   \n",
       "2            3    Male   47         28.0                  26.0   \n",
       "3            4    Male   21         11.0                 152.0   \n",
       "4            5  Female   29         41.0                 152.0   \n",
       "...        ...     ...  ...          ...                   ...   \n",
       "381104  381105    Male   74         26.0                  26.0   \n",
       "381105  381106    Male   30         37.0                 152.0   \n",
       "381106  381107    Male   21         30.0                 160.0   \n",
       "381107  381108  Female   68         14.0                 124.0   \n",
       "381108  381109    Male   46         29.0                  26.0   \n",
       "\n",
       "        previously_insured  annual_premium  vintage  response  \\\n",
       "0                        0         40454.0      217         1   \n",
       "1                        0         33536.0      183         0   \n",
       "2                        0         38294.0       27         1   \n",
       "3                        1         28619.0      203         0   \n",
       "4                        1         27496.0       39         0   \n",
       "...                    ...             ...      ...       ...   \n",
       "381104                   1         30170.0       88         0   \n",
       "381105                   1         40016.0      131         0   \n",
       "381106                   1         35118.0      161         0   \n",
       "381107                   0         44617.0       74         0   \n",
       "381108                   0         41777.0      237         0   \n",
       "\n",
       "        driving_license vehicle_age vehicle_damage  \n",
       "0                     1   > 2 Years            Yes  \n",
       "1                     1    1-2 Year             No  \n",
       "2                     1   > 2 Years            Yes  \n",
       "3                     1    < 1 Year             No  \n",
       "4                     1    < 1 Year             No  \n",
       "...                 ...         ...            ...  \n",
       "381104                1    1-2 Year             No  \n",
       "381105                1    < 1 Year             No  \n",
       "381106                1    < 1 Year             No  \n",
       "381107                1   > 2 Years            Yes  \n",
       "381108                1    1-2 Year             No  \n",
       "\n",
       "[381109 rows x 12 columns]"
      ]
     },
     "execution_count": 10,
     "metadata": {},
     "output_type": "execute_result"
    }
   ],
   "source": [
    "# Merging tables\n",
    "\n",
    "## merging df_users with df_insurance\n",
    "df = pd.merge(left=df_users, right=df_insurance, how='left', on='id')\n",
    "\n",
    "# resulting df with df_vehicle\n",
    "df = pd.merge(left=df, right=df_vehicle, how='left', on='id')\n",
    "\n",
    "df"
   ]
  },
  {
   "cell_type": "code",
   "execution_count": 11,
   "id": "217fe8b2",
   "metadata": {
    "ExecuteTime": {
     "end_time": "2022-04-18T22:24:57.766387Z",
     "start_time": "2022-04-18T22:24:57.609917Z"
    },
    "hidden": true
   },
   "outputs": [],
   "source": [
    "# Reorganizing columns\n",
    "\n",
    "df = df[['id', 'gender', 'age', 'region_code', 'policy_sales_channel',\n",
    "         'previously_insured', 'annual_premium', 'vintage',\n",
    "         'driving_license', 'vehicle_age', 'vehicle_damage', 'response']]"
   ]
  },
  {
   "cell_type": "code",
   "execution_count": 12,
   "id": "a54635da",
   "metadata": {
    "ExecuteTime": {
     "end_time": "2022-04-18T22:24:59.224643Z",
     "start_time": "2022-04-18T22:24:59.218712Z"
    },
    "hidden": true
   },
   "outputs": [
    {
     "name": "stdout",
     "output_type": "stream",
     "text": [
      "Number of rows: 381109\n",
      "Number of columns: 12\n"
     ]
    }
   ],
   "source": [
    "# Data dimensions\n",
    "\n",
    "print('Number of rows: {}'.format(df.shape[0]))\n",
    "print('Number of columns: {}'.format(df.shape[1]))"
   ]
  },
  {
   "cell_type": "code",
   "execution_count": 13,
   "id": "b4b5ec96",
   "metadata": {
    "ExecuteTime": {
     "end_time": "2022-04-18T22:25:00.275474Z",
     "start_time": "2022-04-18T22:25:00.267508Z"
    },
    "hidden": true
   },
   "outputs": [
    {
     "data": {
      "text/plain": [
       "id                        int64\n",
       "gender                   object\n",
       "age                       int64\n",
       "region_code             float64\n",
       "policy_sales_channel    float64\n",
       "previously_insured        int64\n",
       "annual_premium          float64\n",
       "vintage                   int64\n",
       "driving_license           int64\n",
       "vehicle_age              object\n",
       "vehicle_damage           object\n",
       "response                  int64\n",
       "dtype: object"
      ]
     },
     "execution_count": 13,
     "metadata": {},
     "output_type": "execute_result"
    }
   ],
   "source": [
    "# checking data types\n",
    "\n",
    "df.dtypes"
   ]
  },
  {
   "cell_type": "code",
   "execution_count": 14,
   "id": "7e8f0fa1",
   "metadata": {
    "ExecuteTime": {
     "end_time": "2022-04-18T22:25:01.981741Z",
     "start_time": "2022-04-18T22:25:01.869408Z"
    },
    "hidden": true
   },
   "outputs": [
    {
     "name": "stdout",
     "output_type": "stream",
     "text": [
      "<class 'pandas.core.frame.DataFrame'>\n",
      "Int64Index: 381109 entries, 0 to 381108\n",
      "Data columns (total 12 columns):\n",
      " #   Column                Non-Null Count   Dtype  \n",
      "---  ------                --------------   -----  \n",
      " 0   id                    381109 non-null  int64  \n",
      " 1   gender                381109 non-null  object \n",
      " 2   age                   381109 non-null  int64  \n",
      " 3   region_code           381109 non-null  float64\n",
      " 4   policy_sales_channel  381109 non-null  float64\n",
      " 5   previously_insured    381109 non-null  int64  \n",
      " 6   annual_premium        381109 non-null  float64\n",
      " 7   vintage               381109 non-null  int64  \n",
      " 8   driving_license       381109 non-null  int64  \n",
      " 9   vehicle_age           381109 non-null  object \n",
      " 10  vehicle_damage        381109 non-null  object \n",
      " 11  response              381109 non-null  int64  \n",
      "dtypes: float64(3), int64(6), object(3)\n",
      "memory usage: 37.8+ MB\n"
     ]
    }
   ],
   "source": [
    "# Checking data info\n",
    "\n",
    "df.info()"
   ]
  },
  {
   "cell_type": "code",
   "execution_count": 15,
   "id": "e10086f1",
   "metadata": {
    "ExecuteTime": {
     "end_time": "2022-04-18T22:25:04.039601Z",
     "start_time": "2022-04-18T22:25:04.001594Z"
    },
    "hidden": true
   },
   "outputs": [
    {
     "data": {
      "text/plain": [
       "id                      0\n",
       "gender                  0\n",
       "age                     0\n",
       "region_code             0\n",
       "policy_sales_channel    0\n",
       "previously_insured      0\n",
       "annual_premium          0\n",
       "vintage                 0\n",
       "driving_license         0\n",
       "vehicle_age             0\n",
       "vehicle_damage          0\n",
       "response                0\n",
       "dtype: int64"
      ]
     },
     "execution_count": 15,
     "metadata": {},
     "output_type": "execute_result"
    }
   ],
   "source": [
    "# Checking for NA's\n",
    "\n",
    "df.isna().sum()"
   ]
  },
  {
   "cell_type": "code",
   "execution_count": 16,
   "id": "0a67c96d",
   "metadata": {
    "ExecuteTime": {
     "end_time": "2022-04-18T22:25:05.836595Z",
     "start_time": "2022-04-18T22:25:05.669698Z"
    },
    "hidden": true
   },
   "outputs": [
    {
     "data": {
      "text/plain": [
       "0"
      ]
     },
     "execution_count": 16,
     "metadata": {},
     "output_type": "execute_result"
    }
   ],
   "source": [
    "# Checking for duplicate rows\n",
    "\n",
    "df.duplicated().sum()"
   ]
  },
  {
   "cell_type": "code",
   "execution_count": 17,
   "id": "f4bd2384",
   "metadata": {
    "ExecuteTime": {
     "end_time": "2022-04-18T22:25:07.095011Z",
     "start_time": "2022-04-18T22:25:07.089468Z"
    },
    "hidden": true
   },
   "outputs": [
    {
     "data": {
      "text/plain": [
       "0    334399\n",
       "1     46710\n",
       "Name: response, dtype: int64"
      ]
     },
     "execution_count": 17,
     "metadata": {},
     "output_type": "execute_result"
    }
   ],
   "source": [
    "# Response variable\n",
    "\n",
    "df['response'].value_counts()"
   ]
  },
  {
   "cell_type": "code",
   "execution_count": 18,
   "id": "3f56540f",
   "metadata": {
    "ExecuteTime": {
     "end_time": "2022-04-18T22:25:08.777257Z",
     "start_time": "2022-04-18T22:25:08.768506Z"
    },
    "hidden": true
   },
   "outputs": [
    {
     "name": "stdout",
     "output_type": "stream",
     "text": [
      "Percentage of people that did not purchase health insurance: 0.88\n",
      "Percentage of people that purchased health insurance: 0.12\n"
     ]
    }
   ],
   "source": [
    "# Response variable - percentage\n",
    "\n",
    "print('Percentage of people that did not purchase health insurance: {:.2f}'.format(df['response'].value_counts(normalize=True)[0]))\n",
    "print('Percentage of people that purchased health insurance: {:.2f}'.format(df['response'].value_counts(normalize=True)[1]))\n"
   ]
  },
  {
   "cell_type": "code",
   "execution_count": 19,
   "id": "5896175c",
   "metadata": {
    "ExecuteTime": {
     "end_time": "2022-04-18T22:25:21.248947Z",
     "start_time": "2022-04-18T22:25:21.187137Z"
    },
    "hidden": true
   },
   "outputs": [
    {
     "data": {
      "text/html": [
       "<div>\n",
       "<style scoped>\n",
       "    .dataframe tbody tr th:only-of-type {\n",
       "        vertical-align: middle;\n",
       "    }\n",
       "\n",
       "    .dataframe tbody tr th {\n",
       "        vertical-align: top;\n",
       "    }\n",
       "\n",
       "    .dataframe thead th {\n",
       "        text-align: right;\n",
       "    }\n",
       "</style>\n",
       "<table border=\"1\" class=\"dataframe\">\n",
       "  <thead>\n",
       "    <tr style=\"text-align: right;\">\n",
       "      <th></th>\n",
       "      <th>gender</th>\n",
       "      <th>age</th>\n",
       "      <th>region_code</th>\n",
       "      <th>policy_sales_channel</th>\n",
       "      <th>previously_insured</th>\n",
       "      <th>annual_premium</th>\n",
       "      <th>vintage</th>\n",
       "      <th>driving_license</th>\n",
       "      <th>vehicle_age</th>\n",
       "      <th>vehicle_damage</th>\n",
       "      <th>response</th>\n",
       "    </tr>\n",
       "    <tr>\n",
       "      <th>id</th>\n",
       "      <th></th>\n",
       "      <th></th>\n",
       "      <th></th>\n",
       "      <th></th>\n",
       "      <th></th>\n",
       "      <th></th>\n",
       "      <th></th>\n",
       "      <th></th>\n",
       "      <th></th>\n",
       "      <th></th>\n",
       "      <th></th>\n",
       "    </tr>\n",
       "  </thead>\n",
       "  <tbody>\n",
       "    <tr>\n",
       "      <th>1</th>\n",
       "      <td>Male</td>\n",
       "      <td>44</td>\n",
       "      <td>28.0</td>\n",
       "      <td>26.0</td>\n",
       "      <td>0</td>\n",
       "      <td>40454.0</td>\n",
       "      <td>217</td>\n",
       "      <td>1</td>\n",
       "      <td>&gt; 2 Years</td>\n",
       "      <td>Yes</td>\n",
       "      <td>1</td>\n",
       "    </tr>\n",
       "    <tr>\n",
       "      <th>2</th>\n",
       "      <td>Male</td>\n",
       "      <td>76</td>\n",
       "      <td>3.0</td>\n",
       "      <td>26.0</td>\n",
       "      <td>0</td>\n",
       "      <td>33536.0</td>\n",
       "      <td>183</td>\n",
       "      <td>1</td>\n",
       "      <td>1-2 Year</td>\n",
       "      <td>No</td>\n",
       "      <td>0</td>\n",
       "    </tr>\n",
       "    <tr>\n",
       "      <th>3</th>\n",
       "      <td>Male</td>\n",
       "      <td>47</td>\n",
       "      <td>28.0</td>\n",
       "      <td>26.0</td>\n",
       "      <td>0</td>\n",
       "      <td>38294.0</td>\n",
       "      <td>27</td>\n",
       "      <td>1</td>\n",
       "      <td>&gt; 2 Years</td>\n",
       "      <td>Yes</td>\n",
       "      <td>1</td>\n",
       "    </tr>\n",
       "    <tr>\n",
       "      <th>4</th>\n",
       "      <td>Male</td>\n",
       "      <td>21</td>\n",
       "      <td>11.0</td>\n",
       "      <td>152.0</td>\n",
       "      <td>1</td>\n",
       "      <td>28619.0</td>\n",
       "      <td>203</td>\n",
       "      <td>1</td>\n",
       "      <td>&lt; 1 Year</td>\n",
       "      <td>No</td>\n",
       "      <td>0</td>\n",
       "    </tr>\n",
       "    <tr>\n",
       "      <th>5</th>\n",
       "      <td>Female</td>\n",
       "      <td>29</td>\n",
       "      <td>41.0</td>\n",
       "      <td>152.0</td>\n",
       "      <td>1</td>\n",
       "      <td>27496.0</td>\n",
       "      <td>39</td>\n",
       "      <td>1</td>\n",
       "      <td>&lt; 1 Year</td>\n",
       "      <td>No</td>\n",
       "      <td>0</td>\n",
       "    </tr>\n",
       "    <tr>\n",
       "      <th>...</th>\n",
       "      <td>...</td>\n",
       "      <td>...</td>\n",
       "      <td>...</td>\n",
       "      <td>...</td>\n",
       "      <td>...</td>\n",
       "      <td>...</td>\n",
       "      <td>...</td>\n",
       "      <td>...</td>\n",
       "      <td>...</td>\n",
       "      <td>...</td>\n",
       "      <td>...</td>\n",
       "    </tr>\n",
       "    <tr>\n",
       "      <th>381105</th>\n",
       "      <td>Male</td>\n",
       "      <td>74</td>\n",
       "      <td>26.0</td>\n",
       "      <td>26.0</td>\n",
       "      <td>1</td>\n",
       "      <td>30170.0</td>\n",
       "      <td>88</td>\n",
       "      <td>1</td>\n",
       "      <td>1-2 Year</td>\n",
       "      <td>No</td>\n",
       "      <td>0</td>\n",
       "    </tr>\n",
       "    <tr>\n",
       "      <th>381106</th>\n",
       "      <td>Male</td>\n",
       "      <td>30</td>\n",
       "      <td>37.0</td>\n",
       "      <td>152.0</td>\n",
       "      <td>1</td>\n",
       "      <td>40016.0</td>\n",
       "      <td>131</td>\n",
       "      <td>1</td>\n",
       "      <td>&lt; 1 Year</td>\n",
       "      <td>No</td>\n",
       "      <td>0</td>\n",
       "    </tr>\n",
       "    <tr>\n",
       "      <th>381107</th>\n",
       "      <td>Male</td>\n",
       "      <td>21</td>\n",
       "      <td>30.0</td>\n",
       "      <td>160.0</td>\n",
       "      <td>1</td>\n",
       "      <td>35118.0</td>\n",
       "      <td>161</td>\n",
       "      <td>1</td>\n",
       "      <td>&lt; 1 Year</td>\n",
       "      <td>No</td>\n",
       "      <td>0</td>\n",
       "    </tr>\n",
       "    <tr>\n",
       "      <th>381108</th>\n",
       "      <td>Female</td>\n",
       "      <td>68</td>\n",
       "      <td>14.0</td>\n",
       "      <td>124.0</td>\n",
       "      <td>0</td>\n",
       "      <td>44617.0</td>\n",
       "      <td>74</td>\n",
       "      <td>1</td>\n",
       "      <td>&gt; 2 Years</td>\n",
       "      <td>Yes</td>\n",
       "      <td>0</td>\n",
       "    </tr>\n",
       "    <tr>\n",
       "      <th>381109</th>\n",
       "      <td>Male</td>\n",
       "      <td>46</td>\n",
       "      <td>29.0</td>\n",
       "      <td>26.0</td>\n",
       "      <td>0</td>\n",
       "      <td>41777.0</td>\n",
       "      <td>237</td>\n",
       "      <td>1</td>\n",
       "      <td>1-2 Year</td>\n",
       "      <td>No</td>\n",
       "      <td>0</td>\n",
       "    </tr>\n",
       "  </tbody>\n",
       "</table>\n",
       "<p>381109 rows × 11 columns</p>\n",
       "</div>"
      ],
      "text/plain": [
       "        gender  age  region_code  policy_sales_channel  previously_insured  \\\n",
       "id                                                                           \n",
       "1         Male   44         28.0                  26.0                   0   \n",
       "2         Male   76          3.0                  26.0                   0   \n",
       "3         Male   47         28.0                  26.0                   0   \n",
       "4         Male   21         11.0                 152.0                   1   \n",
       "5       Female   29         41.0                 152.0                   1   \n",
       "...        ...  ...          ...                   ...                 ...   \n",
       "381105    Male   74         26.0                  26.0                   1   \n",
       "381106    Male   30         37.0                 152.0                   1   \n",
       "381107    Male   21         30.0                 160.0                   1   \n",
       "381108  Female   68         14.0                 124.0                   0   \n",
       "381109    Male   46         29.0                  26.0                   0   \n",
       "\n",
       "        annual_premium  vintage  driving_license vehicle_age vehicle_damage  \\\n",
       "id                                                                            \n",
       "1              40454.0      217                1   > 2 Years            Yes   \n",
       "2              33536.0      183                1    1-2 Year             No   \n",
       "3              38294.0       27                1   > 2 Years            Yes   \n",
       "4              28619.0      203                1    < 1 Year             No   \n",
       "5              27496.0       39                1    < 1 Year             No   \n",
       "...                ...      ...              ...         ...            ...   \n",
       "381105         30170.0       88                1    1-2 Year             No   \n",
       "381106         40016.0      131                1    < 1 Year             No   \n",
       "381107         35118.0      161                1    < 1 Year             No   \n",
       "381108         44617.0       74                1   > 2 Years            Yes   \n",
       "381109         41777.0      237                1    1-2 Year             No   \n",
       "\n",
       "        response  \n",
       "id                \n",
       "1              1  \n",
       "2              0  \n",
       "3              1  \n",
       "4              0  \n",
       "5              0  \n",
       "...          ...  \n",
       "381105         0  \n",
       "381106         0  \n",
       "381107         0  \n",
       "381108         0  \n",
       "381109         0  \n",
       "\n",
       "[381109 rows x 11 columns]"
      ]
     },
     "execution_count": 19,
     "metadata": {},
     "output_type": "execute_result"
    }
   ],
   "source": [
    "# Setting 'id' column as index\n",
    "\n",
    "df = df.set_index('id')\n",
    "\n",
    "df"
   ]
  },
  {
   "cell_type": "code",
   "execution_count": 20,
   "id": "92fb12d0",
   "metadata": {
    "ExecuteTime": {
     "end_time": "2022-04-18T22:25:22.500124Z",
     "start_time": "2022-04-18T22:25:22.443448Z"
    },
    "hidden": true
   },
   "outputs": [],
   "source": [
    "# Adjusting data types\n",
    "\n",
    "df[['region_code',\n",
    "    'policy_sales_channel',\n",
    "    'annual_premium']] = df[['region_code',\n",
    "                             'policy_sales_channel',\n",
    "                             'annual_premium']].astype('int')"
   ]
  },
  {
   "cell_type": "markdown",
   "id": "7cf2090b",
   "metadata": {
    "ExecuteTime": {
     "end_time": "2022-04-04T02:05:06.715516Z",
     "start_time": "2022-04-04T02:05:06.711122Z"
    }
   },
   "source": [
    "## <font color=\"gray\"> 1.2 Descriptive statistics </font>"
   ]
  },
  {
   "cell_type": "markdown",
   "id": "871b925a",
   "metadata": {
    "heading_collapsed": true
   },
   "source": [
    "### <i>1.2.1 descriptive statistics</i>"
   ]
  },
  {
   "cell_type": "code",
   "execution_count": 21,
   "id": "74b658b3",
   "metadata": {
    "ExecuteTime": {
     "end_time": "2022-04-18T22:25:26.092224Z",
     "start_time": "2022-04-18T22:25:25.969520Z"
    },
    "hidden": true
   },
   "outputs": [],
   "source": [
    "# Numerical and categorical attributes\n",
    "\n",
    "# numerical attributes\n",
    "num_attributes = df.select_dtypes(['int64', 'float64'])\n",
    "\n",
    "# categorical attributes\n",
    "cat_attributes = df.select_dtypes(exclude=['int64', 'float64'])"
   ]
  },
  {
   "cell_type": "code",
   "execution_count": 22,
   "id": "ba8b07d6",
   "metadata": {
    "ExecuteTime": {
     "end_time": "2022-04-18T22:25:28.794614Z",
     "start_time": "2022-04-18T22:25:28.459194Z"
    },
    "hidden": true
   },
   "outputs": [
    {
     "data": {
      "text/html": [
       "<div>\n",
       "<style scoped>\n",
       "    .dataframe tbody tr th:only-of-type {\n",
       "        vertical-align: middle;\n",
       "    }\n",
       "\n",
       "    .dataframe tbody tr th {\n",
       "        vertical-align: top;\n",
       "    }\n",
       "\n",
       "    .dataframe thead th {\n",
       "        text-align: right;\n",
       "    }\n",
       "</style>\n",
       "<table border=\"1\" class=\"dataframe\">\n",
       "  <thead>\n",
       "    <tr style=\"text-align: right;\">\n",
       "      <th></th>\n",
       "      <th>age</th>\n",
       "      <th>region_code</th>\n",
       "      <th>policy_sales_channel</th>\n",
       "      <th>previously_insured</th>\n",
       "      <th>annual_premium</th>\n",
       "      <th>vintage</th>\n",
       "      <th>driving_license</th>\n",
       "      <th>response</th>\n",
       "    </tr>\n",
       "  </thead>\n",
       "  <tbody>\n",
       "    <tr>\n",
       "      <th>min</th>\n",
       "      <td>20.000000</td>\n",
       "      <td>0.000000</td>\n",
       "      <td>1.000000</td>\n",
       "      <td>0.000000</td>\n",
       "      <td>2630.000000</td>\n",
       "      <td>10.000000</td>\n",
       "      <td>0.000000</td>\n",
       "      <td>0.000000</td>\n",
       "    </tr>\n",
       "    <tr>\n",
       "      <th>max</th>\n",
       "      <td>85.000000</td>\n",
       "      <td>52.000000</td>\n",
       "      <td>163.000000</td>\n",
       "      <td>1.000000</td>\n",
       "      <td>540165.000000</td>\n",
       "      <td>299.000000</td>\n",
       "      <td>1.000000</td>\n",
       "      <td>1.000000</td>\n",
       "    </tr>\n",
       "    <tr>\n",
       "      <th>range</th>\n",
       "      <td>65.000000</td>\n",
       "      <td>52.000000</td>\n",
       "      <td>162.000000</td>\n",
       "      <td>1.000000</td>\n",
       "      <td>537535.000000</td>\n",
       "      <td>289.000000</td>\n",
       "      <td>1.000000</td>\n",
       "      <td>1.000000</td>\n",
       "    </tr>\n",
       "    <tr>\n",
       "      <th>mean</th>\n",
       "      <td>38.822584</td>\n",
       "      <td>26.388807</td>\n",
       "      <td>112.034295</td>\n",
       "      <td>0.458210</td>\n",
       "      <td>30564.389581</td>\n",
       "      <td>154.347397</td>\n",
       "      <td>0.997869</td>\n",
       "      <td>0.122563</td>\n",
       "    </tr>\n",
       "    <tr>\n",
       "      <th>median</th>\n",
       "      <td>36.000000</td>\n",
       "      <td>28.000000</td>\n",
       "      <td>133.000000</td>\n",
       "      <td>0.000000</td>\n",
       "      <td>31669.000000</td>\n",
       "      <td>154.000000</td>\n",
       "      <td>1.000000</td>\n",
       "      <td>0.000000</td>\n",
       "    </tr>\n",
       "    <tr>\n",
       "      <th>std</th>\n",
       "      <td>15.511591</td>\n",
       "      <td>13.229871</td>\n",
       "      <td>54.203924</td>\n",
       "      <td>0.498251</td>\n",
       "      <td>17213.132474</td>\n",
       "      <td>83.671194</td>\n",
       "      <td>0.046109</td>\n",
       "      <td>0.327935</td>\n",
       "    </tr>\n",
       "    <tr>\n",
       "      <th>skew</th>\n",
       "      <td>0.672539</td>\n",
       "      <td>-0.115266</td>\n",
       "      <td>-0.900008</td>\n",
       "      <td>0.167747</td>\n",
       "      <td>1.766087</td>\n",
       "      <td>0.003030</td>\n",
       "      <td>-21.595182</td>\n",
       "      <td>2.301906</td>\n",
       "    </tr>\n",
       "    <tr>\n",
       "      <th>kurtosis</th>\n",
       "      <td>-0.565655</td>\n",
       "      <td>-0.867857</td>\n",
       "      <td>-0.970810</td>\n",
       "      <td>-1.971871</td>\n",
       "      <td>34.004569</td>\n",
       "      <td>-1.200688</td>\n",
       "      <td>464.354302</td>\n",
       "      <td>3.298788</td>\n",
       "    </tr>\n",
       "  </tbody>\n",
       "</table>\n",
       "</div>"
      ],
      "text/plain": [
       "                age  region_code  policy_sales_channel  previously_insured  \\\n",
       "min       20.000000     0.000000              1.000000            0.000000   \n",
       "max       85.000000    52.000000            163.000000            1.000000   \n",
       "range     65.000000    52.000000            162.000000            1.000000   \n",
       "mean      38.822584    26.388807            112.034295            0.458210   \n",
       "median    36.000000    28.000000            133.000000            0.000000   \n",
       "std       15.511591    13.229871             54.203924            0.498251   \n",
       "skew       0.672539    -0.115266             -0.900008            0.167747   \n",
       "kurtosis  -0.565655    -0.867857             -0.970810           -1.971871   \n",
       "\n",
       "          annual_premium     vintage  driving_license  response  \n",
       "min          2630.000000   10.000000         0.000000  0.000000  \n",
       "max        540165.000000  299.000000         1.000000  1.000000  \n",
       "range      537535.000000  289.000000         1.000000  1.000000  \n",
       "mean        30564.389581  154.347397         0.997869  0.122563  \n",
       "median      31669.000000  154.000000         1.000000  0.000000  \n",
       "std         17213.132474   83.671194         0.046109  0.327935  \n",
       "skew            1.766087    0.003030       -21.595182  2.301906  \n",
       "kurtosis       34.004569   -1.200688       464.354302  3.298788  "
      ]
     },
     "execution_count": 22,
     "metadata": {},
     "output_type": "execute_result"
    }
   ],
   "source": [
    "# Descriptive statistics\n",
    "\n",
    "descriptive_statistics(df)"
   ]
  },
  {
   "cell_type": "code",
   "execution_count": null,
   "id": "474b8eb1",
   "metadata": {
    "hidden": true
   },
   "outputs": [],
   "source": []
  },
  {
   "cell_type": "markdown",
   "id": "e5e5b476",
   "metadata": {},
   "source": [
    "### <i>1.2.2 general view of attributes</i>"
   ]
  },
  {
   "cell_type": "code",
   "execution_count": 23,
   "id": "6fd96d89",
   "metadata": {
    "ExecuteTime": {
     "end_time": "2022-04-18T22:25:43.583823Z",
     "start_time": "2022-04-18T22:25:39.099095Z"
    }
   },
   "outputs": [
    {
     "data": {
      "image/png": "[encoded data removed]",
      "text/plain": [
       "<Figure size 1440x1080 with 9 Axes>"
      ]
     },
     "metadata": {
      "needs_background": "light"
     },
     "output_type": "display_data"
    }
   ],
   "source": [
    "# Numeric attributes view\n",
    "\n",
    "# Exploring numerical attributes\n",
    "\n",
    "# as we are interested in people who have purchased health insurance, in this evaluation we are going\n",
    "# to filter the dataset based on this condition to see the behaviour of numerical attributes for this group\n",
    "\n",
    "# we are not showing here the distribution for the numerical variable 'response' because it is our target variable\n",
    "\n",
    "num_attributes.loc[num_attributes['response']==1, num_attributes.columns!='response'].hist(figsize=(20,15), color='gray');"
   ]
  },
  {
   "cell_type": "code",
   "execution_count": 24,
   "id": "1066036a",
   "metadata": {
    "ExecuteTime": {
     "end_time": "2022-04-18T22:25:48.257012Z",
     "start_time": "2022-04-18T22:25:47.623457Z"
    }
   },
   "outputs": [
    {
     "data": {
      "image/png": "[encoded data removed]",
      "text/plain": [
       "<Figure size 1440x1080 with 9 Axes>"
      ]
     },
     "metadata": {
      "needs_background": "light"
     },
     "output_type": "display_data"
    }
   ],
   "source": [
    "# Now let's compare the distributions for the same variables with people who did not purchase\n",
    "## health insurance\n",
    "\n",
    "num_attributes.loc[num_attributes['response']==0, num_attributes.columns!='response'].hist(figsize=(20,15), color='red');"
   ]
  },
  {
   "cell_type": "markdown",
   "id": "59c333e6",
   "metadata": {},
   "source": [
    "* It looks like there are some differences between the two evaluated groups when looking closely at some variables like age, policy sales channel and previously insured.\n",
    "* Probably for the features where there are obvious differences this are going to help the machine learning model to figure out whether the customer is going to purchase a health insurance or not (or the % probability of doing so). "
   ]
  },
  {
   "cell_type": "code",
   "execution_count": 25,
   "id": "81c95048",
   "metadata": {
    "ExecuteTime": {
     "end_time": "2022-04-18T22:26:34.979400Z",
     "start_time": "2022-04-18T22:26:34.723613Z"
    }
   },
   "outputs": [
    {
     "data": {
      "image/png": "[encoded data removed]",
      "text/plain": [
       "<Figure size 1080x360 with 2 Axes>"
      ]
     },
     "metadata": {
      "needs_background": "light"
     },
     "output_type": "display_data"
    }
   ],
   "source": [
    "# Categorical attributes view\n",
    "\n",
    "\n",
    "plt.figure(figsize=(15,5))\n",
    "\n",
    "# gender profile for people who have purchased health insurance\n",
    "\n",
    "plt.subplot(1,2,1)\n",
    "sns.barplot(x='gender',\n",
    "            y=0,\n",
    "            data=df.loc[df['response']==1, ['gender']].groupby('gender').size().reset_index())\n",
    "\n",
    "plt.ylabel('Count')\n",
    "plt.title('people who have purchased health insurance')\n",
    "\n",
    "\n",
    "# gender profile for people who have not purchased health insurance\n",
    "\n",
    "plt.subplot(1,2,2)\n",
    "sns.barplot(x='gender',\n",
    "            y=0,\n",
    "            data=df.loc[df['response']==0, ['gender']].groupby('gender').size().reset_index())\n",
    "\n",
    "plt.ylabel('Count')\n",
    "plt.title('people who have NOT purchased health insurance')\n",
    "\n",
    "plt.tight_layout();"
   ]
  },
  {
   "cell_type": "markdown",
   "id": "bd8e2914",
   "metadata": {},
   "source": [
    "The female/male distribution between people who have and have not purchased health insurance is quite similar although there is a slight difference between them "
   ]
  },
  {
   "cell_type": "code",
   "execution_count": 26,
   "id": "7502c3b4",
   "metadata": {
    "ExecuteTime": {
     "end_time": "2022-04-18T22:26:48.883582Z",
     "start_time": "2022-04-18T22:26:48.649488Z"
    }
   },
   "outputs": [
    {
     "data": {
      "image/png": "[encoded data removed]",
      "text/plain": [
       "<Figure size 1080x360 with 2 Axes>"
      ]
     },
     "metadata": {
      "needs_background": "light"
     },
     "output_type": "display_data"
    }
   ],
   "source": [
    "plt.figure(figsize=(15,5))\n",
    "\n",
    "# vehicle_age profile for people who have purchased health insurance\n",
    "\n",
    "plt.subplot(1,2,1)\n",
    "sns.barplot(x='vehicle_age',\n",
    "            y=0,\n",
    "            data=df.loc[df['response']==1, ['vehicle_age']].groupby('vehicle_age').size().reset_index())\n",
    "\n",
    "plt.ylabel('Count')\n",
    "plt.title('people who have purchased health insurance')\n",
    "\n",
    "\n",
    "# vehicle_age profile for people who have not purchased health insurance\n",
    "\n",
    "plt.subplot(1,2,2)\n",
    "sns.barplot(x='vehicle_age',\n",
    "            y=0,\n",
    "            data=df.loc[df['response']==0, ['vehicle_age']].groupby('vehicle_age').size().reset_index())\n",
    "\n",
    "plt.ylabel('Count')\n",
    "plt.title('people who have NOT purchased health insurance')\n",
    "\n",
    "plt.tight_layout();"
   ]
  },
  {
   "cell_type": "markdown",
   "id": "647ea690",
   "metadata": {},
   "source": [
    "for people who have purchased health insurance most of their vehicle is aged between 1-2 year while for the people who have not purchased health unsurance the ratio between 1-2 year and <1 year is almost the same. Vehicle age seems to be a good variable to tell us wheter a certain person will or will not purchase health insurance. "
   ]
  },
  {
   "cell_type": "code",
   "execution_count": 27,
   "id": "80e62b16",
   "metadata": {
    "ExecuteTime": {
     "end_time": "2022-04-18T22:26:52.582675Z",
     "start_time": "2022-04-18T22:26:52.374824Z"
    }
   },
   "outputs": [
    {
     "data": {
      "image/png": "[encoded data removed]",
      "text/plain": [
       "<Figure size 1080x360 with 2 Axes>"
      ]
     },
     "metadata": {
      "needs_background": "light"
     },
     "output_type": "display_data"
    }
   ],
   "source": [
    "plt.figure(figsize=(15,5))\n",
    "\n",
    "# vehicle_damage profile for people who have purchased health insurance\n",
    "\n",
    "plt.subplot(1,2,1)\n",
    "sns.barplot(x='vehicle_damage',\n",
    "            y=0,\n",
    "            data=df.loc[df['response']==1, ['vehicle_damage']].groupby('vehicle_damage').size().reset_index())\n",
    "\n",
    "plt.ylabel('Count')\n",
    "plt.title('people who have purchased health insurance')\n",
    "\n",
    "\n",
    "# vehicle_damage profile for people who have not purchased health insurance\n",
    "\n",
    "plt.subplot(1,2,2)\n",
    "sns.barplot(x='vehicle_damage',\n",
    "            y=0,\n",
    "            data=df.loc[df['response']==0, ['vehicle_damage']].groupby('vehicle_damage').size().reset_index())\n",
    "\n",
    "plt.ylabel('Count')\n",
    "plt.title('people who have NOT purchased health insurance')\n",
    "\n",
    "plt.tight_layout();"
   ]
  },
  {
   "cell_type": "markdown",
   "id": "1bd9b08c",
   "metadata": {},
   "source": [
    "When it comes to vehicle damage it is easy to see that for people who have purchased health insurance most of them had their vehicle previously damage (no brainer!), while for the people who have not most of them did not have their vehicle damaged. Also the observed No/Yes ratio is completely different between these 2 groups."
   ]
  },
  {
   "cell_type": "markdown",
   "id": "7f384b95",
   "metadata": {
    "ExecuteTime": {
     "end_time": "2022-04-04T02:15:14.271780Z",
     "start_time": "2022-04-04T02:15:14.269408Z"
    }
   },
   "source": [
    "# 2.0 Feature engineering"
   ]
  },
  {
   "cell_type": "code",
   "execution_count": 164,
   "id": "6de4d10d",
   "metadata": {
    "ExecuteTime": {
     "end_time": "2022-04-19T01:30:06.518601Z",
     "start_time": "2022-04-19T01:30:06.482069Z"
    }
   },
   "outputs": [],
   "source": [
    "df_2 = df.copy()"
   ]
  },
  {
   "cell_type": "markdown",
   "id": "4b3a0f70",
   "metadata": {
    "ExecuteTime": {
     "end_time": "2022-04-04T02:05:06.715516Z",
     "start_time": "2022-04-04T02:05:06.711122Z"
    }
   },
   "source": [
    "## <font color=\"gray\"> 2.1 Creating new features </font>"
   ]
  },
  {
   "cell_type": "code",
   "execution_count": 165,
   "id": "1ea12b63",
   "metadata": {
    "ExecuteTime": {
     "end_time": "2022-04-19T01:30:07.369171Z",
     "start_time": "2022-04-19T01:30:07.324475Z"
    }
   },
   "outputs": [],
   "source": [
    "# Creating the feature 'stage of life'\n",
    "\n",
    "df_2['stage_of_life']= df['age'].apply(lambda x: 'adult' if x>=20 and x<=39\n",
    "                                       else 'middle_age_adult' if x>=40 and x<=59\n",
    "                                       else 'senior_adult')"
   ]
  },
  {
   "cell_type": "code",
   "execution_count": 166,
   "id": "7e1b4802",
   "metadata": {
    "ExecuteTime": {
     "end_time": "2022-04-19T01:30:07.809391Z",
     "start_time": "2022-04-19T01:30:07.799972Z"
    }
   },
   "outputs": [
    {
     "data": {
      "text/html": [
       "<div>\n",
       "<style scoped>\n",
       "    .dataframe tbody tr th:only-of-type {\n",
       "        vertical-align: middle;\n",
       "    }\n",
       "\n",
       "    .dataframe tbody tr th {\n",
       "        vertical-align: top;\n",
       "    }\n",
       "\n",
       "    .dataframe thead th {\n",
       "        text-align: right;\n",
       "    }\n",
       "</style>\n",
       "<table border=\"1\" class=\"dataframe\">\n",
       "  <thead>\n",
       "    <tr style=\"text-align: right;\">\n",
       "      <th></th>\n",
       "      <th>gender</th>\n",
       "      <th>age</th>\n",
       "      <th>region_code</th>\n",
       "      <th>policy_sales_channel</th>\n",
       "      <th>previously_insured</th>\n",
       "      <th>annual_premium</th>\n",
       "      <th>vintage</th>\n",
       "      <th>driving_license</th>\n",
       "      <th>vehicle_age</th>\n",
       "      <th>vehicle_damage</th>\n",
       "      <th>response</th>\n",
       "      <th>stage_of_life</th>\n",
       "    </tr>\n",
       "    <tr>\n",
       "      <th>id</th>\n",
       "      <th></th>\n",
       "      <th></th>\n",
       "      <th></th>\n",
       "      <th></th>\n",
       "      <th></th>\n",
       "      <th></th>\n",
       "      <th></th>\n",
       "      <th></th>\n",
       "      <th></th>\n",
       "      <th></th>\n",
       "      <th></th>\n",
       "      <th></th>\n",
       "    </tr>\n",
       "  </thead>\n",
       "  <tbody>\n",
       "    <tr>\n",
       "      <th>1</th>\n",
       "      <td>Male</td>\n",
       "      <td>44</td>\n",
       "      <td>28</td>\n",
       "      <td>26</td>\n",
       "      <td>0</td>\n",
       "      <td>40454</td>\n",
       "      <td>217</td>\n",
       "      <td>1</td>\n",
       "      <td>&gt; 2 Years</td>\n",
       "      <td>Yes</td>\n",
       "      <td>1</td>\n",
       "      <td>middle_age_adult</td>\n",
       "    </tr>\n",
       "    <tr>\n",
       "      <th>2</th>\n",
       "      <td>Male</td>\n",
       "      <td>76</td>\n",
       "      <td>3</td>\n",
       "      <td>26</td>\n",
       "      <td>0</td>\n",
       "      <td>33536</td>\n",
       "      <td>183</td>\n",
       "      <td>1</td>\n",
       "      <td>1-2 Year</td>\n",
       "      <td>No</td>\n",
       "      <td>0</td>\n",
       "      <td>senior_adult</td>\n",
       "    </tr>\n",
       "    <tr>\n",
       "      <th>3</th>\n",
       "      <td>Male</td>\n",
       "      <td>47</td>\n",
       "      <td>28</td>\n",
       "      <td>26</td>\n",
       "      <td>0</td>\n",
       "      <td>38294</td>\n",
       "      <td>27</td>\n",
       "      <td>1</td>\n",
       "      <td>&gt; 2 Years</td>\n",
       "      <td>Yes</td>\n",
       "      <td>1</td>\n",
       "      <td>middle_age_adult</td>\n",
       "    </tr>\n",
       "    <tr>\n",
       "      <th>4</th>\n",
       "      <td>Male</td>\n",
       "      <td>21</td>\n",
       "      <td>11</td>\n",
       "      <td>152</td>\n",
       "      <td>1</td>\n",
       "      <td>28619</td>\n",
       "      <td>203</td>\n",
       "      <td>1</td>\n",
       "      <td>&lt; 1 Year</td>\n",
       "      <td>No</td>\n",
       "      <td>0</td>\n",
       "      <td>adult</td>\n",
       "    </tr>\n",
       "    <tr>\n",
       "      <th>5</th>\n",
       "      <td>Female</td>\n",
       "      <td>29</td>\n",
       "      <td>41</td>\n",
       "      <td>152</td>\n",
       "      <td>1</td>\n",
       "      <td>27496</td>\n",
       "      <td>39</td>\n",
       "      <td>1</td>\n",
       "      <td>&lt; 1 Year</td>\n",
       "      <td>No</td>\n",
       "      <td>0</td>\n",
       "      <td>adult</td>\n",
       "    </tr>\n",
       "  </tbody>\n",
       "</table>\n",
       "</div>"
      ],
      "text/plain": [
       "    gender  age  region_code  policy_sales_channel  previously_insured  \\\n",
       "id                                                                       \n",
       "1     Male   44           28                    26                   0   \n",
       "2     Male   76            3                    26                   0   \n",
       "3     Male   47           28                    26                   0   \n",
       "4     Male   21           11                   152                   1   \n",
       "5   Female   29           41                   152                   1   \n",
       "\n",
       "    annual_premium  vintage  driving_license vehicle_age vehicle_damage  \\\n",
       "id                                                                        \n",
       "1            40454      217                1   > 2 Years            Yes   \n",
       "2            33536      183                1    1-2 Year             No   \n",
       "3            38294       27                1   > 2 Years            Yes   \n",
       "4            28619      203                1    < 1 Year             No   \n",
       "5            27496       39                1    < 1 Year             No   \n",
       "\n",
       "    response     stage_of_life  \n",
       "id                              \n",
       "1          1  middle_age_adult  \n",
       "2          0      senior_adult  \n",
       "3          1  middle_age_adult  \n",
       "4          0             adult  \n",
       "5          0             adult  "
      ]
     },
     "execution_count": 166,
     "metadata": {},
     "output_type": "execute_result"
    }
   ],
   "source": [
    "df_2.head()"
   ]
  },
  {
   "cell_type": "markdown",
   "id": "8c2518ec",
   "metadata": {
    "ExecuteTime": {
     "end_time": "2022-04-04T02:05:06.715516Z",
     "start_time": "2022-04-04T02:05:06.711122Z"
    }
   },
   "source": [
    "## <font color=\"gray\"> 2.2 Hypothesis to be validated </font>"
   ]
  },
  {
   "cell_type": "markdown",
   "id": "74aa1865",
   "metadata": {
    "ExecuteTime": {
     "end_time": "2022-04-04T02:15:14.271780Z",
     "start_time": "2022-04-04T02:15:14.269408Z"
    }
   },
   "source": [
    "# 3.0 Data filtering"
   ]
  },
  {
   "cell_type": "code",
   "execution_count": 167,
   "id": "d530181b",
   "metadata": {
    "ExecuteTime": {
     "end_time": "2022-04-19T01:30:14.028485Z",
     "start_time": "2022-04-19T01:30:13.952155Z"
    }
   },
   "outputs": [],
   "source": [
    "df_3 = df_2.copy()"
   ]
  },
  {
   "cell_type": "code",
   "execution_count": 168,
   "id": "bd0e28fe",
   "metadata": {
    "ExecuteTime": {
     "end_time": "2022-04-19T01:30:14.522826Z",
     "start_time": "2022-04-19T01:30:14.495277Z"
    }
   },
   "outputs": [],
   "source": [
    "# According to previous data visualization previously carried out (session 1.2.2) the feature 'vintage' seems to be\n",
    "## constant and therefore do not carry useful information for group segregation. We are going to remove it\n",
    "\n",
    "df_3 = df_3.drop(columns=['vintage'])"
   ]
  },
  {
   "cell_type": "markdown",
   "id": "36d152d1",
   "metadata": {
    "ExecuteTime": {
     "end_time": "2022-04-04T02:15:14.271780Z",
     "start_time": "2022-04-04T02:15:14.269408Z"
    }
   },
   "source": [
    "# 4.0 Exploratory Data Analysis (EDA)"
   ]
  },
  {
   "cell_type": "code",
   "execution_count": 169,
   "id": "fcb50bbb",
   "metadata": {
    "ExecuteTime": {
     "end_time": "2022-04-19T01:30:16.906253Z",
     "start_time": "2022-04-19T01:30:16.881840Z"
    }
   },
   "outputs": [],
   "source": [
    "df_4 = df_3.copy()"
   ]
  },
  {
   "cell_type": "markdown",
   "id": "781caaac",
   "metadata": {
    "ExecuteTime": {
     "end_time": "2022-04-04T02:05:06.715516Z",
     "start_time": "2022-04-04T02:05:06.711122Z"
    }
   },
   "source": [
    "## <font color=\"gray\"> 4.1 Univariate analysis </font>"
   ]
  },
  {
   "cell_type": "code",
   "execution_count": 236,
   "id": "bd124a2a",
   "metadata": {
    "ExecuteTime": {
     "end_time": "2022-04-19T03:35:57.302845Z",
     "start_time": "2022-04-19T03:35:57.057657Z"
    }
   },
   "outputs": [
    {
     "data": {
      "text/plain": [
       "<AxesSubplot:xlabel='response', ylabel='count'>"
      ]
     },
     "execution_count": 236,
     "metadata": {},
     "output_type": "execute_result"
    },
    {
     "data": {
      "image/png": "[encoded data removed]",
      "text/plain": [
       "<Figure size 432x288 with 1 Axes>"
      ]
     },
     "metadata": {
      "needs_background": "light"
     },
     "output_type": "display_data"
    }
   ],
   "source": [
    "# Response variable\n",
    "\n",
    "sns.countplot(df['response'])"
   ]
  },
  {
   "cell_type": "markdown",
   "id": "153a7cd5",
   "metadata": {},
   "source": [
    "### <i>4.1.1 numerical attributes</i>"
   ]
  },
  {
   "cell_type": "markdown",
   "id": "aa83fa8f",
   "metadata": {
    "heading_collapsed": true
   },
   "source": [
    "### <i>4.1.2 categorical attributes</i>"
   ]
  },
  {
   "cell_type": "markdown",
   "id": "af35a3dd",
   "metadata": {
    "ExecuteTime": {
     "end_time": "2022-04-04T02:05:06.715516Z",
     "start_time": "2022-04-04T02:05:06.711122Z"
    }
   },
   "source": [
    "## <font color=\"gray\"> 4.2 Bivariate analysis </font>"
   ]
  },
  {
   "cell_type": "markdown",
   "id": "db8e1497",
   "metadata": {},
   "source": [
    "### <i>4.2.1 validating hypothesis raised</i>"
   ]
  },
  {
   "cell_type": "markdown",
   "id": "115fe8a9",
   "metadata": {
    "heading_collapsed": true
   },
   "source": [
    "### <i>4.2.2 statistical hypothesis testing</i>"
   ]
  },
  {
   "cell_type": "markdown",
   "id": "0c6eafbf",
   "metadata": {
    "ExecuteTime": {
     "end_time": "2022-04-04T02:05:06.715516Z",
     "start_time": "2022-04-04T02:05:06.711122Z"
    }
   },
   "source": [
    "## <font color=\"gray\"> 4.3 Multivariate analysis </font>"
   ]
  },
  {
   "cell_type": "markdown",
   "id": "eed13709",
   "metadata": {
    "heading_collapsed": true
   },
   "source": [
    "### <i>4.3.1 numerical attributes</i>"
   ]
  },
  {
   "cell_type": "code",
   "execution_count": 37,
   "id": "4dc74a6b",
   "metadata": {
    "ExecuteTime": {
     "end_time": "2022-04-18T22:36:39.619453Z",
     "start_time": "2022-04-18T22:36:39.179949Z"
    },
    "hidden": true
   },
   "outputs": [
    {
     "data": {
      "text/plain": [
       "<AxesSubplot:>"
      ]
     },
     "execution_count": 37,
     "metadata": {},
     "output_type": "execute_result"
    },
    {
     "data": {
      "image/png": "[encoded data removed]",
      "text/plain": [
       "<Figure size 1080x720 with 2 Axes>"
      ]
     },
     "metadata": {
      "needs_background": "light"
     },
     "output_type": "display_data"
    }
   ],
   "source": [
    "# Correlation analysis\n",
    "\n",
    "plt.figure(figsize=(15,10))\n",
    "\n",
    "sns.heatmap(df_4.select_dtypes(include=['float64', 'int64']).corr())"
   ]
  },
  {
   "cell_type": "markdown",
   "id": "93454c34",
   "metadata": {
    "heading_collapsed": true
   },
   "source": [
    "### <i>4.3.2 categorical attributes</i>"
   ]
  },
  {
   "cell_type": "code",
   "execution_count": 38,
   "id": "d8f37d29",
   "metadata": {
    "ExecuteTime": {
     "end_time": "2022-04-18T22:37:21.050593Z",
     "start_time": "2022-04-18T22:37:19.474196Z"
    },
    "hidden": true
   },
   "outputs": [
    {
     "data": {
      "text/plain": [
       "<AxesSubplot:>"
      ]
     },
     "execution_count": 38,
     "metadata": {},
     "output_type": "execute_result"
    },
    {
     "data": {
      "image/png": "[encoded data removed]",
      "text/plain": [
       "<Figure size 1080x720 with 2 Axes>"
      ]
     },
     "metadata": {
      "needs_background": "light"
     },
     "output_type": "display_data"
    }
   ],
   "source": [
    "# Correlation analysis\n",
    "\n",
    "plt.figure(figsize=(15,10))\n",
    "\n",
    "plot_corr(df_4,\n",
    "          df_4.select_dtypes(exclude=['float64', 'int64']).columns)"
   ]
  },
  {
   "cell_type": "markdown",
   "id": "f22a802e",
   "metadata": {
    "ExecuteTime": {
     "end_time": "2022-04-04T02:15:14.271780Z",
     "start_time": "2022-04-04T02:15:14.269408Z"
    }
   },
   "source": [
    "# 5.0 Data preparation"
   ]
  },
  {
   "cell_type": "code",
   "execution_count": 189,
   "id": "f05d6268",
   "metadata": {
    "ExecuteTime": {
     "end_time": "2022-04-19T02:05:27.322972Z",
     "start_time": "2022-04-19T02:05:27.301677Z"
    }
   },
   "outputs": [],
   "source": [
    "df_5 = df_4.copy()"
   ]
  },
  {
   "cell_type": "markdown",
   "id": "50b32a39",
   "metadata": {
    "ExecuteTime": {
     "end_time": "2022-04-04T02:05:06.715516Z",
     "start_time": "2022-04-04T02:05:06.711122Z"
    }
   },
   "source": [
    "## <font color=\"gray\"> 5.1 Train/Test split </font>"
   ]
  },
  {
   "cell_type": "code",
   "execution_count": 190,
   "id": "c62bfca0",
   "metadata": {
    "ExecuteTime": {
     "end_time": "2022-04-19T02:05:28.216866Z",
     "start_time": "2022-04-19T02:05:28.020322Z"
    }
   },
   "outputs": [],
   "source": [
    "# Train/Test split\n",
    "\n",
    "# X_train, X_test, y_train, y_test = train_test_split(y, X, test_size=0.33, random_state=42) <- sintax\n",
    "\n",
    "y_train, y_test, X_train, X_test = train_test_split(df_5['response'], \n",
    "                                                    df_5.drop(columns=['response']), \n",
    "                                                    test_size=0.33, \n",
    "                                                    random_state=42,\n",
    "                                                    stratify=df_5['response'])"
   ]
  },
  {
   "cell_type": "code",
   "execution_count": 191,
   "id": "28e8f89d",
   "metadata": {
    "ExecuteTime": {
     "end_time": "2022-04-19T02:05:28.376160Z",
     "start_time": "2022-04-19T02:05:28.370939Z"
    }
   },
   "outputs": [
    {
     "data": {
      "text/plain": [
       "0    0.877435\n",
       "1    0.122565\n",
       "Name: response, dtype: float64"
      ]
     },
     "execution_count": 191,
     "metadata": {},
     "output_type": "execute_result"
    }
   ],
   "source": [
    "# Checking class proportion - Training set\n",
    "\n",
    "y_train.value_counts(normalize=True)"
   ]
  },
  {
   "cell_type": "code",
   "execution_count": 192,
   "id": "96a6655f",
   "metadata": {
    "ExecuteTime": {
     "end_time": "2022-04-19T02:05:28.781996Z",
     "start_time": "2022-04-19T02:05:28.777347Z"
    }
   },
   "outputs": [
    {
     "data": {
      "text/plain": [
       "0    0.877439\n",
       "1    0.122561\n",
       "Name: response, dtype: float64"
      ]
     },
     "execution_count": 192,
     "metadata": {},
     "output_type": "execute_result"
    }
   ],
   "source": [
    "# Checking class proportion - Testing set\n",
    "\n",
    "y_test.value_counts(normalize=True)"
   ]
  },
  {
   "cell_type": "code",
   "execution_count": 193,
   "id": "fb3cc943",
   "metadata": {
    "ExecuteTime": {
     "end_time": "2022-04-19T02:05:29.206579Z",
     "start_time": "2022-04-19T02:05:29.199111Z"
    }
   },
   "outputs": [
    {
     "data": {
      "text/plain": [
       "0    0.877437\n",
       "1    0.122563\n",
       "Name: response, dtype: float64"
      ]
     },
     "execution_count": 193,
     "metadata": {},
     "output_type": "execute_result"
    }
   ],
   "source": [
    "# Reminding class proportion - Original data\n",
    "\n",
    "df['response'].value_counts(normalize=True)"
   ]
  },
  {
   "cell_type": "markdown",
   "id": "7ef72278",
   "metadata": {
    "ExecuteTime": {
     "end_time": "2022-04-04T02:05:06.715516Z",
     "start_time": "2022-04-04T02:05:06.711122Z"
    }
   },
   "source": [
    "## <font color=\"gray\"> 5.2 Scaling - numerical attributes </font>"
   ]
  },
  {
   "cell_type": "code",
   "execution_count": 194,
   "id": "8ba13c0e",
   "metadata": {
    "ExecuteTime": {
     "end_time": "2022-04-19T02:05:31.139726Z",
     "start_time": "2022-04-19T02:05:31.099897Z"
    }
   },
   "outputs": [],
   "source": [
    "# Scaling age\n",
    "\n",
    "scaler = MinMaxScaler()\n",
    "\n",
    "scaler.fit(X_train[['age']].values)\n",
    "\n",
    "X_train['age'] = scaler.transform(X_train[['age']].values) # scaling train\n",
    "X_test['age'] = scaler.transform(X_test[['age']].values) # scaling test\n",
    "\n",
    "\n",
    "# Scaling region_code\n",
    "\n",
    "scaler = MinMaxScaler()\n",
    "\n",
    "scaler.fit(X_train[['region_code']].values)\n",
    "\n",
    "X_train['region_code'] = scaler.transform(X_train[['region_code']].values) # scaling train\n",
    "X_test['region_code'] = scaler.transform(X_test[['region_code']].values) # scaling test\n",
    "\n",
    "\n",
    "# Scaling region_code\n",
    "\n",
    "scaler = MinMaxScaler()\n",
    "\n",
    "scaler.fit(X_train[['policy_sales_channel']].values)\n",
    "\n",
    "X_train['policy_sales_channel'] = scaler.transform(X_train[['policy_sales_channel']].values) # scaling train\n",
    "X_test['policy_sales_channel'] = scaler.transform(X_test[['policy_sales_channel']].values) # scaling test\n",
    "\n",
    "\n",
    "# Scaling annual_premium\n",
    "\n",
    "scaler = RobustScaler()\n",
    "\n",
    "scaler.fit(X_train[['annual_premium']].values)\n",
    "\n",
    "X_train['annual_premium'] = scaler.transform(X_train[['annual_premium']].values) # scaling train\n",
    "X_test['annual_premium'] = scaler.transform(X_test[['annual_premium']].values) # scaling test"
   ]
  },
  {
   "cell_type": "code",
   "execution_count": 195,
   "id": "02831e35",
   "metadata": {
    "ExecuteTime": {
     "end_time": "2022-04-19T02:05:32.249067Z",
     "start_time": "2022-04-19T02:05:32.236876Z"
    }
   },
   "outputs": [
    {
     "data": {
      "text/html": [
       "<div>\n",
       "<style scoped>\n",
       "    .dataframe tbody tr th:only-of-type {\n",
       "        vertical-align: middle;\n",
       "    }\n",
       "\n",
       "    .dataframe tbody tr th {\n",
       "        vertical-align: top;\n",
       "    }\n",
       "\n",
       "    .dataframe thead th {\n",
       "        text-align: right;\n",
       "    }\n",
       "</style>\n",
       "<table border=\"1\" class=\"dataframe\">\n",
       "  <thead>\n",
       "    <tr style=\"text-align: right;\">\n",
       "      <th></th>\n",
       "      <th>age</th>\n",
       "      <th>region_code</th>\n",
       "      <th>policy_sales_channel</th>\n",
       "      <th>previously_insured</th>\n",
       "      <th>annual_premium</th>\n",
       "      <th>driving_license</th>\n",
       "    </tr>\n",
       "    <tr>\n",
       "      <th>id</th>\n",
       "      <th></th>\n",
       "      <th></th>\n",
       "      <th></th>\n",
       "      <th></th>\n",
       "      <th></th>\n",
       "      <th></th>\n",
       "    </tr>\n",
       "  </thead>\n",
       "  <tbody>\n",
       "    <tr>\n",
       "      <th>347089</th>\n",
       "      <td>0.153846</td>\n",
       "      <td>0.673077</td>\n",
       "      <td>0.932099</td>\n",
       "      <td>1</td>\n",
       "      <td>-0.153391</td>\n",
       "      <td>1</td>\n",
       "    </tr>\n",
       "    <tr>\n",
       "      <th>148668</th>\n",
       "      <td>0.061538</td>\n",
       "      <td>0.192308</td>\n",
       "      <td>0.932099</td>\n",
       "      <td>1</td>\n",
       "      <td>-0.247924</td>\n",
       "      <td>1</td>\n",
       "    </tr>\n",
       "    <tr>\n",
       "      <th>282683</th>\n",
       "      <td>0.630769</td>\n",
       "      <td>0.538462</td>\n",
       "      <td>0.154321</td>\n",
       "      <td>0</td>\n",
       "      <td>0.635488</td>\n",
       "      <td>1</td>\n",
       "    </tr>\n",
       "    <tr>\n",
       "      <th>101296</th>\n",
       "      <td>0.030769</td>\n",
       "      <td>0.115385</td>\n",
       "      <td>0.932099</td>\n",
       "      <td>1</td>\n",
       "      <td>0.440577</td>\n",
       "      <td>1</td>\n",
       "    </tr>\n",
       "    <tr>\n",
       "      <th>60279</th>\n",
       "      <td>0.046154</td>\n",
       "      <td>0.288462</td>\n",
       "      <td>0.932099</td>\n",
       "      <td>0</td>\n",
       "      <td>0.333754</td>\n",
       "      <td>1</td>\n",
       "    </tr>\n",
       "  </tbody>\n",
       "</table>\n",
       "</div>"
      ],
      "text/plain": [
       "             age  region_code  policy_sales_channel  previously_insured  \\\n",
       "id                                                                        \n",
       "347089  0.153846     0.673077              0.932099                   1   \n",
       "148668  0.061538     0.192308              0.932099                   1   \n",
       "282683  0.630769     0.538462              0.154321                   0   \n",
       "101296  0.030769     0.115385              0.932099                   1   \n",
       "60279   0.046154     0.288462              0.932099                   0   \n",
       "\n",
       "        annual_premium  driving_license  \n",
       "id                                       \n",
       "347089       -0.153391                1  \n",
       "148668       -0.247924                1  \n",
       "282683        0.635488                1  \n",
       "101296        0.440577                1  \n",
       "60279         0.333754                1  "
      ]
     },
     "execution_count": 195,
     "metadata": {},
     "output_type": "execute_result"
    }
   ],
   "source": [
    "# Checking transformed features\n",
    "\n",
    "X_train.select_dtypes(include=['float64', 'int64']).head()"
   ]
  },
  {
   "cell_type": "markdown",
   "id": "7d8ad552",
   "metadata": {
    "ExecuteTime": {
     "end_time": "2022-04-04T02:05:06.715516Z",
     "start_time": "2022-04-04T02:05:06.711122Z"
    }
   },
   "source": [
    "## <font color=\"gray\"> 5.3 Encoding - categorical attributes </font>"
   ]
  },
  {
   "cell_type": "code",
   "execution_count": 196,
   "id": "555bd09d",
   "metadata": {
    "ExecuteTime": {
     "end_time": "2022-04-19T02:05:34.552792Z",
     "start_time": "2022-04-19T02:05:34.525879Z"
    }
   },
   "outputs": [
    {
     "data": {
      "text/html": [
       "<div>\n",
       "<style scoped>\n",
       "    .dataframe tbody tr th:only-of-type {\n",
       "        vertical-align: middle;\n",
       "    }\n",
       "\n",
       "    .dataframe tbody tr th {\n",
       "        vertical-align: top;\n",
       "    }\n",
       "\n",
       "    .dataframe thead th {\n",
       "        text-align: right;\n",
       "    }\n",
       "</style>\n",
       "<table border=\"1\" class=\"dataframe\">\n",
       "  <thead>\n",
       "    <tr style=\"text-align: right;\">\n",
       "      <th></th>\n",
       "      <th>gender</th>\n",
       "      <th>vehicle_age</th>\n",
       "      <th>vehicle_damage</th>\n",
       "      <th>stage_of_life</th>\n",
       "    </tr>\n",
       "    <tr>\n",
       "      <th>id</th>\n",
       "      <th></th>\n",
       "      <th></th>\n",
       "      <th></th>\n",
       "      <th></th>\n",
       "    </tr>\n",
       "  </thead>\n",
       "  <tbody>\n",
       "    <tr>\n",
       "      <th>347089</th>\n",
       "      <td>Female</td>\n",
       "      <td>&lt; 1 Year</td>\n",
       "      <td>No</td>\n",
       "      <td>adult</td>\n",
       "    </tr>\n",
       "    <tr>\n",
       "      <th>148668</th>\n",
       "      <td>Female</td>\n",
       "      <td>&lt; 1 Year</td>\n",
       "      <td>No</td>\n",
       "      <td>adult</td>\n",
       "    </tr>\n",
       "    <tr>\n",
       "      <th>282683</th>\n",
       "      <td>Female</td>\n",
       "      <td>1-2 Year</td>\n",
       "      <td>Yes</td>\n",
       "      <td>senior_adult</td>\n",
       "    </tr>\n",
       "    <tr>\n",
       "      <th>101296</th>\n",
       "      <td>Male</td>\n",
       "      <td>&lt; 1 Year</td>\n",
       "      <td>No</td>\n",
       "      <td>adult</td>\n",
       "    </tr>\n",
       "    <tr>\n",
       "      <th>60279</th>\n",
       "      <td>Female</td>\n",
       "      <td>&lt; 1 Year</td>\n",
       "      <td>No</td>\n",
       "      <td>adult</td>\n",
       "    </tr>\n",
       "    <tr>\n",
       "      <th>...</th>\n",
       "      <td>...</td>\n",
       "      <td>...</td>\n",
       "      <td>...</td>\n",
       "      <td>...</td>\n",
       "    </tr>\n",
       "    <tr>\n",
       "      <th>378817</th>\n",
       "      <td>Male</td>\n",
       "      <td>&lt; 1 Year</td>\n",
       "      <td>Yes</td>\n",
       "      <td>adult</td>\n",
       "    </tr>\n",
       "    <tr>\n",
       "      <th>361829</th>\n",
       "      <td>Male</td>\n",
       "      <td>&lt; 1 Year</td>\n",
       "      <td>No</td>\n",
       "      <td>adult</td>\n",
       "    </tr>\n",
       "    <tr>\n",
       "      <th>91745</th>\n",
       "      <td>Male</td>\n",
       "      <td>&lt; 1 Year</td>\n",
       "      <td>No</td>\n",
       "      <td>adult</td>\n",
       "    </tr>\n",
       "    <tr>\n",
       "      <th>48701</th>\n",
       "      <td>Female</td>\n",
       "      <td>1-2 Year</td>\n",
       "      <td>No</td>\n",
       "      <td>middle_age_adult</td>\n",
       "    </tr>\n",
       "    <tr>\n",
       "      <th>221792</th>\n",
       "      <td>Male</td>\n",
       "      <td>&lt; 1 Year</td>\n",
       "      <td>Yes</td>\n",
       "      <td>adult</td>\n",
       "    </tr>\n",
       "  </tbody>\n",
       "</table>\n",
       "<p>255343 rows × 4 columns</p>\n",
       "</div>"
      ],
      "text/plain": [
       "        gender vehicle_age vehicle_damage     stage_of_life\n",
       "id                                                         \n",
       "347089  Female    < 1 Year             No             adult\n",
       "148668  Female    < 1 Year             No             adult\n",
       "282683  Female    1-2 Year            Yes      senior_adult\n",
       "101296    Male    < 1 Year             No             adult\n",
       "60279   Female    < 1 Year             No             adult\n",
       "...        ...         ...            ...               ...\n",
       "378817    Male    < 1 Year            Yes             adult\n",
       "361829    Male    < 1 Year             No             adult\n",
       "91745     Male    < 1 Year             No             adult\n",
       "48701   Female    1-2 Year             No  middle_age_adult\n",
       "221792    Male    < 1 Year            Yes             adult\n",
       "\n",
       "[255343 rows x 4 columns]"
      ]
     },
     "execution_count": 196,
     "metadata": {},
     "output_type": "execute_result"
    }
   ],
   "source": [
    "X_train.select_dtypes(exclude=['float64', 'int64'])"
   ]
  },
  {
   "cell_type": "code",
   "execution_count": 197,
   "id": "2ccf8f36",
   "metadata": {
    "ExecuteTime": {
     "end_time": "2022-04-19T02:05:40.639161Z",
     "start_time": "2022-04-19T02:05:40.143749Z"
    }
   },
   "outputs": [],
   "source": [
    "# gender and vehicle_damage - One-hot encoding\n",
    "\n",
    "X_train = pd.get_dummies(data=X_train, columns=['gender']) # encoding train\n",
    "X_test = pd.get_dummies(data=X_test, columns=['gender']) # encoding test\n",
    "\n",
    "\n",
    "# vehicle_damage - 1 for Yes, 2 for No\n",
    "\n",
    "X_train['vehicle_damage'] = [1 if i=='Yes' else 0 for i in X_train['vehicle_damage']] # encoding train\n",
    "X_test['vehicle_damage'] = [1 if i=='Yes' else 0 for i in X_test['vehicle_damage']] # encoding test\n",
    "\n",
    "\n",
    "# vehicle_age - Ordinal encoding\n",
    "\n",
    "encoder = OrdinalEncoder()\n",
    "\n",
    "encoder.fit(X_train[['vehicle_age']].values)\n",
    "\n",
    "X_train['vehicle_age'] = encoder.transform(X_train[['vehicle_age']].values) # encoding train\n",
    "X_test['vehicle_age'] = encoder.transform(X_test[['vehicle_age']].values) # encoding test\n",
    "\n",
    "\n",
    "# stage of life - Label encoding\n",
    "\n",
    "encoder = LabelEncoder()\n",
    "\n",
    "encoder.fit(X_train[['stage_of_life']].values)\n",
    "\n",
    "X_train['stage_of_life'] = encoder.transform(X_train[['stage_of_life']].values) # encoding train\n",
    "X_test['stage_of_life'] = encoder.transform(X_test[['stage_of_life']].values) # encoding test"
   ]
  },
  {
   "cell_type": "code",
   "execution_count": 198,
   "id": "61522370",
   "metadata": {
    "ExecuteTime": {
     "end_time": "2022-04-19T02:05:41.772061Z",
     "start_time": "2022-04-19T02:05:41.763705Z"
    }
   },
   "outputs": [
    {
     "data": {
      "text/html": [
       "<div>\n",
       "<style scoped>\n",
       "    .dataframe tbody tr th:only-of-type {\n",
       "        vertical-align: middle;\n",
       "    }\n",
       "\n",
       "    .dataframe tbody tr th {\n",
       "        vertical-align: top;\n",
       "    }\n",
       "\n",
       "    .dataframe thead th {\n",
       "        text-align: right;\n",
       "    }\n",
       "</style>\n",
       "<table border=\"1\" class=\"dataframe\">\n",
       "  <thead>\n",
       "    <tr style=\"text-align: right;\">\n",
       "      <th></th>\n",
       "      <th>gender_Female</th>\n",
       "      <th>gender_Male</th>\n",
       "    </tr>\n",
       "    <tr>\n",
       "      <th>id</th>\n",
       "      <th></th>\n",
       "      <th></th>\n",
       "    </tr>\n",
       "  </thead>\n",
       "  <tbody>\n",
       "    <tr>\n",
       "      <th>347089</th>\n",
       "      <td>1</td>\n",
       "      <td>0</td>\n",
       "    </tr>\n",
       "    <tr>\n",
       "      <th>148668</th>\n",
       "      <td>1</td>\n",
       "      <td>0</td>\n",
       "    </tr>\n",
       "    <tr>\n",
       "      <th>282683</th>\n",
       "      <td>1</td>\n",
       "      <td>0</td>\n",
       "    </tr>\n",
       "    <tr>\n",
       "      <th>101296</th>\n",
       "      <td>0</td>\n",
       "      <td>1</td>\n",
       "    </tr>\n",
       "    <tr>\n",
       "      <th>60279</th>\n",
       "      <td>1</td>\n",
       "      <td>0</td>\n",
       "    </tr>\n",
       "    <tr>\n",
       "      <th>...</th>\n",
       "      <td>...</td>\n",
       "      <td>...</td>\n",
       "    </tr>\n",
       "    <tr>\n",
       "      <th>378817</th>\n",
       "      <td>0</td>\n",
       "      <td>1</td>\n",
       "    </tr>\n",
       "    <tr>\n",
       "      <th>361829</th>\n",
       "      <td>0</td>\n",
       "      <td>1</td>\n",
       "    </tr>\n",
       "    <tr>\n",
       "      <th>91745</th>\n",
       "      <td>0</td>\n",
       "      <td>1</td>\n",
       "    </tr>\n",
       "    <tr>\n",
       "      <th>48701</th>\n",
       "      <td>1</td>\n",
       "      <td>0</td>\n",
       "    </tr>\n",
       "    <tr>\n",
       "      <th>221792</th>\n",
       "      <td>0</td>\n",
       "      <td>1</td>\n",
       "    </tr>\n",
       "  </tbody>\n",
       "</table>\n",
       "<p>255343 rows × 2 columns</p>\n",
       "</div>"
      ],
      "text/plain": [
       "        gender_Female  gender_Male\n",
       "id                                \n",
       "347089              1            0\n",
       "148668              1            0\n",
       "282683              1            0\n",
       "101296              0            1\n",
       "60279               1            0\n",
       "...               ...          ...\n",
       "378817              0            1\n",
       "361829              0            1\n",
       "91745               0            1\n",
       "48701               1            0\n",
       "221792              0            1\n",
       "\n",
       "[255343 rows x 2 columns]"
      ]
     },
     "execution_count": 198,
     "metadata": {},
     "output_type": "execute_result"
    }
   ],
   "source": [
    "X_train.select_dtypes(exclude=['float64', 'int64'])"
   ]
  },
  {
   "cell_type": "markdown",
   "id": "a1ec1fd8",
   "metadata": {
    "ExecuteTime": {
     "end_time": "2022-04-04T02:15:14.271780Z",
     "start_time": "2022-04-04T02:15:14.269408Z"
    }
   },
   "source": [
    "# 6.0 Feature selection"
   ]
  },
  {
   "cell_type": "code",
   "execution_count": 199,
   "id": "5dab82f1",
   "metadata": {
    "ExecuteTime": {
     "end_time": "2022-04-19T02:05:47.572929Z",
     "start_time": "2022-04-19T02:05:47.565280Z"
    }
   },
   "outputs": [],
   "source": [
    "# X_train\n",
    "\n",
    "X_train_1 = X_train.copy()\n",
    "\n",
    "\n",
    "# y_train\n",
    "\n",
    "y_train_1 = y_train.copy()"
   ]
  },
  {
   "cell_type": "code",
   "execution_count": 200,
   "id": "2de182f2",
   "metadata": {
    "ExecuteTime": {
     "end_time": "2022-04-19T02:05:48.631289Z",
     "start_time": "2022-04-19T02:05:48.615709Z"
    }
   },
   "outputs": [
    {
     "data": {
      "text/html": [
       "<div>\n",
       "<style scoped>\n",
       "    .dataframe tbody tr th:only-of-type {\n",
       "        vertical-align: middle;\n",
       "    }\n",
       "\n",
       "    .dataframe tbody tr th {\n",
       "        vertical-align: top;\n",
       "    }\n",
       "\n",
       "    .dataframe thead th {\n",
       "        text-align: right;\n",
       "    }\n",
       "</style>\n",
       "<table border=\"1\" class=\"dataframe\">\n",
       "  <thead>\n",
       "    <tr style=\"text-align: right;\">\n",
       "      <th></th>\n",
       "      <th>age</th>\n",
       "      <th>region_code</th>\n",
       "      <th>policy_sales_channel</th>\n",
       "      <th>previously_insured</th>\n",
       "      <th>annual_premium</th>\n",
       "      <th>driving_license</th>\n",
       "      <th>vehicle_age</th>\n",
       "      <th>vehicle_damage</th>\n",
       "      <th>stage_of_life</th>\n",
       "      <th>gender_Female</th>\n",
       "      <th>gender_Male</th>\n",
       "    </tr>\n",
       "    <tr>\n",
       "      <th>id</th>\n",
       "      <th></th>\n",
       "      <th></th>\n",
       "      <th></th>\n",
       "      <th></th>\n",
       "      <th></th>\n",
       "      <th></th>\n",
       "      <th></th>\n",
       "      <th></th>\n",
       "      <th></th>\n",
       "      <th></th>\n",
       "      <th></th>\n",
       "    </tr>\n",
       "  </thead>\n",
       "  <tbody>\n",
       "    <tr>\n",
       "      <th>347089</th>\n",
       "      <td>0.153846</td>\n",
       "      <td>0.673077</td>\n",
       "      <td>0.932099</td>\n",
       "      <td>1</td>\n",
       "      <td>-0.153391</td>\n",
       "      <td>1</td>\n",
       "      <td>1.0</td>\n",
       "      <td>0</td>\n",
       "      <td>0</td>\n",
       "      <td>1</td>\n",
       "      <td>0</td>\n",
       "    </tr>\n",
       "    <tr>\n",
       "      <th>148668</th>\n",
       "      <td>0.061538</td>\n",
       "      <td>0.192308</td>\n",
       "      <td>0.932099</td>\n",
       "      <td>1</td>\n",
       "      <td>-0.247924</td>\n",
       "      <td>1</td>\n",
       "      <td>1.0</td>\n",
       "      <td>0</td>\n",
       "      <td>0</td>\n",
       "      <td>1</td>\n",
       "      <td>0</td>\n",
       "    </tr>\n",
       "    <tr>\n",
       "      <th>282683</th>\n",
       "      <td>0.630769</td>\n",
       "      <td>0.538462</td>\n",
       "      <td>0.154321</td>\n",
       "      <td>0</td>\n",
       "      <td>0.635488</td>\n",
       "      <td>1</td>\n",
       "      <td>0.0</td>\n",
       "      <td>1</td>\n",
       "      <td>2</td>\n",
       "      <td>1</td>\n",
       "      <td>0</td>\n",
       "    </tr>\n",
       "    <tr>\n",
       "      <th>101296</th>\n",
       "      <td>0.030769</td>\n",
       "      <td>0.115385</td>\n",
       "      <td>0.932099</td>\n",
       "      <td>1</td>\n",
       "      <td>0.440577</td>\n",
       "      <td>1</td>\n",
       "      <td>1.0</td>\n",
       "      <td>0</td>\n",
       "      <td>0</td>\n",
       "      <td>0</td>\n",
       "      <td>1</td>\n",
       "    </tr>\n",
       "    <tr>\n",
       "      <th>60279</th>\n",
       "      <td>0.046154</td>\n",
       "      <td>0.288462</td>\n",
       "      <td>0.932099</td>\n",
       "      <td>0</td>\n",
       "      <td>0.333754</td>\n",
       "      <td>1</td>\n",
       "      <td>1.0</td>\n",
       "      <td>0</td>\n",
       "      <td>0</td>\n",
       "      <td>1</td>\n",
       "      <td>0</td>\n",
       "    </tr>\n",
       "  </tbody>\n",
       "</table>\n",
       "</div>"
      ],
      "text/plain": [
       "             age  region_code  policy_sales_channel  previously_insured  \\\n",
       "id                                                                        \n",
       "347089  0.153846     0.673077              0.932099                   1   \n",
       "148668  0.061538     0.192308              0.932099                   1   \n",
       "282683  0.630769     0.538462              0.154321                   0   \n",
       "101296  0.030769     0.115385              0.932099                   1   \n",
       "60279   0.046154     0.288462              0.932099                   0   \n",
       "\n",
       "        annual_premium  driving_license  vehicle_age  vehicle_damage  \\\n",
       "id                                                                     \n",
       "347089       -0.153391                1          1.0               0   \n",
       "148668       -0.247924                1          1.0               0   \n",
       "282683        0.635488                1          0.0               1   \n",
       "101296        0.440577                1          1.0               0   \n",
       "60279         0.333754                1          1.0               0   \n",
       "\n",
       "        stage_of_life  gender_Female  gender_Male  \n",
       "id                                                 \n",
       "347089              0              1            0  \n",
       "148668              0              1            0  \n",
       "282683              2              1            0  \n",
       "101296              0              0            1  \n",
       "60279               0              1            0  "
      ]
     },
     "execution_count": 200,
     "metadata": {},
     "output_type": "execute_result"
    }
   ],
   "source": [
    "X_train.head()"
   ]
  },
  {
   "cell_type": "markdown",
   "id": "a543f90f",
   "metadata": {
    "ExecuteTime": {
     "end_time": "2022-04-04T02:05:06.715516Z",
     "start_time": "2022-04-04T02:05:06.711122Z"
    }
   },
   "source": [
    "## <font color=\"gray\"> 6.1 Boruta algorithm </font>"
   ]
  },
  {
   "cell_type": "code",
   "execution_count": 184,
   "id": "003374b0",
   "metadata": {
    "ExecuteTime": {
     "end_time": "2022-04-19T01:35:31.616617Z",
     "start_time": "2022-04-19T01:35:08.324513Z"
    }
   },
   "outputs": [
    {
     "name": "stdout",
     "output_type": "stream",
     "text": [
      "Iteration: \t1 / 100\n",
      "Confirmed: \t0\n",
      "Tentative: \t11\n",
      "Rejected: \t0\n",
      "Iteration: \t2 / 100\n",
      "Confirmed: \t0\n",
      "Tentative: \t11\n",
      "Rejected: \t0\n",
      "Iteration: \t3 / 100\n",
      "Confirmed: \t0\n",
      "Tentative: \t11\n",
      "Rejected: \t0\n",
      "Iteration: \t4 / 100\n",
      "Confirmed: \t0\n",
      "Tentative: \t11\n",
      "Rejected: \t0\n",
      "Iteration: \t5 / 100\n",
      "Confirmed: \t0\n",
      "Tentative: \t11\n",
      "Rejected: \t0\n",
      "Iteration: \t6 / 100\n",
      "Confirmed: \t0\n",
      "Tentative: \t11\n",
      "Rejected: \t0\n",
      "Iteration: \t7 / 100\n",
      "Confirmed: \t0\n",
      "Tentative: \t11\n",
      "Rejected: \t0\n",
      "Iteration: \t8 / 100\n",
      "Confirmed: \t10\n",
      "Tentative: \t0\n",
      "Rejected: \t1\n",
      "\n",
      "\n",
      "BorutaPy finished running.\n",
      "\n",
      "Iteration: \t9 / 100\n",
      "Confirmed: \t10\n",
      "Tentative: \t0\n",
      "Rejected: \t1\n"
     ]
    }
   ],
   "source": [
    "# Instantiating Boruta\n",
    "\n",
    "boruta = BorutaPy(RandomForestClassifier(n_jobs=-1, max_depth=6),\n",
    "                  n_estimators='auto',\n",
    "                  verbose=2,random_state=42).fit(X_train_1.values, y_train_1.values)"
   ]
  },
  {
   "cell_type": "code",
   "execution_count": 185,
   "id": "eee0da5f",
   "metadata": {
    "ExecuteTime": {
     "end_time": "2022-04-19T01:38:48.478321Z",
     "start_time": "2022-04-19T01:38:48.470847Z"
    }
   },
   "outputs": [
    {
     "data": {
      "text/plain": [
       "[True, True, True, True, True, False, True, True, True, True, True]"
      ]
     },
     "execution_count": 185,
     "metadata": {},
     "output_type": "execute_result"
    }
   ],
   "source": [
    "boruta.support_.tolist()"
   ]
  },
  {
   "cell_type": "markdown",
   "id": "53c464e3",
   "metadata": {
    "ExecuteTime": {
     "end_time": "2022-04-04T02:05:06.715516Z",
     "start_time": "2022-04-04T02:05:06.711122Z"
    }
   },
   "source": [
    "## <font color=\"gray\"> 6.2 Columns selected by Boruta</font>"
   ]
  },
  {
   "cell_type": "code",
   "execution_count": 188,
   "id": "5e9286f6",
   "metadata": {
    "ExecuteTime": {
     "end_time": "2022-04-19T01:42:10.251157Z",
     "start_time": "2022-04-19T01:42:10.242987Z"
    }
   },
   "outputs": [
    {
     "name": "stdout",
     "output_type": "stream",
     "text": [
      "Features selected by Boruta:\n",
      " ['age', 'region_code', 'policy_sales_channel', 'previously_insured', 'annual_premium', 'vehicle_age', 'vehicle_damage', 'stage_of_life', 'gender_Female', 'gender_Male']\n",
      "\n",
      "Features not selected by Boruta:\n",
      " ['driving_license']\n",
      "\n"
     ]
    }
   ],
   "source": [
    "cols_selected_boruta = X_train_1.loc[:, [True, True, True, True, True, False, \n",
    "                                         True, True, True, True, True]].columns.tolist()\n",
    "\n",
    "cols_not_selected_boruta = list(set(X_train_1.columns).difference(set(cols_selected_boruta )))\n",
    "\n",
    "print('Features selected by Boruta:\\n {}\\n'.format(cols_selected_boruta))\n",
    "\n",
    "print('Features not selected by Boruta:\\n {}\\n'.format(cols_not_selected_boruta))"
   ]
  },
  {
   "cell_type": "markdown",
   "id": "31a8cdf3",
   "metadata": {
    "ExecuteTime": {
     "end_time": "2022-04-04T02:15:14.271780Z",
     "start_time": "2022-04-04T02:15:14.269408Z"
    }
   },
   "source": [
    "# 7.0 Machine learning"
   ]
  },
  {
   "cell_type": "code",
   "execution_count": 237,
   "id": "bef19514",
   "metadata": {
    "ExecuteTime": {
     "end_time": "2022-04-19T03:40:13.185679Z",
     "start_time": "2022-04-19T03:40:13.164310Z"
    }
   },
   "outputs": [],
   "source": [
    "# Defining datasets with Boruta-selected features\n",
    "\n",
    "\n",
    "# X_train\n",
    "X_train_boruta = X_train[cols_selected_boruta].copy()\n",
    "\n",
    "\n",
    "# X_test\n",
    "X_test_boruta = X_test[cols_selected_boruta].copy()"
   ]
  },
  {
   "cell_type": "markdown",
   "id": "679577ff",
   "metadata": {
    "ExecuteTime": {
     "end_time": "2022-04-04T02:05:06.715516Z",
     "start_time": "2022-04-04T02:05:06.711122Z"
    }
   },
   "source": [
    "## <font color=\"gray\"> 7.1 Baseline model </font>"
   ]
  },
  {
   "cell_type": "code",
   "execution_count": 238,
   "id": "f52651d0",
   "metadata": {
    "ExecuteTime": {
     "end_time": "2022-04-19T03:40:16.240564Z",
     "start_time": "2022-04-19T03:40:16.040871Z"
    }
   },
   "outputs": [
    {
     "name": "stdout",
     "output_type": "stream",
     "text": [
      "Accuracy: 0.877\n",
      "\n",
      "Balanced Accuracy: 0.5\n",
      "\n",
      "AUC-ROC: 0.5\n",
      "\n",
      "Classification report:\n",
      "\n",
      "               precision    recall  f1-score   support\n",
      "\n",
      "           0       0.88      1.00      0.93    110352\n",
      "           1       0.00      0.00      0.00     15414\n",
      "\n",
      "    accuracy                           0.88    125766\n",
      "   macro avg       0.44      0.50      0.47    125766\n",
      "weighted avg       0.77      0.88      0.82    125766\n",
      "\n",
      "\n"
     ]
    },
    {
     "data": {
      "text/html": [
       "<div>\n",
       "<style scoped>\n",
       "    .dataframe tbody tr th:only-of-type {\n",
       "        vertical-align: middle;\n",
       "    }\n",
       "\n",
       "    .dataframe tbody tr th {\n",
       "        vertical-align: top;\n",
       "    }\n",
       "\n",
       "    .dataframe thead th {\n",
       "        text-align: right;\n",
       "    }\n",
       "</style>\n",
       "<table border=\"1\" class=\"dataframe\">\n",
       "  <thead>\n",
       "    <tr style=\"text-align: right;\">\n",
       "      <th></th>\n",
       "      <th>Model name</th>\n",
       "      <th>Accuracy</th>\n",
       "      <th>Balanced Accuracy</th>\n",
       "      <th>AUC</th>\n",
       "      <th>Precision</th>\n",
       "      <th>F1-score</th>\n",
       "      <th>Recall</th>\n",
       "    </tr>\n",
       "  </thead>\n",
       "  <tbody>\n",
       "    <tr>\n",
       "      <th>0</th>\n",
       "      <td>Dummy classifier</td>\n",
       "      <td>0.877439</td>\n",
       "      <td>0.5</td>\n",
       "      <td>0.5</td>\n",
       "      <td>0.0</td>\n",
       "      <td>0.0</td>\n",
       "      <td>0.0</td>\n",
       "    </tr>\n",
       "  </tbody>\n",
       "</table>\n",
       "</div>"
      ],
      "text/plain": [
       "         Model name  Accuracy Balanced Accuracy  AUC Precision F1-score Recall\n",
       "0  Dummy classifier  0.877439               0.5  0.5       0.0      0.0    0.0"
      ]
     },
     "execution_count": 238,
     "metadata": {},
     "output_type": "execute_result"
    }
   ],
   "source": [
    "model_name = 'Dummy classifier'\n",
    "\n",
    "model = DummyClassifier(strategy='most_frequent', random_state=42)\n",
    "\n",
    "\n",
    "df_log_reg = get_model_metrics(model_name, model, X_train_boruta, y_train, X_test_boruta, y_test)\n",
    "\n",
    "\n",
    "df_log_reg"
   ]
  },
  {
   "cell_type": "code",
   "execution_count": null,
   "id": "53249def",
   "metadata": {},
   "outputs": [],
   "source": [
    "# Cumulative gain curve\n",
    "\n",
    "plot_cumulative_gain()"
   ]
  },
  {
   "cell_type": "markdown",
   "id": "8d5f735e",
   "metadata": {
    "ExecuteTime": {
     "end_time": "2022-04-04T02:05:06.715516Z",
     "start_time": "2022-04-04T02:05:06.711122Z"
    },
    "heading_collapsed": true
   },
   "source": [
    "## <font color=\"gray\"> 7.2 Logistic Regression </font>"
   ]
  },
  {
   "cell_type": "code",
   "execution_count": 228,
   "id": "2e610067",
   "metadata": {
    "ExecuteTime": {
     "end_time": "2022-04-19T03:14:28.482114Z",
     "start_time": "2022-04-19T03:14:25.949494Z"
    },
    "hidden": true
   },
   "outputs": [
    {
     "name": "stdout",
     "output_type": "stream",
     "text": [
      "Accuracy: 0.877\n",
      "\n",
      "Balanced Accuracy: 0.5\n",
      "\n",
      "AUC-ROC: 0.826\n",
      "\n",
      "Classification report:\n",
      "\n",
      "               precision    recall  f1-score   support\n",
      "\n",
      "           0       0.88      1.00      0.93    110352\n",
      "           1       0.00      0.00      0.00     15414\n",
      "\n",
      "    accuracy                           0.88    125766\n",
      "   macro avg       0.44      0.50      0.47    125766\n",
      "weighted avg       0.77      0.88      0.82    125766\n",
      "\n",
      "\n"
     ]
    },
    {
     "data": {
      "text/html": [
       "<div>\n",
       "<style scoped>\n",
       "    .dataframe tbody tr th:only-of-type {\n",
       "        vertical-align: middle;\n",
       "    }\n",
       "\n",
       "    .dataframe tbody tr th {\n",
       "        vertical-align: top;\n",
       "    }\n",
       "\n",
       "    .dataframe thead th {\n",
       "        text-align: right;\n",
       "    }\n",
       "</style>\n",
       "<table border=\"1\" class=\"dataframe\">\n",
       "  <thead>\n",
       "    <tr style=\"text-align: right;\">\n",
       "      <th></th>\n",
       "      <th>Model name</th>\n",
       "      <th>Accuracy</th>\n",
       "      <th>Balanced Accuracy</th>\n",
       "      <th>AUC</th>\n",
       "      <th>Precision</th>\n",
       "      <th>F1-score</th>\n",
       "      <th>Recall</th>\n",
       "    </tr>\n",
       "  </thead>\n",
       "  <tbody>\n",
       "    <tr>\n",
       "      <th>0</th>\n",
       "      <td>Logistic Regression</td>\n",
       "      <td>0.877439</td>\n",
       "      <td>0.5</td>\n",
       "      <td>0.825961</td>\n",
       "      <td>0.0</td>\n",
       "      <td>0.0</td>\n",
       "      <td>0.0</td>\n",
       "    </tr>\n",
       "  </tbody>\n",
       "</table>\n",
       "</div>"
      ],
      "text/plain": [
       "            Model name  Accuracy Balanced Accuracy       AUC Precision  \\\n",
       "0  Logistic Regression  0.877439               0.5  0.825961       0.0   \n",
       "\n",
       "  F1-score Recall  \n",
       "0      0.0    0.0  "
      ]
     },
     "execution_count": 228,
     "metadata": {},
     "output_type": "execute_result"
    }
   ],
   "source": [
    "model_name = 'Logistic Regression'\n",
    "\n",
    "model = LogisticRegression(random_state=42, n_jobs=-1, max_iter=10000)\n",
    "\n",
    "\n",
    "df_log_reg = get_model_metrics(model_name, model, X_train_boruta, y_train, X_test_boruta, y_test)\n",
    "\n",
    "\n",
    "df_log_reg"
   ]
  },
  {
   "cell_type": "code",
   "execution_count": 229,
   "id": "01fccbfc",
   "metadata": {
    "ExecuteTime": {
     "end_time": "2022-04-19T03:15:23.689644Z",
     "start_time": "2022-04-19T03:15:18.988704Z"
    },
    "hidden": true
   },
   "outputs": [
    {
     "name": "stdout",
     "output_type": "stream",
     "text": [
      "Accuracy: 0.877\n",
      "\n",
      "Balanced Accuracy: 0.5\n",
      "\n",
      "AUC-ROC: 0.826\n",
      "\n",
      "Classification report:\n",
      "\n",
      "               precision    recall  f1-score   support\n",
      "\n",
      "           0       0.88      1.00      0.93    110352\n",
      "           1       0.00      0.00      0.00     15414\n",
      "\n",
      "    accuracy                           0.88    125766\n",
      "   macro avg       0.44      0.50      0.47    125766\n",
      "weighted avg       0.77      0.88      0.82    125766\n",
      "\n",
      "\n"
     ]
    },
    {
     "data": {
      "text/html": [
       "<div>\n",
       "<style scoped>\n",
       "    .dataframe tbody tr th:only-of-type {\n",
       "        vertical-align: middle;\n",
       "    }\n",
       "\n",
       "    .dataframe tbody tr th {\n",
       "        vertical-align: top;\n",
       "    }\n",
       "\n",
       "    .dataframe thead th {\n",
       "        text-align: right;\n",
       "    }\n",
       "</style>\n",
       "<table border=\"1\" class=\"dataframe\">\n",
       "  <thead>\n",
       "    <tr style=\"text-align: right;\">\n",
       "      <th></th>\n",
       "      <th>Model name</th>\n",
       "      <th>Accuracy</th>\n",
       "      <th>Balanced Accuracy</th>\n",
       "      <th>AUC</th>\n",
       "      <th>Precision</th>\n",
       "      <th>F1-score</th>\n",
       "      <th>Recall</th>\n",
       "    </tr>\n",
       "  </thead>\n",
       "  <tbody>\n",
       "    <tr>\n",
       "      <th>0</th>\n",
       "      <td>Logistic Regression balanced</td>\n",
       "      <td>0.877439</td>\n",
       "      <td>0.5</td>\n",
       "      <td>0.825943</td>\n",
       "      <td>0.0</td>\n",
       "      <td>0.0</td>\n",
       "      <td>0.0</td>\n",
       "    </tr>\n",
       "  </tbody>\n",
       "</table>\n",
       "</div>"
      ],
      "text/plain": [
       "                     Model name  Accuracy Balanced Accuracy       AUC  \\\n",
       "0  Logistic Regression balanced  0.877439               0.5  0.825943   \n",
       "\n",
       "  Precision F1-score Recall  \n",
       "0       0.0      0.0    0.0  "
      ]
     },
     "execution_count": 229,
     "metadata": {},
     "output_type": "execute_result"
    }
   ],
   "source": [
    "model_name = 'Logistic Regression balanced'\n",
    "\n",
    "model = LogisticRegression(random_state=42, \n",
    "                           n_jobs=-1, \n",
    "                           max_iter=10000,\n",
    "                          class_weight={y_test.value_counts(normalize=True).index[0]:y_test.value_counts(normalize=True).tolist()[0], y_test.value_counts(normalize=True).index[1]:\n",
    "                                        y_test.value_counts(normalize=True).tolist()[1] })\n",
    "\n",
    "\n",
    "get_model_metrics(model_name, model, X_train_boruta, y_train, X_test_boruta, y_test)"
   ]
  },
  {
   "cell_type": "markdown",
   "id": "09a1bc0e",
   "metadata": {
    "ExecuteTime": {
     "end_time": "2022-04-04T02:05:06.715516Z",
     "start_time": "2022-04-04T02:05:06.711122Z"
    },
    "heading_collapsed": true
   },
   "source": [
    "## <font color=\"gray\"> 7.3 Random Forest </font>"
   ]
  },
  {
   "cell_type": "code",
   "execution_count": 230,
   "id": "4c3b7a5b",
   "metadata": {
    "ExecuteTime": {
     "end_time": "2022-04-19T03:16:02.422511Z",
     "start_time": "2022-04-19T03:15:57.101484Z"
    },
    "hidden": true
   },
   "outputs": [
    {
     "name": "stdout",
     "output_type": "stream",
     "text": [
      "Accuracy: 0.85\n",
      "\n",
      "Balanced Accuracy: 0.575\n",
      "\n",
      "AUC-ROC: 0.811\n",
      "\n",
      "Classification report:\n",
      "\n",
      "               precision    recall  f1-score   support\n",
      "\n",
      "           0       0.89      0.94      0.92    110352\n",
      "           1       0.33      0.21      0.26     15414\n",
      "\n",
      "    accuracy                           0.85    125766\n",
      "   macro avg       0.61      0.57      0.59    125766\n",
      "weighted avg       0.83      0.85      0.84    125766\n",
      "\n",
      "\n"
     ]
    },
    {
     "data": {
      "text/html": [
       "<div>\n",
       "<style scoped>\n",
       "    .dataframe tbody tr th:only-of-type {\n",
       "        vertical-align: middle;\n",
       "    }\n",
       "\n",
       "    .dataframe tbody tr th {\n",
       "        vertical-align: top;\n",
       "    }\n",
       "\n",
       "    .dataframe thead th {\n",
       "        text-align: right;\n",
       "    }\n",
       "</style>\n",
       "<table border=\"1\" class=\"dataframe\">\n",
       "  <thead>\n",
       "    <tr style=\"text-align: right;\">\n",
       "      <th></th>\n",
       "      <th>Model name</th>\n",
       "      <th>Accuracy</th>\n",
       "      <th>Balanced Accuracy</th>\n",
       "      <th>AUC</th>\n",
       "      <th>Precision</th>\n",
       "      <th>F1-score</th>\n",
       "      <th>Recall</th>\n",
       "    </tr>\n",
       "  </thead>\n",
       "  <tbody>\n",
       "    <tr>\n",
       "      <th>0</th>\n",
       "      <td>Random Forest</td>\n",
       "      <td>0.849816</td>\n",
       "      <td>0.574846</td>\n",
       "      <td>0.810877</td>\n",
       "      <td>0.325707</td>\n",
       "      <td>0.255792</td>\n",
       "      <td>0.210588</td>\n",
       "    </tr>\n",
       "  </tbody>\n",
       "</table>\n",
       "</div>"
      ],
      "text/plain": [
       "      Model name  Accuracy Balanced Accuracy       AUC Precision  F1-score  \\\n",
       "0  Random Forest  0.849816          0.574846  0.810877  0.325707  0.255792   \n",
       "\n",
       "     Recall  \n",
       "0  0.210588  "
      ]
     },
     "execution_count": 230,
     "metadata": {},
     "output_type": "execute_result"
    }
   ],
   "source": [
    "model_name = 'Random Forest'\n",
    "\n",
    "model = RandomForestClassifier(n_jobs=-1, random_state=42)\n",
    "\n",
    "\n",
    "df_rf = get_model_metrics(model_name, model, X_train_boruta, y_train, X_test_boruta, y_test)\n",
    "\n",
    "\n",
    "df_rf"
   ]
  },
  {
   "cell_type": "markdown",
   "id": "95f17977",
   "metadata": {
    "ExecuteTime": {
     "end_time": "2022-04-04T02:05:06.715516Z",
     "start_time": "2022-04-04T02:05:06.711122Z"
    },
    "heading_collapsed": true
   },
   "source": [
    "## <font color=\"gray\"> 7.4 XGBoost </font>"
   ]
  },
  {
   "cell_type": "code",
   "execution_count": 233,
   "id": "02dec9ca",
   "metadata": {
    "ExecuteTime": {
     "end_time": "2022-04-19T03:18:27.048280Z",
     "start_time": "2022-04-19T03:18:21.443238Z"
    },
    "hidden": true
   },
   "outputs": [
    {
     "name": "stdout",
     "output_type": "stream",
     "text": [
      "Accuracy: 0.877\n",
      "\n",
      "Balanced Accuracy: 0.507\n",
      "\n",
      "AUC-ROC: 0.857\n",
      "\n",
      "Classification report:\n",
      "\n",
      "               precision    recall  f1-score   support\n",
      "\n",
      "           0       0.88      1.00      0.93    110352\n",
      "           1       0.48      0.02      0.03     15414\n",
      "\n",
      "    accuracy                           0.88    125766\n",
      "   macro avg       0.68      0.51      0.48    125766\n",
      "weighted avg       0.83      0.88      0.82    125766\n",
      "\n",
      "\n"
     ]
    },
    {
     "data": {
      "text/html": [
       "<div>\n",
       "<style scoped>\n",
       "    .dataframe tbody tr th:only-of-type {\n",
       "        vertical-align: middle;\n",
       "    }\n",
       "\n",
       "    .dataframe tbody tr th {\n",
       "        vertical-align: top;\n",
       "    }\n",
       "\n",
       "    .dataframe thead th {\n",
       "        text-align: right;\n",
       "    }\n",
       "</style>\n",
       "<table border=\"1\" class=\"dataframe\">\n",
       "  <thead>\n",
       "    <tr style=\"text-align: right;\">\n",
       "      <th></th>\n",
       "      <th>Model name</th>\n",
       "      <th>Accuracy</th>\n",
       "      <th>Balanced Accuracy</th>\n",
       "      <th>AUC</th>\n",
       "      <th>Precision</th>\n",
       "      <th>F1-score</th>\n",
       "      <th>Recall</th>\n",
       "    </tr>\n",
       "  </thead>\n",
       "  <tbody>\n",
       "    <tr>\n",
       "      <th>0</th>\n",
       "      <td>XG Boost</td>\n",
       "      <td>0.87728</td>\n",
       "      <td>0.507333</td>\n",
       "      <td>0.857016</td>\n",
       "      <td>0.481884</td>\n",
       "      <td>0.033321</td>\n",
       "      <td>0.017257</td>\n",
       "    </tr>\n",
       "  </tbody>\n",
       "</table>\n",
       "</div>"
      ],
      "text/plain": [
       "  Model name Accuracy Balanced Accuracy       AUC Precision  F1-score  \\\n",
       "0   XG Boost  0.87728          0.507333  0.857016  0.481884  0.033321   \n",
       "\n",
       "     Recall  \n",
       "0  0.017257  "
      ]
     },
     "execution_count": 233,
     "metadata": {},
     "output_type": "execute_result"
    }
   ],
   "source": [
    "model_name = 'XG Boost'\n",
    "\n",
    "model = xgb.XGBClassifier(objective='binary:logistic',\n",
    "                            n_estimators=100,\n",
    "                            max_depth=10,\n",
    "                            tree_method='exact',\n",
    "                            n_jobs=-1,\n",
    "                            random_state=42)\n",
    "\n",
    "\n",
    "df_xgb = get_model_metrics(model_name, model, X_train_boruta, y_train, X_test_boruta, y_test)\n",
    "\n",
    "\n",
    "df_xgb"
   ]
  },
  {
   "cell_type": "markdown",
   "id": "48b6377f",
   "metadata": {
    "ExecuteTime": {
     "end_time": "2022-04-04T02:05:06.715516Z",
     "start_time": "2022-04-04T02:05:06.711122Z"
    },
    "heading_collapsed": true
   },
   "source": [
    "## <font color=\"gray\"> 7.5 KNN </font>"
   ]
  },
  {
   "cell_type": "code",
   "execution_count": 235,
   "id": "7973e2f1",
   "metadata": {
    "ExecuteTime": {
     "end_time": "2022-04-19T03:20:28.599489Z",
     "start_time": "2022-04-19T03:20:08.963530Z"
    },
    "hidden": true
   },
   "outputs": [
    {
     "name": "stdout",
     "output_type": "stream",
     "text": [
      "Accuracy: 0.855\n",
      "\n",
      "Balanced Accuracy: 0.562\n",
      "\n",
      "AUC-ROC: 0.757\n",
      "\n",
      "Classification report:\n",
      "\n",
      "               precision    recall  f1-score   support\n",
      "\n",
      "           0       0.89      0.95      0.92    110352\n",
      "           1       0.33      0.17      0.23     15414\n",
      "\n",
      "    accuracy                           0.86    125766\n",
      "   macro avg       0.61      0.56      0.57    125766\n",
      "weighted avg       0.82      0.86      0.84    125766\n",
      "\n",
      "\n"
     ]
    },
    {
     "data": {
      "text/html": [
       "<div>\n",
       "<style scoped>\n",
       "    .dataframe tbody tr th:only-of-type {\n",
       "        vertical-align: middle;\n",
       "    }\n",
       "\n",
       "    .dataframe tbody tr th {\n",
       "        vertical-align: top;\n",
       "    }\n",
       "\n",
       "    .dataframe thead th {\n",
       "        text-align: right;\n",
       "    }\n",
       "</style>\n",
       "<table border=\"1\" class=\"dataframe\">\n",
       "  <thead>\n",
       "    <tr style=\"text-align: right;\">\n",
       "      <th></th>\n",
       "      <th>Model name</th>\n",
       "      <th>Accuracy</th>\n",
       "      <th>Balanced Accuracy</th>\n",
       "      <th>AUC</th>\n",
       "      <th>Precision</th>\n",
       "      <th>F1-score</th>\n",
       "      <th>Recall</th>\n",
       "    </tr>\n",
       "  </thead>\n",
       "  <tbody>\n",
       "    <tr>\n",
       "      <th>0</th>\n",
       "      <td>KNN</td>\n",
       "      <td>0.855303</td>\n",
       "      <td>0.562065</td>\n",
       "      <td>0.756501</td>\n",
       "      <td>0.328909</td>\n",
       "      <td>0.227261</td>\n",
       "      <td>0.173608</td>\n",
       "    </tr>\n",
       "  </tbody>\n",
       "</table>\n",
       "</div>"
      ],
      "text/plain": [
       "  Model name  Accuracy Balanced Accuracy       AUC Precision  F1-score  \\\n",
       "0        KNN  0.855303          0.562065  0.756501  0.328909  0.227261   \n",
       "\n",
       "     Recall  \n",
       "0  0.173608  "
      ]
     },
     "execution_count": 235,
     "metadata": {},
     "output_type": "execute_result"
    }
   ],
   "source": [
    "model_name = 'KNN'\n",
    "\n",
    "model = KNeighborsClassifier(n_jobs=-1)\n",
    "\n",
    "\n",
    "df_knn = get_model_metrics(model_name, model, X_train_boruta, y_train, X_test_boruta, y_test)\n",
    "\n",
    "\n",
    "df_knn"
   ]
  },
  {
   "cell_type": "markdown",
   "id": "c36665df",
   "metadata": {
    "hidden": true
   },
   "source": [
    "Cross validation"
   ]
  },
  {
   "cell_type": "markdown",
   "id": "e8869c7a",
   "metadata": {
    "ExecuteTime": {
     "end_time": "2022-04-04T02:15:14.271780Z",
     "start_time": "2022-04-04T02:15:14.269408Z"
    },
    "heading_collapsed": true
   },
   "source": [
    "# 8.0 Hyperparameter fine tuning"
   ]
  },
  {
   "cell_type": "code",
   "execution_count": null,
   "id": "9b2797c1",
   "metadata": {
    "hidden": true
   },
   "outputs": [],
   "source": []
  },
  {
   "cell_type": "markdown",
   "id": "8e16e0d7",
   "metadata": {
    "ExecuteTime": {
     "end_time": "2022-04-04T02:05:06.715516Z",
     "start_time": "2022-04-04T02:05:06.711122Z"
    },
    "hidden": true
   },
   "source": [
    "## <font color=\"gray\"> 8.1 Random search </font>"
   ]
  },
  {
   "cell_type": "markdown",
   "id": "5911374b",
   "metadata": {
    "ExecuteTime": {
     "end_time": "2022-04-04T02:05:06.715516Z",
     "start_time": "2022-04-04T02:05:06.711122Z"
    },
    "hidden": true
   },
   "source": [
    "## <font color=\"gray\"> 8.2 Tuned final model </font>"
   ]
  },
  {
   "cell_type": "markdown",
   "id": "a4c7d7a2",
   "metadata": {
    "ExecuteTime": {
     "end_time": "2022-04-04T02:15:14.271780Z",
     "start_time": "2022-04-04T02:15:14.269408Z"
    },
    "heading_collapsed": true
   },
   "source": [
    "# 9.0 Error interpretation"
   ]
  },
  {
   "cell_type": "code",
   "execution_count": null,
   "id": "d5110788",
   "metadata": {
    "hidden": true
   },
   "outputs": [],
   "source": []
  },
  {
   "cell_type": "markdown",
   "id": "ee584881",
   "metadata": {
    "ExecuteTime": {
     "end_time": "2022-04-04T02:05:06.715516Z",
     "start_time": "2022-04-04T02:05:06.711122Z"
    },
    "heading_collapsed": true,
    "hidden": true
   },
   "source": [
    "## <font color=\"gray\"> 9.1 Main </font>"
   ]
  },
  {
   "cell_type": "markdown",
   "id": "7622e9f2",
   "metadata": {
    "ExecuteTime": {
     "end_time": "2022-04-04T02:15:14.271780Z",
     "start_time": "2022-04-04T02:15:14.269408Z"
    },
    "heading_collapsed": true
   },
   "source": [
    "# 10.0 Deploy"
   ]
  },
  {
   "cell_type": "markdown",
   "id": "c952557a",
   "metadata": {
    "ExecuteTime": {
     "end_time": "2022-04-04T02:05:06.715516Z",
     "start_time": "2022-04-04T02:05:06.711122Z"
    },
    "heading_collapsed": true,
    "hidden": true
   },
   "source": [
    "## <font color=\"gray\"> 10.1 Class data_prep.py </font>"
   ]
  },
  {
   "cell_type": "code",
   "execution_count": null,
   "id": "d92f3b1c",
   "metadata": {
    "hidden": true
   },
   "outputs": [],
   "source": []
  },
  {
   "cell_type": "code",
   "execution_count": null,
   "id": "73d77392",
   "metadata": {
    "hidden": true
   },
   "outputs": [],
   "source": []
  },
  {
   "cell_type": "markdown",
   "id": "895c86b0",
   "metadata": {
    "ExecuteTime": {
     "end_time": "2022-04-04T02:05:06.715516Z",
     "start_time": "2022-04-04T02:05:06.711122Z"
    },
    "heading_collapsed": true,
    "hidden": true
   },
   "source": [
    "## <font color=\"gray\"> 10.2 API_handler.py </font>"
   ]
  },
  {
   "cell_type": "code",
   "execution_count": null,
   "id": "5881546c",
   "metadata": {
    "hidden": true
   },
   "outputs": [],
   "source": []
  },
  {
   "cell_type": "markdown",
   "id": "fa4a161b",
   "metadata": {
    "ExecuteTime": {
     "end_time": "2022-04-04T02:05:06.715516Z",
     "start_time": "2022-04-04T02:05:06.711122Z"
    },
    "heading_collapsed": true,
    "hidden": true
   },
   "source": [
    "## <font color=\"gray\"> 10.3 API tester local </font>"
   ]
  },
  {
   "cell_type": "code",
   "execution_count": null,
   "id": "6cef4da6",
   "metadata": {
    "hidden": true
   },
   "outputs": [],
   "source": []
  },
  {
   "cell_type": "markdown",
   "id": "ad83170d",
   "metadata": {
    "ExecuteTime": {
     "end_time": "2022-04-04T02:05:06.715516Z",
     "start_time": "2022-04-04T02:05:06.711122Z"
    },
    "heading_collapsed": true,
    "hidden": true
   },
   "source": [
    "## <font color=\"gray\"> 10.4 API tester remote/cloud </font>"
   ]
  },
  {
   "cell_type": "code",
   "execution_count": null,
   "id": "8a452166",
   "metadata": {
    "hidden": true
   },
   "outputs": [],
   "source": []
  }
 ],
 "metadata": {
  "kernelspec": {
   "display_name": "Python 3 (ipykernel)",
   "language": "python",
   "name": "python3"
  },
  "language_info": {
   "codemirror_mode": {
    "name": "ipython",
    "version": 3
   },
   "file_extension": ".py",
   "mimetype": "text/x-python",
   "name": "python",
   "nbconvert_exporter": "python",
   "pygments_lexer": "ipython3",
   "version": "3.8.0"
  },
  "toc": {
   "base_numbering": 1,
   "nav_menu": {},
   "number_sections": false,
   "sideBar": true,
   "skip_h1_title": false,
   "title_cell": "Table of Contents",
   "title_sidebar": "Contents",
   "toc_cell": false,
   "toc_position": {
    "height": "calc(100% - 180px)",
    "left": "10px",
    "top": "150px",
    "width": "438px"
   },
   "toc_section_display": true,
   "toc_window_display": true
  },
  "varInspector": {
   "cols": {
    "lenName": 16,
    "lenType": 16,
    "lenVar": 40
   },
   "kernels_config": {
    "python": {
     "delete_cmd_postfix": "",
     "delete_cmd_prefix": "del ",
     "library": "var_list.py",
     "varRefreshCmd": "print(var_dic_list())"
    },
    "r": {
     "delete_cmd_postfix": ") ",
     "delete_cmd_prefix": "rm(",
     "library": "var_list.r",
     "varRefreshCmd": "cat(var_dic_list()) "
    }
   },
   "types_to_exclude": [
    "module",
    "function",
    "builtin_function_or_method",
    "instance",
    "_Feature"
   ],
   "window_display": false
  }
 },
 "nbformat": 4,
 "nbformat_minor": 5
}
