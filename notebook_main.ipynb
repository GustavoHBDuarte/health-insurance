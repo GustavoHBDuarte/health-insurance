{
 "cells": [
  {
   "cell_type": "markdown",
   "id": "d80133de",
   "metadata": {
    "ExecuteTime": {
     "end_time": "2022-04-04T02:05:06.715516Z",
     "start_time": "2022-04-04T02:05:06.711122Z"
    }
   },
   "source": [
    "# <font color=\"green\"> Library Imports </font>"
   ]
  },
  {
   "cell_type": "code",
   "execution_count": 1,
   "id": "bb14d387",
   "metadata": {
    "ExecuteTime": {
     "end_time": "2022-04-06T03:02:42.228360Z",
     "start_time": "2022-04-06T03:01:47.380987Z"
    }
   },
   "outputs": [],
   "source": [
    "import pandas as pd\n",
    "import numpy as np\n",
    "import seaborn as sns\n",
    "import matplotlib.pyplot as plt\n",
    "\n",
    "from sqlalchemy import create_engine\n",
    "\n",
    "import warnings"
   ]
  },
  {
   "cell_type": "markdown",
   "id": "2e8671f3",
   "metadata": {
    "ExecuteTime": {
     "end_time": "2022-04-04T02:05:06.715516Z",
     "start_time": "2022-04-04T02:05:06.711122Z"
    }
   },
   "source": [
    "# <font color=\"green\"> Helper functions </font>"
   ]
  },
  {
   "cell_type": "code",
   "execution_count": 2,
   "id": "39c0f16c",
   "metadata": {
    "ExecuteTime": {
     "end_time": "2022-04-06T03:04:57.602947Z",
     "start_time": "2022-04-06T03:04:57.596105Z"
    }
   },
   "outputs": [],
   "source": [
    "def descriptive_statistics(df):\n",
    "    \n",
    "    df = df.select_dtypes(include=['int64', 'float64'])\n",
    "\n",
    "    # Descriptive statistics\n",
    "\n",
    "    df_descriptive = pd.DataFrame(data=[df.apply(np.min),\n",
    "                                        df.apply(np.max),\n",
    "                                        df.apply(lambda x: np.max(x) - np.min(x)),\n",
    "                                        df.apply(np.mean),\n",
    "                                        df.apply(np.median),\n",
    "                                        df.apply(np.std),\n",
    "                                        df.apply(lambda x: x.skew()),\n",
    "                                        df.apply(lambda x: x.kurtosis())],\n",
    "                                  index=np.array(['min', 'max', 'range', 'mean', 'median', 'std', 'skew', 'kurtosis']))\n",
    "    \n",
    "    return df_descriptive\n",
    "\n",
    "\n",
    "\n",
    "def jupyter_settings():\n",
    "    \n",
    "    pd.options.display.max_columns = None   \n",
    "    \n",
    "\n",
    "\n",
    "warnings.filterwarnings(\"ignore\")\n",
    "jupyter_settings()"
   ]
  },
  {
   "cell_type": "markdown",
   "id": "43461284",
   "metadata": {
    "ExecuteTime": {
     "end_time": "2022-04-04T02:15:14.271780Z",
     "start_time": "2022-04-04T02:15:14.269408Z"
    }
   },
   "source": [
    "# 1.0 Data import and basic inspection"
   ]
  },
  {
   "cell_type": "markdown",
   "id": "132fa730",
   "metadata": {
    "ExecuteTime": {
     "end_time": "2022-04-04T02:05:06.715516Z",
     "start_time": "2022-04-04T02:05:06.711122Z"
    }
   },
   "source": [
    "## <font color=\"gray\"> 1.1 Data loading and checking </font>"
   ]
  },
  {
   "cell_type": "code",
   "execution_count": 3,
   "id": "6ada5e6b",
   "metadata": {
    "ExecuteTime": {
     "end_time": "2022-04-06T03:05:10.135561Z",
     "start_time": "2022-04-06T03:05:01.135858Z"
    }
   },
   "outputs": [],
   "source": [
    "# Data loading\n",
    "\n",
    "## Importing db credentials\n",
    "\n",
    "db_credentials = pd.read_csv('/mnt/d/Gustavo/health-insurance/db_credentials.txt', header=None)\n",
    "\n",
    "host = db_credentials[0][0]\n",
    "\n",
    "port = db_credentials[1][0]\n",
    "\n",
    "database = db_credentials[2][0]\n",
    "\n",
    "user = db_credentials[3][0]\n",
    "\n",
    "psw = db_credentials[4][0]\n"
   ]
  },
  {
   "cell_type": "code",
   "execution_count": 4,
   "id": "cb6f5a0a",
   "metadata": {
    "ExecuteTime": {
     "end_time": "2022-04-06T03:05:47.009743Z",
     "start_time": "2022-04-06T03:05:12.084422Z"
    },
    "code_folding": [],
    "scrolled": true
   },
   "outputs": [],
   "source": [
    "# Selecting data from database - SQL query ('insurance' table - pa004 schema)\n",
    "\n",
    "query = \"\"\"\n",
    "    SELECT *\n",
    "    FROM pa004.insurance\n",
    "\n",
    "\"\"\"\n",
    "\n",
    "# Connecting to Postgres database\n",
    "\n",
    "engine = create_engine('postgresql://{}:{}@{}:{}/{}'.format(user, psw, host, port, database))\n",
    "\n",
    "\n",
    "# executing sql query\n",
    "\n",
    "df_insurance = pd.read_sql_query(query, con=engine)\n",
    "\n",
    "# closing database connection\n",
    "\n",
    "engine.dispose()"
   ]
  },
  {
   "cell_type": "code",
   "execution_count": 5,
   "id": "44343227",
   "metadata": {
    "ExecuteTime": {
     "end_time": "2022-04-06T03:05:59.358891Z",
     "start_time": "2022-04-06T03:05:49.504731Z"
    },
    "code_folding": [],
    "scrolled": true
   },
   "outputs": [],
   "source": [
    "# Selecting data from database - SQL query ('users' table - pa004 schema)\n",
    "\n",
    "query = \"\"\"\n",
    "    SELECT *\n",
    "    FROM pa004.users\n",
    "\n",
    "\"\"\"\n",
    "\n",
    "# Connecting to Postgres database\n",
    "\n",
    "engine = create_engine('postgresql://{}:{}@{}:{}/{}'.format(user, psw, host, port, database))\n",
    "\n",
    "\n",
    "# executing sql query\n",
    "\n",
    "df_users = pd.read_sql_query(query, con=engine)\n",
    "\n",
    "# closing database connection\n",
    "\n",
    "engine.dispose()"
   ]
  },
  {
   "cell_type": "code",
   "execution_count": 6,
   "id": "b7bdaf55",
   "metadata": {
    "ExecuteTime": {
     "end_time": "2022-04-06T03:06:09.549242Z",
     "start_time": "2022-04-06T03:06:01.321380Z"
    },
    "code_folding": [],
    "scrolled": true
   },
   "outputs": [],
   "source": [
    "# Selecting data from database - SQL query ('vehicle' table - pa004 schema)\n",
    "\n",
    "query = \"\"\"\n",
    "    SELECT *\n",
    "    FROM pa004.vehicle\n",
    "\n",
    "\"\"\"\n",
    "\n",
    "# Connecting to Postgres database\n",
    "\n",
    "engine = create_engine('postgresql://{}:{}@{}:{}/{}'.format(user, psw, host, port, database))\n",
    "\n",
    "\n",
    "# executing sql query\n",
    "\n",
    "df_vehicle = pd.read_sql_query(query, con=engine)\n",
    "\n",
    "# closing database connection\n",
    "\n",
    "engine.dispose()"
   ]
  },
  {
   "cell_type": "code",
   "execution_count": 7,
   "id": "5e47a4e7",
   "metadata": {
    "ExecuteTime": {
     "end_time": "2022-04-06T03:06:12.329161Z",
     "start_time": "2022-04-06T03:06:12.319807Z"
    }
   },
   "outputs": [
    {
     "data": {
      "text/html": [
       "<div>\n",
       "<style scoped>\n",
       "    .dataframe tbody tr th:only-of-type {\n",
       "        vertical-align: middle;\n",
       "    }\n",
       "\n",
       "    .dataframe tbody tr th {\n",
       "        vertical-align: top;\n",
       "    }\n",
       "\n",
       "    .dataframe thead th {\n",
       "        text-align: right;\n",
       "    }\n",
       "</style>\n",
       "<table border=\"1\" class=\"dataframe\">\n",
       "  <thead>\n",
       "    <tr style=\"text-align: right;\">\n",
       "      <th></th>\n",
       "      <th>id</th>\n",
       "      <th>previously_insured</th>\n",
       "      <th>annual_premium</th>\n",
       "      <th>vintage</th>\n",
       "      <th>response</th>\n",
       "    </tr>\n",
       "  </thead>\n",
       "  <tbody>\n",
       "    <tr>\n",
       "      <th>0</th>\n",
       "      <td>1</td>\n",
       "      <td>0</td>\n",
       "      <td>40454.0</td>\n",
       "      <td>217</td>\n",
       "      <td>1</td>\n",
       "    </tr>\n",
       "    <tr>\n",
       "      <th>1</th>\n",
       "      <td>2</td>\n",
       "      <td>0</td>\n",
       "      <td>33536.0</td>\n",
       "      <td>183</td>\n",
       "      <td>0</td>\n",
       "    </tr>\n",
       "    <tr>\n",
       "      <th>2</th>\n",
       "      <td>3</td>\n",
       "      <td>0</td>\n",
       "      <td>38294.0</td>\n",
       "      <td>27</td>\n",
       "      <td>1</td>\n",
       "    </tr>\n",
       "    <tr>\n",
       "      <th>3</th>\n",
       "      <td>4</td>\n",
       "      <td>1</td>\n",
       "      <td>28619.0</td>\n",
       "      <td>203</td>\n",
       "      <td>0</td>\n",
       "    </tr>\n",
       "    <tr>\n",
       "      <th>4</th>\n",
       "      <td>5</td>\n",
       "      <td>1</td>\n",
       "      <td>27496.0</td>\n",
       "      <td>39</td>\n",
       "      <td>0</td>\n",
       "    </tr>\n",
       "  </tbody>\n",
       "</table>\n",
       "</div>"
      ],
      "text/plain": [
       "   id  previously_insured  annual_premium  vintage  response\n",
       "0   1                   0         40454.0      217         1\n",
       "1   2                   0         33536.0      183         0\n",
       "2   3                   0         38294.0       27         1\n",
       "3   4                   1         28619.0      203         0\n",
       "4   5                   1         27496.0       39         0"
      ]
     },
     "execution_count": 7,
     "metadata": {},
     "output_type": "execute_result"
    }
   ],
   "source": [
    "# Checking tables\n",
    "\n",
    "df_insurance.head()"
   ]
  },
  {
   "cell_type": "code",
   "execution_count": 8,
   "id": "07a1b1f9",
   "metadata": {
    "ExecuteTime": {
     "end_time": "2022-04-06T03:06:16.920619Z",
     "start_time": "2022-04-06T03:06:13.399731Z"
    }
   },
   "outputs": [
    {
     "data": {
      "text/html": [
       "<div>\n",
       "<style scoped>\n",
       "    .dataframe tbody tr th:only-of-type {\n",
       "        vertical-align: middle;\n",
       "    }\n",
       "\n",
       "    .dataframe tbody tr th {\n",
       "        vertical-align: top;\n",
       "    }\n",
       "\n",
       "    .dataframe thead th {\n",
       "        text-align: right;\n",
       "    }\n",
       "</style>\n",
       "<table border=\"1\" class=\"dataframe\">\n",
       "  <thead>\n",
       "    <tr style=\"text-align: right;\">\n",
       "      <th></th>\n",
       "      <th>id</th>\n",
       "      <th>gender</th>\n",
       "      <th>age</th>\n",
       "      <th>region_code</th>\n",
       "      <th>policy_sales_channel</th>\n",
       "    </tr>\n",
       "  </thead>\n",
       "  <tbody>\n",
       "    <tr>\n",
       "      <th>0</th>\n",
       "      <td>1</td>\n",
       "      <td>Male</td>\n",
       "      <td>44</td>\n",
       "      <td>28.0</td>\n",
       "      <td>26.0</td>\n",
       "    </tr>\n",
       "    <tr>\n",
       "      <th>1</th>\n",
       "      <td>2</td>\n",
       "      <td>Male</td>\n",
       "      <td>76</td>\n",
       "      <td>3.0</td>\n",
       "      <td>26.0</td>\n",
       "    </tr>\n",
       "    <tr>\n",
       "      <th>2</th>\n",
       "      <td>3</td>\n",
       "      <td>Male</td>\n",
       "      <td>47</td>\n",
       "      <td>28.0</td>\n",
       "      <td>26.0</td>\n",
       "    </tr>\n",
       "    <tr>\n",
       "      <th>3</th>\n",
       "      <td>4</td>\n",
       "      <td>Male</td>\n",
       "      <td>21</td>\n",
       "      <td>11.0</td>\n",
       "      <td>152.0</td>\n",
       "    </tr>\n",
       "    <tr>\n",
       "      <th>4</th>\n",
       "      <td>5</td>\n",
       "      <td>Female</td>\n",
       "      <td>29</td>\n",
       "      <td>41.0</td>\n",
       "      <td>152.0</td>\n",
       "    </tr>\n",
       "  </tbody>\n",
       "</table>\n",
       "</div>"
      ],
      "text/plain": [
       "   id  gender  age  region_code  policy_sales_channel\n",
       "0   1    Male   44         28.0                  26.0\n",
       "1   2    Male   76          3.0                  26.0\n",
       "2   3    Male   47         28.0                  26.0\n",
       "3   4    Male   21         11.0                 152.0\n",
       "4   5  Female   29         41.0                 152.0"
      ]
     },
     "execution_count": 8,
     "metadata": {},
     "output_type": "execute_result"
    }
   ],
   "source": [
    "df_users.head()"
   ]
  },
  {
   "cell_type": "code",
   "execution_count": 9,
   "id": "b643f9b7",
   "metadata": {
    "ExecuteTime": {
     "end_time": "2022-04-06T03:06:18.347824Z",
     "start_time": "2022-04-06T03:06:16.951709Z"
    }
   },
   "outputs": [
    {
     "data": {
      "text/html": [
       "<div>\n",
       "<style scoped>\n",
       "    .dataframe tbody tr th:only-of-type {\n",
       "        vertical-align: middle;\n",
       "    }\n",
       "\n",
       "    .dataframe tbody tr th {\n",
       "        vertical-align: top;\n",
       "    }\n",
       "\n",
       "    .dataframe thead th {\n",
       "        text-align: right;\n",
       "    }\n",
       "</style>\n",
       "<table border=\"1\" class=\"dataframe\">\n",
       "  <thead>\n",
       "    <tr style=\"text-align: right;\">\n",
       "      <th></th>\n",
       "      <th>id</th>\n",
       "      <th>driving_license</th>\n",
       "      <th>vehicle_age</th>\n",
       "      <th>vehicle_damage</th>\n",
       "    </tr>\n",
       "  </thead>\n",
       "  <tbody>\n",
       "    <tr>\n",
       "      <th>0</th>\n",
       "      <td>1</td>\n",
       "      <td>1</td>\n",
       "      <td>&gt; 2 Years</td>\n",
       "      <td>Yes</td>\n",
       "    </tr>\n",
       "    <tr>\n",
       "      <th>1</th>\n",
       "      <td>2</td>\n",
       "      <td>1</td>\n",
       "      <td>1-2 Year</td>\n",
       "      <td>No</td>\n",
       "    </tr>\n",
       "    <tr>\n",
       "      <th>2</th>\n",
       "      <td>3</td>\n",
       "      <td>1</td>\n",
       "      <td>&gt; 2 Years</td>\n",
       "      <td>Yes</td>\n",
       "    </tr>\n",
       "    <tr>\n",
       "      <th>3</th>\n",
       "      <td>4</td>\n",
       "      <td>1</td>\n",
       "      <td>&lt; 1 Year</td>\n",
       "      <td>No</td>\n",
       "    </tr>\n",
       "    <tr>\n",
       "      <th>4</th>\n",
       "      <td>5</td>\n",
       "      <td>1</td>\n",
       "      <td>&lt; 1 Year</td>\n",
       "      <td>No</td>\n",
       "    </tr>\n",
       "  </tbody>\n",
       "</table>\n",
       "</div>"
      ],
      "text/plain": [
       "   id  driving_license vehicle_age vehicle_damage\n",
       "0   1                1   > 2 Years            Yes\n",
       "1   2                1    1-2 Year             No\n",
       "2   3                1   > 2 Years            Yes\n",
       "3   4                1    < 1 Year             No\n",
       "4   5                1    < 1 Year             No"
      ]
     },
     "execution_count": 9,
     "metadata": {},
     "output_type": "execute_result"
    }
   ],
   "source": [
    "df_vehicle.head()"
   ]
  },
  {
   "cell_type": "code",
   "execution_count": null,
   "id": "df0bc2df",
   "metadata": {},
   "outputs": [],
   "source": []
  },
  {
   "cell_type": "code",
   "execution_count": 10,
   "id": "5cb6412a",
   "metadata": {
    "ExecuteTime": {
     "end_time": "2022-04-06T03:06:21.983280Z",
     "start_time": "2022-04-06T03:06:21.753908Z"
    }
   },
   "outputs": [
    {
     "data": {
      "text/html": [
       "<div>\n",
       "<style scoped>\n",
       "    .dataframe tbody tr th:only-of-type {\n",
       "        vertical-align: middle;\n",
       "    }\n",
       "\n",
       "    .dataframe tbody tr th {\n",
       "        vertical-align: top;\n",
       "    }\n",
       "\n",
       "    .dataframe thead th {\n",
       "        text-align: right;\n",
       "    }\n",
       "</style>\n",
       "<table border=\"1\" class=\"dataframe\">\n",
       "  <thead>\n",
       "    <tr style=\"text-align: right;\">\n",
       "      <th></th>\n",
       "      <th>id</th>\n",
       "      <th>gender</th>\n",
       "      <th>age</th>\n",
       "      <th>region_code</th>\n",
       "      <th>policy_sales_channel</th>\n",
       "      <th>previously_insured</th>\n",
       "      <th>annual_premium</th>\n",
       "      <th>vintage</th>\n",
       "      <th>response</th>\n",
       "      <th>driving_license</th>\n",
       "      <th>vehicle_age</th>\n",
       "      <th>vehicle_damage</th>\n",
       "    </tr>\n",
       "  </thead>\n",
       "  <tbody>\n",
       "    <tr>\n",
       "      <th>0</th>\n",
       "      <td>1</td>\n",
       "      <td>Male</td>\n",
       "      <td>44</td>\n",
       "      <td>28.0</td>\n",
       "      <td>26.0</td>\n",
       "      <td>0</td>\n",
       "      <td>40454.0</td>\n",
       "      <td>217</td>\n",
       "      <td>1</td>\n",
       "      <td>1</td>\n",
       "      <td>&gt; 2 Years</td>\n",
       "      <td>Yes</td>\n",
       "    </tr>\n",
       "    <tr>\n",
       "      <th>1</th>\n",
       "      <td>2</td>\n",
       "      <td>Male</td>\n",
       "      <td>76</td>\n",
       "      <td>3.0</td>\n",
       "      <td>26.0</td>\n",
       "      <td>0</td>\n",
       "      <td>33536.0</td>\n",
       "      <td>183</td>\n",
       "      <td>0</td>\n",
       "      <td>1</td>\n",
       "      <td>1-2 Year</td>\n",
       "      <td>No</td>\n",
       "    </tr>\n",
       "    <tr>\n",
       "      <th>2</th>\n",
       "      <td>3</td>\n",
       "      <td>Male</td>\n",
       "      <td>47</td>\n",
       "      <td>28.0</td>\n",
       "      <td>26.0</td>\n",
       "      <td>0</td>\n",
       "      <td>38294.0</td>\n",
       "      <td>27</td>\n",
       "      <td>1</td>\n",
       "      <td>1</td>\n",
       "      <td>&gt; 2 Years</td>\n",
       "      <td>Yes</td>\n",
       "    </tr>\n",
       "    <tr>\n",
       "      <th>3</th>\n",
       "      <td>4</td>\n",
       "      <td>Male</td>\n",
       "      <td>21</td>\n",
       "      <td>11.0</td>\n",
       "      <td>152.0</td>\n",
       "      <td>1</td>\n",
       "      <td>28619.0</td>\n",
       "      <td>203</td>\n",
       "      <td>0</td>\n",
       "      <td>1</td>\n",
       "      <td>&lt; 1 Year</td>\n",
       "      <td>No</td>\n",
       "    </tr>\n",
       "    <tr>\n",
       "      <th>4</th>\n",
       "      <td>5</td>\n",
       "      <td>Female</td>\n",
       "      <td>29</td>\n",
       "      <td>41.0</td>\n",
       "      <td>152.0</td>\n",
       "      <td>1</td>\n",
       "      <td>27496.0</td>\n",
       "      <td>39</td>\n",
       "      <td>0</td>\n",
       "      <td>1</td>\n",
       "      <td>&lt; 1 Year</td>\n",
       "      <td>No</td>\n",
       "    </tr>\n",
       "    <tr>\n",
       "      <th>...</th>\n",
       "      <td>...</td>\n",
       "      <td>...</td>\n",
       "      <td>...</td>\n",
       "      <td>...</td>\n",
       "      <td>...</td>\n",
       "      <td>...</td>\n",
       "      <td>...</td>\n",
       "      <td>...</td>\n",
       "      <td>...</td>\n",
       "      <td>...</td>\n",
       "      <td>...</td>\n",
       "      <td>...</td>\n",
       "    </tr>\n",
       "    <tr>\n",
       "      <th>381104</th>\n",
       "      <td>381105</td>\n",
       "      <td>Male</td>\n",
       "      <td>74</td>\n",
       "      <td>26.0</td>\n",
       "      <td>26.0</td>\n",
       "      <td>1</td>\n",
       "      <td>30170.0</td>\n",
       "      <td>88</td>\n",
       "      <td>0</td>\n",
       "      <td>1</td>\n",
       "      <td>1-2 Year</td>\n",
       "      <td>No</td>\n",
       "    </tr>\n",
       "    <tr>\n",
       "      <th>381105</th>\n",
       "      <td>381106</td>\n",
       "      <td>Male</td>\n",
       "      <td>30</td>\n",
       "      <td>37.0</td>\n",
       "      <td>152.0</td>\n",
       "      <td>1</td>\n",
       "      <td>40016.0</td>\n",
       "      <td>131</td>\n",
       "      <td>0</td>\n",
       "      <td>1</td>\n",
       "      <td>&lt; 1 Year</td>\n",
       "      <td>No</td>\n",
       "    </tr>\n",
       "    <tr>\n",
       "      <th>381106</th>\n",
       "      <td>381107</td>\n",
       "      <td>Male</td>\n",
       "      <td>21</td>\n",
       "      <td>30.0</td>\n",
       "      <td>160.0</td>\n",
       "      <td>1</td>\n",
       "      <td>35118.0</td>\n",
       "      <td>161</td>\n",
       "      <td>0</td>\n",
       "      <td>1</td>\n",
       "      <td>&lt; 1 Year</td>\n",
       "      <td>No</td>\n",
       "    </tr>\n",
       "    <tr>\n",
       "      <th>381107</th>\n",
       "      <td>381108</td>\n",
       "      <td>Female</td>\n",
       "      <td>68</td>\n",
       "      <td>14.0</td>\n",
       "      <td>124.0</td>\n",
       "      <td>0</td>\n",
       "      <td>44617.0</td>\n",
       "      <td>74</td>\n",
       "      <td>0</td>\n",
       "      <td>1</td>\n",
       "      <td>&gt; 2 Years</td>\n",
       "      <td>Yes</td>\n",
       "    </tr>\n",
       "    <tr>\n",
       "      <th>381108</th>\n",
       "      <td>381109</td>\n",
       "      <td>Male</td>\n",
       "      <td>46</td>\n",
       "      <td>29.0</td>\n",
       "      <td>26.0</td>\n",
       "      <td>0</td>\n",
       "      <td>41777.0</td>\n",
       "      <td>237</td>\n",
       "      <td>0</td>\n",
       "      <td>1</td>\n",
       "      <td>1-2 Year</td>\n",
       "      <td>No</td>\n",
       "    </tr>\n",
       "  </tbody>\n",
       "</table>\n",
       "<p>381109 rows × 12 columns</p>\n",
       "</div>"
      ],
      "text/plain": [
       "            id  gender  age  region_code  policy_sales_channel  \\\n",
       "0            1    Male   44         28.0                  26.0   \n",
       "1            2    Male   76          3.0                  26.0   \n",
       "2            3    Male   47         28.0                  26.0   \n",
       "3            4    Male   21         11.0                 152.0   \n",
       "4            5  Female   29         41.0                 152.0   \n",
       "...        ...     ...  ...          ...                   ...   \n",
       "381104  381105    Male   74         26.0                  26.0   \n",
       "381105  381106    Male   30         37.0                 152.0   \n",
       "381106  381107    Male   21         30.0                 160.0   \n",
       "381107  381108  Female   68         14.0                 124.0   \n",
       "381108  381109    Male   46         29.0                  26.0   \n",
       "\n",
       "        previously_insured  annual_premium  vintage  response  \\\n",
       "0                        0         40454.0      217         1   \n",
       "1                        0         33536.0      183         0   \n",
       "2                        0         38294.0       27         1   \n",
       "3                        1         28619.0      203         0   \n",
       "4                        1         27496.0       39         0   \n",
       "...                    ...             ...      ...       ...   \n",
       "381104                   1         30170.0       88         0   \n",
       "381105                   1         40016.0      131         0   \n",
       "381106                   1         35118.0      161         0   \n",
       "381107                   0         44617.0       74         0   \n",
       "381108                   0         41777.0      237         0   \n",
       "\n",
       "        driving_license vehicle_age vehicle_damage  \n",
       "0                     1   > 2 Years            Yes  \n",
       "1                     1    1-2 Year             No  \n",
       "2                     1   > 2 Years            Yes  \n",
       "3                     1    < 1 Year             No  \n",
       "4                     1    < 1 Year             No  \n",
       "...                 ...         ...            ...  \n",
       "381104                1    1-2 Year             No  \n",
       "381105                1    < 1 Year             No  \n",
       "381106                1    < 1 Year             No  \n",
       "381107                1   > 2 Years            Yes  \n",
       "381108                1    1-2 Year             No  \n",
       "\n",
       "[381109 rows x 12 columns]"
      ]
     },
     "execution_count": 10,
     "metadata": {},
     "output_type": "execute_result"
    }
   ],
   "source": [
    "# Merging tables\n",
    "\n",
    "## merging df_users with df_insurance\n",
    "df = pd.merge(left=df_users, right=df_insurance, how='left', on='id')\n",
    "\n",
    "# resulting df with df_vehicle\n",
    "df = pd.merge(left=df, right=df_vehicle, how='left', on='id')\n",
    "\n",
    "df"
   ]
  },
  {
   "cell_type": "code",
   "execution_count": 11,
   "id": "217fe8b2",
   "metadata": {
    "ExecuteTime": {
     "end_time": "2022-04-06T03:06:23.126777Z",
     "start_time": "2022-04-06T03:06:23.015125Z"
    }
   },
   "outputs": [],
   "source": [
    "# Reorganizing columns\n",
    "\n",
    "df = df[['id', 'gender', 'age', 'region_code', 'policy_sales_channel',\n",
    "         'previously_insured', 'annual_premium', 'vintage',\n",
    "         'driving_license', 'vehicle_age', 'vehicle_damage', 'response']]"
   ]
  },
  {
   "cell_type": "code",
   "execution_count": 12,
   "id": "a54635da",
   "metadata": {
    "ExecuteTime": {
     "end_time": "2022-04-06T03:06:25.480540Z",
     "start_time": "2022-04-06T03:06:25.472943Z"
    }
   },
   "outputs": [
    {
     "name": "stdout",
     "output_type": "stream",
     "text": [
      "Number of rows: 381109\n",
      "Number of columns: 12\n"
     ]
    }
   ],
   "source": [
    "# Data dimensions\n",
    "\n",
    "print('Number of rows: {}'.format(df.shape[0]))\n",
    "print('Number of columns: {}'.format(df.shape[1]))"
   ]
  },
  {
   "cell_type": "code",
   "execution_count": 13,
   "id": "b4b5ec96",
   "metadata": {
    "ExecuteTime": {
     "end_time": "2022-04-06T03:06:27.251286Z",
     "start_time": "2022-04-06T03:06:27.247094Z"
    }
   },
   "outputs": [
    {
     "data": {
      "text/plain": [
       "id                        int64\n",
       "gender                   object\n",
       "age                       int64\n",
       "region_code             float64\n",
       "policy_sales_channel    float64\n",
       "previously_insured        int64\n",
       "annual_premium          float64\n",
       "vintage                   int64\n",
       "driving_license           int64\n",
       "vehicle_age              object\n",
       "vehicle_damage           object\n",
       "response                  int64\n",
       "dtype: object"
      ]
     },
     "execution_count": 13,
     "metadata": {},
     "output_type": "execute_result"
    }
   ],
   "source": [
    "# checking data types\n",
    "\n",
    "df.dtypes"
   ]
  },
  {
   "cell_type": "code",
   "execution_count": 14,
   "id": "7e8f0fa1",
   "metadata": {
    "ExecuteTime": {
     "end_time": "2022-04-06T03:06:28.903756Z",
     "start_time": "2022-04-06T03:06:28.862625Z"
    }
   },
   "outputs": [
    {
     "name": "stdout",
     "output_type": "stream",
     "text": [
      "<class 'pandas.core.frame.DataFrame'>\n",
      "Int64Index: 381109 entries, 0 to 381108\n",
      "Data columns (total 12 columns):\n",
      " #   Column                Non-Null Count   Dtype  \n",
      "---  ------                --------------   -----  \n",
      " 0   id                    381109 non-null  int64  \n",
      " 1   gender                381109 non-null  object \n",
      " 2   age                   381109 non-null  int64  \n",
      " 3   region_code           381109 non-null  float64\n",
      " 4   policy_sales_channel  381109 non-null  float64\n",
      " 5   previously_insured    381109 non-null  int64  \n",
      " 6   annual_premium        381109 non-null  float64\n",
      " 7   vintage               381109 non-null  int64  \n",
      " 8   driving_license       381109 non-null  int64  \n",
      " 9   vehicle_age           381109 non-null  object \n",
      " 10  vehicle_damage        381109 non-null  object \n",
      " 11  response              381109 non-null  int64  \n",
      "dtypes: float64(3), int64(6), object(3)\n",
      "memory usage: 37.8+ MB\n"
     ]
    }
   ],
   "source": [
    "# Checking data info\n",
    "\n",
    "df.info()"
   ]
  },
  {
   "cell_type": "code",
   "execution_count": 15,
   "id": "e10086f1",
   "metadata": {
    "ExecuteTime": {
     "end_time": "2022-04-06T03:06:30.346994Z",
     "start_time": "2022-04-06T03:06:30.308516Z"
    }
   },
   "outputs": [
    {
     "data": {
      "text/plain": [
       "id                      0\n",
       "gender                  0\n",
       "age                     0\n",
       "region_code             0\n",
       "policy_sales_channel    0\n",
       "previously_insured      0\n",
       "annual_premium          0\n",
       "vintage                 0\n",
       "driving_license         0\n",
       "vehicle_age             0\n",
       "vehicle_damage          0\n",
       "response                0\n",
       "dtype: int64"
      ]
     },
     "execution_count": 15,
     "metadata": {},
     "output_type": "execute_result"
    }
   ],
   "source": [
    "# Checking for NA's\n",
    "\n",
    "df.isna().sum()"
   ]
  },
  {
   "cell_type": "code",
   "execution_count": 16,
   "id": "0a67c96d",
   "metadata": {
    "ExecuteTime": {
     "end_time": "2022-04-06T03:06:33.179595Z",
     "start_time": "2022-04-06T03:06:33.066550Z"
    }
   },
   "outputs": [
    {
     "data": {
      "text/plain": [
       "0"
      ]
     },
     "execution_count": 16,
     "metadata": {},
     "output_type": "execute_result"
    }
   ],
   "source": [
    "# Checking for duplicate rows\n",
    "\n",
    "df.duplicated().sum()"
   ]
  },
  {
   "cell_type": "code",
   "execution_count": 17,
   "id": "f4bd2384",
   "metadata": {
    "ExecuteTime": {
     "end_time": "2022-04-06T03:06:35.476520Z",
     "start_time": "2022-04-06T03:06:34.291195Z"
    }
   },
   "outputs": [
    {
     "data": {
      "text/plain": [
       "0    334399\n",
       "1     46710\n",
       "Name: response, dtype: int64"
      ]
     },
     "execution_count": 17,
     "metadata": {},
     "output_type": "execute_result"
    }
   ],
   "source": [
    "# Response variable\n",
    "\n",
    "df['response'].value_counts()"
   ]
  },
  {
   "cell_type": "code",
   "execution_count": 19,
   "id": "3f56540f",
   "metadata": {
    "ExecuteTime": {
     "end_time": "2022-04-06T03:07:23.785714Z",
     "start_time": "2022-04-06T03:07:23.778435Z"
    }
   },
   "outputs": [
    {
     "name": "stdout",
     "output_type": "stream",
     "text": [
      "Percentage of people that did not purchase health insurance: 0.88\n",
      "Percentage of people that purchased health insurance: 0.12\n"
     ]
    }
   ],
   "source": [
    "# Response variable - percentage\n",
    "\n",
    "print('Percentage of people that did not purchase health insurance: {:.2f}'.format(df['response'].value_counts(normalize=True)[0]))\n",
    "print('Percentage of people that purchased health insurance: {:.2f}'.format(df['response'].value_counts(normalize=True)[1]))\n"
   ]
  },
  {
   "cell_type": "code",
   "execution_count": 20,
   "id": "5896175c",
   "metadata": {
    "ExecuteTime": {
     "end_time": "2022-04-06T03:07:40.850239Z",
     "start_time": "2022-04-06T03:07:40.795447Z"
    }
   },
   "outputs": [
    {
     "data": {
      "text/html": [
       "<div>\n",
       "<style scoped>\n",
       "    .dataframe tbody tr th:only-of-type {\n",
       "        vertical-align: middle;\n",
       "    }\n",
       "\n",
       "    .dataframe tbody tr th {\n",
       "        vertical-align: top;\n",
       "    }\n",
       "\n",
       "    .dataframe thead th {\n",
       "        text-align: right;\n",
       "    }\n",
       "</style>\n",
       "<table border=\"1\" class=\"dataframe\">\n",
       "  <thead>\n",
       "    <tr style=\"text-align: right;\">\n",
       "      <th></th>\n",
       "      <th>gender</th>\n",
       "      <th>age</th>\n",
       "      <th>region_code</th>\n",
       "      <th>policy_sales_channel</th>\n",
       "      <th>previously_insured</th>\n",
       "      <th>annual_premium</th>\n",
       "      <th>vintage</th>\n",
       "      <th>driving_license</th>\n",
       "      <th>vehicle_age</th>\n",
       "      <th>vehicle_damage</th>\n",
       "      <th>response</th>\n",
       "    </tr>\n",
       "    <tr>\n",
       "      <th>id</th>\n",
       "      <th></th>\n",
       "      <th></th>\n",
       "      <th></th>\n",
       "      <th></th>\n",
       "      <th></th>\n",
       "      <th></th>\n",
       "      <th></th>\n",
       "      <th></th>\n",
       "      <th></th>\n",
       "      <th></th>\n",
       "      <th></th>\n",
       "    </tr>\n",
       "  </thead>\n",
       "  <tbody>\n",
       "    <tr>\n",
       "      <th>1</th>\n",
       "      <td>Male</td>\n",
       "      <td>44</td>\n",
       "      <td>28.0</td>\n",
       "      <td>26.0</td>\n",
       "      <td>0</td>\n",
       "      <td>40454.0</td>\n",
       "      <td>217</td>\n",
       "      <td>1</td>\n",
       "      <td>&gt; 2 Years</td>\n",
       "      <td>Yes</td>\n",
       "      <td>1</td>\n",
       "    </tr>\n",
       "    <tr>\n",
       "      <th>2</th>\n",
       "      <td>Male</td>\n",
       "      <td>76</td>\n",
       "      <td>3.0</td>\n",
       "      <td>26.0</td>\n",
       "      <td>0</td>\n",
       "      <td>33536.0</td>\n",
       "      <td>183</td>\n",
       "      <td>1</td>\n",
       "      <td>1-2 Year</td>\n",
       "      <td>No</td>\n",
       "      <td>0</td>\n",
       "    </tr>\n",
       "    <tr>\n",
       "      <th>3</th>\n",
       "      <td>Male</td>\n",
       "      <td>47</td>\n",
       "      <td>28.0</td>\n",
       "      <td>26.0</td>\n",
       "      <td>0</td>\n",
       "      <td>38294.0</td>\n",
       "      <td>27</td>\n",
       "      <td>1</td>\n",
       "      <td>&gt; 2 Years</td>\n",
       "      <td>Yes</td>\n",
       "      <td>1</td>\n",
       "    </tr>\n",
       "    <tr>\n",
       "      <th>4</th>\n",
       "      <td>Male</td>\n",
       "      <td>21</td>\n",
       "      <td>11.0</td>\n",
       "      <td>152.0</td>\n",
       "      <td>1</td>\n",
       "      <td>28619.0</td>\n",
       "      <td>203</td>\n",
       "      <td>1</td>\n",
       "      <td>&lt; 1 Year</td>\n",
       "      <td>No</td>\n",
       "      <td>0</td>\n",
       "    </tr>\n",
       "    <tr>\n",
       "      <th>5</th>\n",
       "      <td>Female</td>\n",
       "      <td>29</td>\n",
       "      <td>41.0</td>\n",
       "      <td>152.0</td>\n",
       "      <td>1</td>\n",
       "      <td>27496.0</td>\n",
       "      <td>39</td>\n",
       "      <td>1</td>\n",
       "      <td>&lt; 1 Year</td>\n",
       "      <td>No</td>\n",
       "      <td>0</td>\n",
       "    </tr>\n",
       "    <tr>\n",
       "      <th>...</th>\n",
       "      <td>...</td>\n",
       "      <td>...</td>\n",
       "      <td>...</td>\n",
       "      <td>...</td>\n",
       "      <td>...</td>\n",
       "      <td>...</td>\n",
       "      <td>...</td>\n",
       "      <td>...</td>\n",
       "      <td>...</td>\n",
       "      <td>...</td>\n",
       "      <td>...</td>\n",
       "    </tr>\n",
       "    <tr>\n",
       "      <th>381105</th>\n",
       "      <td>Male</td>\n",
       "      <td>74</td>\n",
       "      <td>26.0</td>\n",
       "      <td>26.0</td>\n",
       "      <td>1</td>\n",
       "      <td>30170.0</td>\n",
       "      <td>88</td>\n",
       "      <td>1</td>\n",
       "      <td>1-2 Year</td>\n",
       "      <td>No</td>\n",
       "      <td>0</td>\n",
       "    </tr>\n",
       "    <tr>\n",
       "      <th>381106</th>\n",
       "      <td>Male</td>\n",
       "      <td>30</td>\n",
       "      <td>37.0</td>\n",
       "      <td>152.0</td>\n",
       "      <td>1</td>\n",
       "      <td>40016.0</td>\n",
       "      <td>131</td>\n",
       "      <td>1</td>\n",
       "      <td>&lt; 1 Year</td>\n",
       "      <td>No</td>\n",
       "      <td>0</td>\n",
       "    </tr>\n",
       "    <tr>\n",
       "      <th>381107</th>\n",
       "      <td>Male</td>\n",
       "      <td>21</td>\n",
       "      <td>30.0</td>\n",
       "      <td>160.0</td>\n",
       "      <td>1</td>\n",
       "      <td>35118.0</td>\n",
       "      <td>161</td>\n",
       "      <td>1</td>\n",
       "      <td>&lt; 1 Year</td>\n",
       "      <td>No</td>\n",
       "      <td>0</td>\n",
       "    </tr>\n",
       "    <tr>\n",
       "      <th>381108</th>\n",
       "      <td>Female</td>\n",
       "      <td>68</td>\n",
       "      <td>14.0</td>\n",
       "      <td>124.0</td>\n",
       "      <td>0</td>\n",
       "      <td>44617.0</td>\n",
       "      <td>74</td>\n",
       "      <td>1</td>\n",
       "      <td>&gt; 2 Years</td>\n",
       "      <td>Yes</td>\n",
       "      <td>0</td>\n",
       "    </tr>\n",
       "    <tr>\n",
       "      <th>381109</th>\n",
       "      <td>Male</td>\n",
       "      <td>46</td>\n",
       "      <td>29.0</td>\n",
       "      <td>26.0</td>\n",
       "      <td>0</td>\n",
       "      <td>41777.0</td>\n",
       "      <td>237</td>\n",
       "      <td>1</td>\n",
       "      <td>1-2 Year</td>\n",
       "      <td>No</td>\n",
       "      <td>0</td>\n",
       "    </tr>\n",
       "  </tbody>\n",
       "</table>\n",
       "<p>381109 rows × 11 columns</p>\n",
       "</div>"
      ],
      "text/plain": [
       "        gender  age  region_code  policy_sales_channel  previously_insured  \\\n",
       "id                                                                           \n",
       "1         Male   44         28.0                  26.0                   0   \n",
       "2         Male   76          3.0                  26.0                   0   \n",
       "3         Male   47         28.0                  26.0                   0   \n",
       "4         Male   21         11.0                 152.0                   1   \n",
       "5       Female   29         41.0                 152.0                   1   \n",
       "...        ...  ...          ...                   ...                 ...   \n",
       "381105    Male   74         26.0                  26.0                   1   \n",
       "381106    Male   30         37.0                 152.0                   1   \n",
       "381107    Male   21         30.0                 160.0                   1   \n",
       "381108  Female   68         14.0                 124.0                   0   \n",
       "381109    Male   46         29.0                  26.0                   0   \n",
       "\n",
       "        annual_premium  vintage  driving_license vehicle_age vehicle_damage  \\\n",
       "id                                                                            \n",
       "1              40454.0      217                1   > 2 Years            Yes   \n",
       "2              33536.0      183                1    1-2 Year             No   \n",
       "3              38294.0       27                1   > 2 Years            Yes   \n",
       "4              28619.0      203                1    < 1 Year             No   \n",
       "5              27496.0       39                1    < 1 Year             No   \n",
       "...                ...      ...              ...         ...            ...   \n",
       "381105         30170.0       88                1    1-2 Year             No   \n",
       "381106         40016.0      131                1    < 1 Year             No   \n",
       "381107         35118.0      161                1    < 1 Year             No   \n",
       "381108         44617.0       74                1   > 2 Years            Yes   \n",
       "381109         41777.0      237                1    1-2 Year             No   \n",
       "\n",
       "        response  \n",
       "id                \n",
       "1              1  \n",
       "2              0  \n",
       "3              1  \n",
       "4              0  \n",
       "5              0  \n",
       "...          ...  \n",
       "381105         0  \n",
       "381106         0  \n",
       "381107         0  \n",
       "381108         0  \n",
       "381109         0  \n",
       "\n",
       "[381109 rows x 11 columns]"
      ]
     },
     "execution_count": 20,
     "metadata": {},
     "output_type": "execute_result"
    }
   ],
   "source": [
    "# Setting 'id' column as index\n",
    "\n",
    "df = df.set_index('id')\n",
    "\n",
    "df"
   ]
  },
  {
   "cell_type": "code",
   "execution_count": null,
   "id": "6bfa8cdc",
   "metadata": {},
   "outputs": [],
   "source": [
    "# Adjusting data types\n",
    "\n",
    "\n",
    "\n"
   ]
  },
  {
   "cell_type": "markdown",
   "id": "7cf2090b",
   "metadata": {
    "ExecuteTime": {
     "end_time": "2022-04-04T02:05:06.715516Z",
     "start_time": "2022-04-04T02:05:06.711122Z"
    }
   },
   "source": [
    "## <font color=\"gray\"> 1.2 Descriptive statistics </font>"
   ]
  },
  {
   "cell_type": "markdown",
   "id": "871b925a",
   "metadata": {},
   "source": [
    "### <i>1.2.1 descriptive statistics</i>"
   ]
  },
  {
   "cell_type": "code",
   "execution_count": 28,
   "id": "74b658b3",
   "metadata": {
    "ExecuteTime": {
     "end_time": "2022-04-06T03:14:08.618255Z",
     "start_time": "2022-04-06T03:14:08.580629Z"
    }
   },
   "outputs": [],
   "source": [
    "# Numerical and categorical attributes\n",
    "\n",
    "# numerical attributes\n",
    "num_attributes = df.select_dtypes(['int64', 'float64'])\n",
    "\n",
    "# categorical attributes\n",
    "cat_attributes = df.select_dtypes(exclude=['int64', 'float64'])"
   ]
  },
  {
   "cell_type": "code",
   "execution_count": 29,
   "id": "ba8b07d6",
   "metadata": {
    "ExecuteTime": {
     "end_time": "2022-04-06T03:14:28.891277Z",
     "start_time": "2022-04-06T03:14:28.801570Z"
    }
   },
   "outputs": [
    {
     "data": {
      "text/html": [
       "<div>\n",
       "<style scoped>\n",
       "    .dataframe tbody tr th:only-of-type {\n",
       "        vertical-align: middle;\n",
       "    }\n",
       "\n",
       "    .dataframe tbody tr th {\n",
       "        vertical-align: top;\n",
       "    }\n",
       "\n",
       "    .dataframe thead th {\n",
       "        text-align: right;\n",
       "    }\n",
       "</style>\n",
       "<table border=\"1\" class=\"dataframe\">\n",
       "  <thead>\n",
       "    <tr style=\"text-align: right;\">\n",
       "      <th></th>\n",
       "      <th>age</th>\n",
       "      <th>region_code</th>\n",
       "      <th>policy_sales_channel</th>\n",
       "      <th>previously_insured</th>\n",
       "      <th>annual_premium</th>\n",
       "      <th>vintage</th>\n",
       "      <th>driving_license</th>\n",
       "      <th>response</th>\n",
       "    </tr>\n",
       "  </thead>\n",
       "  <tbody>\n",
       "    <tr>\n",
       "      <th>min</th>\n",
       "      <td>20.000000</td>\n",
       "      <td>0.000000</td>\n",
       "      <td>1.000000</td>\n",
       "      <td>0.000000</td>\n",
       "      <td>2630.000000</td>\n",
       "      <td>10.000000</td>\n",
       "      <td>0.000000</td>\n",
       "      <td>0.000000</td>\n",
       "    </tr>\n",
       "    <tr>\n",
       "      <th>max</th>\n",
       "      <td>85.000000</td>\n",
       "      <td>52.000000</td>\n",
       "      <td>163.000000</td>\n",
       "      <td>1.000000</td>\n",
       "      <td>540165.000000</td>\n",
       "      <td>299.000000</td>\n",
       "      <td>1.000000</td>\n",
       "      <td>1.000000</td>\n",
       "    </tr>\n",
       "    <tr>\n",
       "      <th>range</th>\n",
       "      <td>65.000000</td>\n",
       "      <td>52.000000</td>\n",
       "      <td>162.000000</td>\n",
       "      <td>1.000000</td>\n",
       "      <td>537535.000000</td>\n",
       "      <td>289.000000</td>\n",
       "      <td>1.000000</td>\n",
       "      <td>1.000000</td>\n",
       "    </tr>\n",
       "    <tr>\n",
       "      <th>mean</th>\n",
       "      <td>38.822584</td>\n",
       "      <td>26.388807</td>\n",
       "      <td>112.034295</td>\n",
       "      <td>0.458210</td>\n",
       "      <td>30564.389581</td>\n",
       "      <td>154.347397</td>\n",
       "      <td>0.997869</td>\n",
       "      <td>0.122563</td>\n",
       "    </tr>\n",
       "    <tr>\n",
       "      <th>median</th>\n",
       "      <td>36.000000</td>\n",
       "      <td>28.000000</td>\n",
       "      <td>133.000000</td>\n",
       "      <td>0.000000</td>\n",
       "      <td>31669.000000</td>\n",
       "      <td>154.000000</td>\n",
       "      <td>1.000000</td>\n",
       "      <td>0.000000</td>\n",
       "    </tr>\n",
       "    <tr>\n",
       "      <th>std</th>\n",
       "      <td>15.511591</td>\n",
       "      <td>13.229871</td>\n",
       "      <td>54.203924</td>\n",
       "      <td>0.498251</td>\n",
       "      <td>17213.132474</td>\n",
       "      <td>83.671194</td>\n",
       "      <td>0.046109</td>\n",
       "      <td>0.327935</td>\n",
       "    </tr>\n",
       "    <tr>\n",
       "      <th>skew</th>\n",
       "      <td>0.672539</td>\n",
       "      <td>-0.115266</td>\n",
       "      <td>-0.900008</td>\n",
       "      <td>0.167747</td>\n",
       "      <td>1.766087</td>\n",
       "      <td>0.003030</td>\n",
       "      <td>-21.595182</td>\n",
       "      <td>2.301906</td>\n",
       "    </tr>\n",
       "    <tr>\n",
       "      <th>kurtosis</th>\n",
       "      <td>-0.565655</td>\n",
       "      <td>-0.867857</td>\n",
       "      <td>-0.970810</td>\n",
       "      <td>-1.971871</td>\n",
       "      <td>34.004569</td>\n",
       "      <td>-1.200688</td>\n",
       "      <td>464.354302</td>\n",
       "      <td>3.298788</td>\n",
       "    </tr>\n",
       "  </tbody>\n",
       "</table>\n",
       "</div>"
      ],
      "text/plain": [
       "                age  region_code  policy_sales_channel  previously_insured  \\\n",
       "min       20.000000     0.000000              1.000000            0.000000   \n",
       "max       85.000000    52.000000            163.000000            1.000000   \n",
       "range     65.000000    52.000000            162.000000            1.000000   \n",
       "mean      38.822584    26.388807            112.034295            0.458210   \n",
       "median    36.000000    28.000000            133.000000            0.000000   \n",
       "std       15.511591    13.229871             54.203924            0.498251   \n",
       "skew       0.672539    -0.115266             -0.900008            0.167747   \n",
       "kurtosis  -0.565655    -0.867857             -0.970810           -1.971871   \n",
       "\n",
       "          annual_premium     vintage  driving_license  response  \n",
       "min          2630.000000   10.000000         0.000000  0.000000  \n",
       "max        540165.000000  299.000000         1.000000  1.000000  \n",
       "range      537535.000000  289.000000         1.000000  1.000000  \n",
       "mean        30564.389581  154.347397         0.997869  0.122563  \n",
       "median      31669.000000  154.000000         1.000000  0.000000  \n",
       "std         17213.132474   83.671194         0.046109  0.327935  \n",
       "skew            1.766087    0.003030       -21.595182  2.301906  \n",
       "kurtosis       34.004569   -1.200688       464.354302  3.298788  "
      ]
     },
     "execution_count": 29,
     "metadata": {},
     "output_type": "execute_result"
    }
   ],
   "source": [
    "# Descriptive statistics\n",
    "\n",
    "descriptive_statistics(df)"
   ]
  },
  {
   "cell_type": "code",
   "execution_count": null,
   "id": "474b8eb1",
   "metadata": {},
   "outputs": [],
   "source": []
  },
  {
   "cell_type": "markdown",
   "id": "e5e5b476",
   "metadata": {},
   "source": [
    "### <i>1.2.2 general view of attributes</i>"
   ]
  },
  {
   "cell_type": "code",
   "execution_count": 44,
   "id": "6fd96d89",
   "metadata": {
    "ExecuteTime": {
     "end_time": "2022-04-06T03:39:19.470073Z",
     "start_time": "2022-04-06T03:39:18.750409Z"
    }
   },
   "outputs": [
    {
     "data": {
      "image/png": "[encoded data removed]",
      "text/plain": [
       "<Figure size 1440x1080 with 9 Axes>"
      ]
     },
     "metadata": {
      "needs_background": "light"
     },
     "output_type": "display_data"
    }
   ],
   "source": [
    "# Numeric attributes view\n",
    "\n",
    "# Exploring numerical attributes\n",
    "\n",
    "# as we are interested in people who have purchased health insurance, in this evaluation we are going\n",
    "# to filter the dataset based on this condition to see the behaviour of numerical attributes for this group\n",
    "\n",
    "# we are not showing here the distribution for the numerical variable 'response' because it is our target variable\n",
    "\n",
    "num_attributes.loc[num_attributes['response']==1, num_attributes.columns!='response'].hist(figsize=(20,15), color='gray');"
   ]
  },
  {
   "cell_type": "code",
   "execution_count": 45,
   "id": "1066036a",
   "metadata": {
    "ExecuteTime": {
     "end_time": "2022-04-06T03:39:59.866674Z",
     "start_time": "2022-04-06T03:39:59.227938Z"
    }
   },
   "outputs": [
    {
     "data": {
      "image/png": "[encoded data removed]",
      "text/plain": [
       "<Figure size 1440x1080 with 9 Axes>"
      ]
     },
     "metadata": {
      "needs_background": "light"
     },
     "output_type": "display_data"
    }
   ],
   "source": [
    "# Now let's compare the distributions for the same variables with people who did not purchase\n",
    "## health insurance\n",
    "\n",
    "num_attributes.loc[num_attributes['response']==0, num_attributes.columns!='response'].hist(figsize=(20,15), color='red');"
   ]
  },
  {
   "cell_type": "markdown",
   "id": "59c333e6",
   "metadata": {},
   "source": [
    "* It looks like there are some differences between the two evaluated groups when looking closely at some variables like age, policy sales channel and previously insured.\n",
    "* Probably for the features where there are obvious differences this are going to help the machine learning model to figure out whether the customer is going to purchase a health insurance or not (or the % probability of doing so). "
   ]
  },
  {
   "cell_type": "code",
   "execution_count": 85,
   "id": "81c95048",
   "metadata": {
    "ExecuteTime": {
     "end_time": "2022-04-06T04:06:11.547466Z",
     "start_time": "2022-04-06T04:06:11.341760Z"
    }
   },
   "outputs": [
    {
     "data": {
      "image/png": "[encoded data removed]",
      "text/plain": [
       "<Figure size 1080x360 with 2 Axes>"
      ]
     },
     "metadata": {
      "needs_background": "light"
     },
     "output_type": "display_data"
    }
   ],
   "source": [
    "# Categorical attributes view\n",
    "\n",
    "\n",
    "plt.figure(figsize=(15,5))\n",
    "\n",
    "# gender profile for people who have purchased health insurance\n",
    "\n",
    "plt.subplot(1,2,1)\n",
    "sns.barplot(x='gender',\n",
    "            y=0,\n",
    "            data=df.loc[df['response']==1, ['gender']].groupby('gender').size().reset_index())\n",
    "\n",
    "plt.ylabel('Count')\n",
    "plt.title('people who have purchased health insurance')\n",
    "\n",
    "\n",
    "# gender profile for people who have not purchased health insurance\n",
    "\n",
    "plt.subplot(1,2,2)\n",
    "sns.barplot(x='gender',\n",
    "            y=0,\n",
    "            data=df.loc[df['response']==0, ['gender']].groupby('gender').size().reset_index())\n",
    "\n",
    "plt.ylabel('Count')\n",
    "plt.title('people who have NOT purchased health insurance')\n",
    "\n",
    "plt.tight_layout();"
   ]
  },
  {
   "cell_type": "code",
   "execution_count": null,
   "id": "6f5b9db1",
   "metadata": {},
   "outputs": [],
   "source": [
    "# Continuar fazendo as mesmas avaliações para as demais variáveis categóricas"
   ]
  },
  {
   "cell_type": "code",
   "execution_count": 50,
   "id": "5d3d7058",
   "metadata": {
    "ExecuteTime": {
     "end_time": "2022-04-06T03:47:09.280353Z",
     "start_time": "2022-04-06T03:47:09.258903Z"
    }
   },
   "outputs": [
    {
     "data": {
      "text/html": [
       "<div>\n",
       "<style scoped>\n",
       "    .dataframe tbody tr th:only-of-type {\n",
       "        vertical-align: middle;\n",
       "    }\n",
       "\n",
       "    .dataframe tbody tr th {\n",
       "        vertical-align: top;\n",
       "    }\n",
       "\n",
       "    .dataframe thead th {\n",
       "        text-align: right;\n",
       "    }\n",
       "</style>\n",
       "<table border=\"1\" class=\"dataframe\">\n",
       "  <thead>\n",
       "    <tr style=\"text-align: right;\">\n",
       "      <th></th>\n",
       "      <th>gender</th>\n",
       "      <th>vehicle_age</th>\n",
       "      <th>vehicle_damage</th>\n",
       "      <th>response</th>\n",
       "    </tr>\n",
       "    <tr>\n",
       "      <th>id</th>\n",
       "      <th></th>\n",
       "      <th></th>\n",
       "      <th></th>\n",
       "      <th></th>\n",
       "    </tr>\n",
       "  </thead>\n",
       "  <tbody>\n",
       "    <tr>\n",
       "      <th>1</th>\n",
       "      <td>Male</td>\n",
       "      <td>&gt; 2 Years</td>\n",
       "      <td>Yes</td>\n",
       "      <td>1</td>\n",
       "    </tr>\n",
       "    <tr>\n",
       "      <th>3</th>\n",
       "      <td>Male</td>\n",
       "      <td>&gt; 2 Years</td>\n",
       "      <td>Yes</td>\n",
       "      <td>1</td>\n",
       "    </tr>\n",
       "    <tr>\n",
       "      <th>8</th>\n",
       "      <td>Female</td>\n",
       "      <td>1-2 Year</td>\n",
       "      <td>Yes</td>\n",
       "      <td>1</td>\n",
       "    </tr>\n",
       "    <tr>\n",
       "      <th>11</th>\n",
       "      <td>Female</td>\n",
       "      <td>1-2 Year</td>\n",
       "      <td>Yes</td>\n",
       "      <td>1</td>\n",
       "    </tr>\n",
       "    <tr>\n",
       "      <th>16</th>\n",
       "      <td>Male</td>\n",
       "      <td>1-2 Year</td>\n",
       "      <td>Yes</td>\n",
       "      <td>1</td>\n",
       "    </tr>\n",
       "    <tr>\n",
       "      <th>...</th>\n",
       "      <td>...</td>\n",
       "      <td>...</td>\n",
       "      <td>...</td>\n",
       "      <td>...</td>\n",
       "    </tr>\n",
       "    <tr>\n",
       "      <th>381058</th>\n",
       "      <td>Male</td>\n",
       "      <td>1-2 Year</td>\n",
       "      <td>Yes</td>\n",
       "      <td>1</td>\n",
       "    </tr>\n",
       "    <tr>\n",
       "      <th>381062</th>\n",
       "      <td>Female</td>\n",
       "      <td>1-2 Year</td>\n",
       "      <td>Yes</td>\n",
       "      <td>1</td>\n",
       "    </tr>\n",
       "    <tr>\n",
       "      <th>381074</th>\n",
       "      <td>Female</td>\n",
       "      <td>1-2 Year</td>\n",
       "      <td>Yes</td>\n",
       "      <td>1</td>\n",
       "    </tr>\n",
       "    <tr>\n",
       "      <th>381076</th>\n",
       "      <td>Female</td>\n",
       "      <td>1-2 Year</td>\n",
       "      <td>Yes</td>\n",
       "      <td>1</td>\n",
       "    </tr>\n",
       "    <tr>\n",
       "      <th>381098</th>\n",
       "      <td>Female</td>\n",
       "      <td>1-2 Year</td>\n",
       "      <td>Yes</td>\n",
       "      <td>1</td>\n",
       "    </tr>\n",
       "  </tbody>\n",
       "</table>\n",
       "<p>46710 rows × 4 columns</p>\n",
       "</div>"
      ],
      "text/plain": [
       "        gender vehicle_age vehicle_damage  response\n",
       "id                                                 \n",
       "1         Male   > 2 Years            Yes         1\n",
       "3         Male   > 2 Years            Yes         1\n",
       "8       Female    1-2 Year            Yes         1\n",
       "11      Female    1-2 Year            Yes         1\n",
       "16        Male    1-2 Year            Yes         1\n",
       "...        ...         ...            ...       ...\n",
       "381058    Male    1-2 Year            Yes         1\n",
       "381062  Female    1-2 Year            Yes         1\n",
       "381074  Female    1-2 Year            Yes         1\n",
       "381076  Female    1-2 Year            Yes         1\n",
       "381098  Female    1-2 Year            Yes         1\n",
       "\n",
       "[46710 rows x 4 columns]"
      ]
     },
     "execution_count": 50,
     "metadata": {},
     "output_type": "execute_result"
    }
   ],
   "source": [
    "df.loc[df['response']==1, ['gender', 'vehicle_age', 'vehicle_damage','response']]"
   ]
  },
  {
   "cell_type": "code",
   "execution_count": null,
   "id": "49705b39",
   "metadata": {},
   "outputs": [],
   "source": []
  },
  {
   "cell_type": "markdown",
   "id": "7f384b95",
   "metadata": {
    "ExecuteTime": {
     "end_time": "2022-04-04T02:15:14.271780Z",
     "start_time": "2022-04-04T02:15:14.269408Z"
    },
    "heading_collapsed": true
   },
   "source": [
    "# 2.0 Feature engineering"
   ]
  },
  {
   "cell_type": "code",
   "execution_count": null,
   "id": "6de4d10d",
   "metadata": {
    "hidden": true
   },
   "outputs": [],
   "source": []
  },
  {
   "cell_type": "markdown",
   "id": "4b3a0f70",
   "metadata": {
    "ExecuteTime": {
     "end_time": "2022-04-04T02:05:06.715516Z",
     "start_time": "2022-04-04T02:05:06.711122Z"
    },
    "hidden": true
   },
   "source": [
    "## <font color=\"gray\"> 2.1 Creating new features </font>"
   ]
  },
  {
   "cell_type": "markdown",
   "id": "8c2518ec",
   "metadata": {
    "ExecuteTime": {
     "end_time": "2022-04-04T02:05:06.715516Z",
     "start_time": "2022-04-04T02:05:06.711122Z"
    },
    "hidden": true
   },
   "source": [
    "## <font color=\"gray\"> 2.2 Hypothesis to be validated </font>"
   ]
  },
  {
   "cell_type": "markdown",
   "id": "74aa1865",
   "metadata": {
    "ExecuteTime": {
     "end_time": "2022-04-04T02:15:14.271780Z",
     "start_time": "2022-04-04T02:15:14.269408Z"
    },
    "heading_collapsed": true
   },
   "source": [
    "# 3.0 Data filtering"
   ]
  },
  {
   "cell_type": "code",
   "execution_count": null,
   "id": "d530181b",
   "metadata": {
    "hidden": true
   },
   "outputs": [],
   "source": []
  },
  {
   "cell_type": "markdown",
   "id": "36d152d1",
   "metadata": {
    "ExecuteTime": {
     "end_time": "2022-04-04T02:15:14.271780Z",
     "start_time": "2022-04-04T02:15:14.269408Z"
    },
    "heading_collapsed": true
   },
   "source": [
    "# 4.0 Exploratory Data Analysis (EDA)"
   ]
  },
  {
   "cell_type": "code",
   "execution_count": null,
   "id": "fcb50bbb",
   "metadata": {
    "hidden": true
   },
   "outputs": [],
   "source": []
  },
  {
   "cell_type": "markdown",
   "id": "781caaac",
   "metadata": {
    "ExecuteTime": {
     "end_time": "2022-04-04T02:05:06.715516Z",
     "start_time": "2022-04-04T02:05:06.711122Z"
    },
    "heading_collapsed": true,
    "hidden": true
   },
   "source": [
    "## <font color=\"gray\"> 4.1 Univariate analysis </font>"
   ]
  },
  {
   "cell_type": "code",
   "execution_count": null,
   "id": "bd124a2a",
   "metadata": {
    "hidden": true
   },
   "outputs": [],
   "source": [
    "# Response variable"
   ]
  },
  {
   "cell_type": "markdown",
   "id": "153a7cd5",
   "metadata": {
    "hidden": true
   },
   "source": [
    "### <i>4.1.1 numerical attributes</i>"
   ]
  },
  {
   "cell_type": "markdown",
   "id": "aa83fa8f",
   "metadata": {
    "hidden": true
   },
   "source": [
    "### <i>4.1.2 categorical attributes</i>"
   ]
  },
  {
   "cell_type": "markdown",
   "id": "af35a3dd",
   "metadata": {
    "ExecuteTime": {
     "end_time": "2022-04-04T02:05:06.715516Z",
     "start_time": "2022-04-04T02:05:06.711122Z"
    },
    "heading_collapsed": true,
    "hidden": true
   },
   "source": [
    "## <font color=\"gray\"> 4.2 Bivariate analysis </font>"
   ]
  },
  {
   "cell_type": "markdown",
   "id": "db8e1497",
   "metadata": {
    "hidden": true
   },
   "source": [
    "### <i>4.2.1 validating hypothesis raised</i>"
   ]
  },
  {
   "cell_type": "markdown",
   "id": "115fe8a9",
   "metadata": {
    "hidden": true
   },
   "source": [
    "### <i>4.2.2 statistical hypothesis testing</i>"
   ]
  },
  {
   "cell_type": "markdown",
   "id": "0c6eafbf",
   "metadata": {
    "ExecuteTime": {
     "end_time": "2022-04-04T02:05:06.715516Z",
     "start_time": "2022-04-04T02:05:06.711122Z"
    },
    "heading_collapsed": true,
    "hidden": true
   },
   "source": [
    "## <font color=\"gray\"> 4.3 Multivariate analysis </font>"
   ]
  },
  {
   "cell_type": "markdown",
   "id": "eed13709",
   "metadata": {
    "hidden": true
   },
   "source": [
    "### <i>4.3.1 numerical attributes</i>"
   ]
  },
  {
   "cell_type": "markdown",
   "id": "93454c34",
   "metadata": {
    "hidden": true
   },
   "source": [
    "### <i>4.3.2 categorical attributes</i>"
   ]
  },
  {
   "cell_type": "markdown",
   "id": "f22a802e",
   "metadata": {
    "ExecuteTime": {
     "end_time": "2022-04-04T02:15:14.271780Z",
     "start_time": "2022-04-04T02:15:14.269408Z"
    },
    "heading_collapsed": true
   },
   "source": [
    "# 5.0 Data preparation"
   ]
  },
  {
   "cell_type": "code",
   "execution_count": null,
   "id": "f05d6268",
   "metadata": {
    "hidden": true
   },
   "outputs": [],
   "source": []
  },
  {
   "cell_type": "markdown",
   "id": "50b32a39",
   "metadata": {
    "ExecuteTime": {
     "end_time": "2022-04-04T02:05:06.715516Z",
     "start_time": "2022-04-04T02:05:06.711122Z"
    },
    "hidden": true
   },
   "source": [
    "## <font color=\"gray\"> 5.1 Train/Test split </font>"
   ]
  },
  {
   "cell_type": "markdown",
   "id": "7ef72278",
   "metadata": {
    "ExecuteTime": {
     "end_time": "2022-04-04T02:05:06.715516Z",
     "start_time": "2022-04-04T02:05:06.711122Z"
    },
    "hidden": true
   },
   "source": [
    "## <font color=\"gray\"> 5.2 Scaling - numerical attributes </font>"
   ]
  },
  {
   "cell_type": "markdown",
   "id": "7d8ad552",
   "metadata": {
    "ExecuteTime": {
     "end_time": "2022-04-04T02:05:06.715516Z",
     "start_time": "2022-04-04T02:05:06.711122Z"
    },
    "hidden": true
   },
   "source": [
    "## <font color=\"gray\"> 5.3 Encoding - categorical attributes </font>"
   ]
  },
  {
   "cell_type": "markdown",
   "id": "a1ec1fd8",
   "metadata": {
    "ExecuteTime": {
     "end_time": "2022-04-04T02:15:14.271780Z",
     "start_time": "2022-04-04T02:15:14.269408Z"
    },
    "heading_collapsed": true
   },
   "source": [
    "# 6.0 Feature selection"
   ]
  },
  {
   "cell_type": "code",
   "execution_count": null,
   "id": "5dab82f1",
   "metadata": {
    "hidden": true
   },
   "outputs": [],
   "source": []
  },
  {
   "cell_type": "markdown",
   "id": "a543f90f",
   "metadata": {
    "ExecuteTime": {
     "end_time": "2022-04-04T02:05:06.715516Z",
     "start_time": "2022-04-04T02:05:06.711122Z"
    },
    "hidden": true
   },
   "source": [
    "## <font color=\"gray\"> 6.1 Boruta algorithm </font>"
   ]
  },
  {
   "cell_type": "markdown",
   "id": "53c464e3",
   "metadata": {
    "ExecuteTime": {
     "end_time": "2022-04-04T02:05:06.715516Z",
     "start_time": "2022-04-04T02:05:06.711122Z"
    },
    "hidden": true
   },
   "source": [
    "## <font color=\"gray\"> 6.2 Columns selected by Boruta</font>"
   ]
  },
  {
   "cell_type": "markdown",
   "id": "31a8cdf3",
   "metadata": {
    "ExecuteTime": {
     "end_time": "2022-04-04T02:15:14.271780Z",
     "start_time": "2022-04-04T02:15:14.269408Z"
    },
    "heading_collapsed": true
   },
   "source": [
    "# 7.0 Machine learning"
   ]
  },
  {
   "cell_type": "code",
   "execution_count": null,
   "id": "5e9286f6",
   "metadata": {
    "hidden": true
   },
   "outputs": [],
   "source": []
  },
  {
   "cell_type": "markdown",
   "id": "679577ff",
   "metadata": {
    "ExecuteTime": {
     "end_time": "2022-04-04T02:05:06.715516Z",
     "start_time": "2022-04-04T02:05:06.711122Z"
    },
    "hidden": true
   },
   "source": [
    "## <font color=\"gray\"> 7.1 Baseline model </font>"
   ]
  },
  {
   "cell_type": "markdown",
   "id": "8d5f735e",
   "metadata": {
    "ExecuteTime": {
     "end_time": "2022-04-04T02:05:06.715516Z",
     "start_time": "2022-04-04T02:05:06.711122Z"
    },
    "hidden": true
   },
   "source": [
    "## <font color=\"gray\"> 7.2 Logistic Regression </font>"
   ]
  },
  {
   "cell_type": "markdown",
   "id": "09a1bc0e",
   "metadata": {
    "ExecuteTime": {
     "end_time": "2022-04-04T02:05:06.715516Z",
     "start_time": "2022-04-04T02:05:06.711122Z"
    },
    "hidden": true
   },
   "source": [
    "## <font color=\"gray\"> 7.3 Random Forest </font>"
   ]
  },
  {
   "cell_type": "markdown",
   "id": "95f17977",
   "metadata": {
    "ExecuteTime": {
     "end_time": "2022-04-04T02:05:06.715516Z",
     "start_time": "2022-04-04T02:05:06.711122Z"
    },
    "hidden": true
   },
   "source": [
    "## <font color=\"gray\"> 7.4 XGBoost </font>"
   ]
  },
  {
   "cell_type": "markdown",
   "id": "48b6377f",
   "metadata": {
    "ExecuteTime": {
     "end_time": "2022-04-04T02:05:06.715516Z",
     "start_time": "2022-04-04T02:05:06.711122Z"
    },
    "hidden": true
   },
   "source": [
    "## <font color=\"gray\"> 7.5 KNN </font>"
   ]
  },
  {
   "cell_type": "markdown",
   "id": "c36665df",
   "metadata": {
    "hidden": true
   },
   "source": [
    "Cross validation"
   ]
  },
  {
   "cell_type": "markdown",
   "id": "e8869c7a",
   "metadata": {
    "ExecuteTime": {
     "end_time": "2022-04-04T02:15:14.271780Z",
     "start_time": "2022-04-04T02:15:14.269408Z"
    },
    "heading_collapsed": true
   },
   "source": [
    "# 8.0 Hyperparameter fine tuning"
   ]
  },
  {
   "cell_type": "code",
   "execution_count": null,
   "id": "9b2797c1",
   "metadata": {
    "hidden": true
   },
   "outputs": [],
   "source": []
  },
  {
   "cell_type": "markdown",
   "id": "8e16e0d7",
   "metadata": {
    "ExecuteTime": {
     "end_time": "2022-04-04T02:05:06.715516Z",
     "start_time": "2022-04-04T02:05:06.711122Z"
    },
    "hidden": true
   },
   "source": [
    "## <font color=\"gray\"> 8.1 Random search </font>"
   ]
  },
  {
   "cell_type": "markdown",
   "id": "5911374b",
   "metadata": {
    "ExecuteTime": {
     "end_time": "2022-04-04T02:05:06.715516Z",
     "start_time": "2022-04-04T02:05:06.711122Z"
    },
    "hidden": true
   },
   "source": [
    "## <font color=\"gray\"> 8.2 Tuned final model </font>"
   ]
  },
  {
   "cell_type": "markdown",
   "id": "a4c7d7a2",
   "metadata": {
    "ExecuteTime": {
     "end_time": "2022-04-04T02:15:14.271780Z",
     "start_time": "2022-04-04T02:15:14.269408Z"
    },
    "heading_collapsed": true
   },
   "source": [
    "# 9.0 Error interpretation"
   ]
  },
  {
   "cell_type": "code",
   "execution_count": null,
   "id": "d5110788",
   "metadata": {
    "hidden": true
   },
   "outputs": [],
   "source": []
  },
  {
   "cell_type": "markdown",
   "id": "ee584881",
   "metadata": {
    "ExecuteTime": {
     "end_time": "2022-04-04T02:05:06.715516Z",
     "start_time": "2022-04-04T02:05:06.711122Z"
    },
    "heading_collapsed": true,
    "hidden": true
   },
   "source": [
    "## <font color=\"gray\"> 9.1 Main </font>"
   ]
  },
  {
   "cell_type": "markdown",
   "id": "7622e9f2",
   "metadata": {
    "ExecuteTime": {
     "end_time": "2022-04-04T02:15:14.271780Z",
     "start_time": "2022-04-04T02:15:14.269408Z"
    },
    "heading_collapsed": true
   },
   "source": [
    "# 10.0 Deploy"
   ]
  },
  {
   "cell_type": "markdown",
   "id": "c952557a",
   "metadata": {
    "ExecuteTime": {
     "end_time": "2022-04-04T02:05:06.715516Z",
     "start_time": "2022-04-04T02:05:06.711122Z"
    },
    "heading_collapsed": true,
    "hidden": true
   },
   "source": [
    "## <font color=\"gray\"> 10.1 Class data_prep.py </font>"
   ]
  },
  {
   "cell_type": "code",
   "execution_count": null,
   "id": "d92f3b1c",
   "metadata": {
    "hidden": true
   },
   "outputs": [],
   "source": []
  },
  {
   "cell_type": "code",
   "execution_count": null,
   "id": "73d77392",
   "metadata": {
    "hidden": true
   },
   "outputs": [],
   "source": []
  },
  {
   "cell_type": "markdown",
   "id": "895c86b0",
   "metadata": {
    "ExecuteTime": {
     "end_time": "2022-04-04T02:05:06.715516Z",
     "start_time": "2022-04-04T02:05:06.711122Z"
    },
    "heading_collapsed": true,
    "hidden": true
   },
   "source": [
    "## <font color=\"gray\"> 10.2 API_handler.py </font>"
   ]
  },
  {
   "cell_type": "code",
   "execution_count": null,
   "id": "5881546c",
   "metadata": {
    "hidden": true
   },
   "outputs": [],
   "source": []
  },
  {
   "cell_type": "markdown",
   "id": "fa4a161b",
   "metadata": {
    "ExecuteTime": {
     "end_time": "2022-04-04T02:05:06.715516Z",
     "start_time": "2022-04-04T02:05:06.711122Z"
    },
    "heading_collapsed": true,
    "hidden": true
   },
   "source": [
    "## <font color=\"gray\"> 10.3 API tester local </font>"
   ]
  },
  {
   "cell_type": "code",
   "execution_count": null,
   "id": "6cef4da6",
   "metadata": {
    "hidden": true
   },
   "outputs": [],
   "source": []
  },
  {
   "cell_type": "markdown",
   "id": "ad83170d",
   "metadata": {
    "ExecuteTime": {
     "end_time": "2022-04-04T02:05:06.715516Z",
     "start_time": "2022-04-04T02:05:06.711122Z"
    },
    "heading_collapsed": true,
    "hidden": true
   },
   "source": [
    "## <font color=\"gray\"> 10.4 API tester remote/cloud </font>"
   ]
  },
  {
   "cell_type": "code",
   "execution_count": null,
   "id": "8a452166",
   "metadata": {
    "hidden": true
   },
   "outputs": [],
   "source": []
  }
 ],
 "metadata": {
  "kernelspec": {
   "display_name": "Python 3 (ipykernel)",
   "language": "python",
   "name": "python3"
  },
  "language_info": {
   "codemirror_mode": {
    "name": "ipython",
    "version": 3
   },
   "file_extension": ".py",
   "mimetype": "text/x-python",
   "name": "python",
   "nbconvert_exporter": "python",
   "pygments_lexer": "ipython3",
   "version": "3.8.0"
  },
  "toc": {
   "base_numbering": 1,
   "nav_menu": {},
   "number_sections": false,
   "sideBar": true,
   "skip_h1_title": false,
   "title_cell": "Table of Contents",
   "title_sidebar": "Contents",
   "toc_cell": false,
   "toc_position": {
    "height": "calc(100% - 180px)",
    "left": "10px",
    "top": "150px",
    "width": "438px"
   },
   "toc_section_display": true,
   "toc_window_display": true
  },
  "varInspector": {
   "cols": {
    "lenName": 16,
    "lenType": 16,
    "lenVar": 40
   },
   "kernels_config": {
    "python": {
     "delete_cmd_postfix": "",
     "delete_cmd_prefix": "del ",
     "library": "var_list.py",
     "varRefreshCmd": "print(var_dic_list())"
    },
    "r": {
     "delete_cmd_postfix": ") ",
     "delete_cmd_prefix": "rm(",
     "library": "var_list.r",
     "varRefreshCmd": "cat(var_dic_list()) "
    }
   },
   "types_to_exclude": [
    "module",
    "function",
    "builtin_function_or_method",
    "instance",
    "_Feature"
   ],
   "window_display": false
  }
 },
 "nbformat": 4,
 "nbformat_minor": 5
}
